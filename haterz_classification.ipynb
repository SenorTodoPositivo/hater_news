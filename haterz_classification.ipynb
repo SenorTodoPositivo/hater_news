{
 "metadata": {
  "name": "",
  "signature": "sha256:33ea19011dab4975b41a22837e37b0af57803784d7666d00a6b9a5daed94ac9b"
 },
 "nbformat": 3,
 "nbformat_minor": 0,
 "worksheets": [
  {
   "cells": [
    {
     "cell_type": "markdown",
     "metadata": {},
     "source": [
      "![](http://www.blogcdn.com/www.urlesque.com/media/2010/05/haterafrican.jpg)\n",
      "\n",
      "# Hater News\n",
      "\n",
      "Haterz gonna hate. But now you know who the haterz are.\n",
      "\n",
      "###My Goal:\n",
      "\n",
      "Be able to look at any user from [hacker news](https://news.ycombinator.com/) and be able to tell if they are a \"hater\" or not based on a score I give them. \n",
      "\n",
      "###Feel free to look under the hood.\n",
      "\n",
      "[The Classifier Data I'm Using.](https://www.kaggle.com/c/detecting-insults-in-social-commentary/data)\n",
      "\n",
      "[Hacker News API I'm Using.](https://github.com/HackerNews/API)\n",
      "\n",
      "*Eventually I would love to turn this into a [Chrome App](https://developer.chrome.com/extensions/getstarted) that will just real-time analize any user on a page when you visit hacker news and put a score right next to them so the world can see if they hate or love.*"
     ]
    },
    {
     "cell_type": "markdown",
     "metadata": {},
     "source": [
      "#Lets Get Started! \n",
      "We will begin by importing all of the required items we need from things like [scikit learn](http://scikit-learn.org/stable/), [pandas](http://pandas.pydata.org/pandas-docs/stable/10min.html), [numpy](http://www.numpy.org/), and even play around with things like [nlk](http://www.nltk.org/) and [re](https://docs.python.org/2/library/re.html).\n",
      "\n",
      "The basic idea will be to split out each comment, create features based on things like if a word shows up in a comment or not, if insulting words appear, and other types of features. Once I have that then I will add in a classifier and if it scores well we are on our way to finding haters!"
     ]
    },
    {
     "cell_type": "code",
     "collapsed": false,
     "input": [
      "# Importing my standard stuff\n",
      "import pandas as pd\n",
      "import numpy as np\n",
      "\n",
      "# Importing different Vectorizers to see what makes my soul sing the loudest.\n",
      "from sklearn.feature_extraction.text import TfidfVectorizer\n",
      "from sklearn.feature_extraction.text import CountVectorizer\n",
      "\n",
      "# Importing various Classifiers to see what wins out. There can only be one! \n",
      "from sklearn.linear_model import Perceptron\n",
      "from sklearn.svm import LinearSVC\n",
      "from sklearn.svm import SVC\n",
      "from sklearn.linear_model import LogisticRegression\n",
      "\n",
      "# Snagging the validation stuff to see how well things do.\n",
      "from sklearn.pipeline import Pipeline\n",
      "from sklearn.cross_validation import cross_val_score\n",
      "\n",
      "\n",
      "# Getting Stopwords to potentially improve accuracy.\n",
      "from nltk.corpus import stopwords\n",
      "\n",
      "# Messing with tokenization via NLTK\n",
      "from nltk import word_tokenize, pos_tag\n",
      "# Messing with Stemming\n",
      "from nltk.stem import PorterStemmer\n",
      "# Messing with Lemmatizing\n",
      "from nltk.stem.wordnet import WordNetLemmatizer\n",
      "\n",
      "# Messing with some other string splitting techniques. You can use the following thing like this:\n",
      "# re.split('; |, ',str)\n",
      "import re"
     ],
     "language": "python",
     "metadata": {},
     "outputs": [],
     "prompt_number": 47
    },
    {
     "cell_type": "markdown",
     "metadata": {},
     "source": [
      "#Exploring Different Ways To Achieve My Goal.\n",
      "\n",
      "Here I am importing my data using **pandas**, pulling out the right features and assigning them to my X & y to put into my models. You'll notice that I'm actually using both my test & training data in a single variable because of how [cross_val_score](http://scikit-learn.org/stable/modules/generated/sklearn.cross_validation.cross_val_score.html) works later on."
     ]
    },
    {
     "cell_type": "code",
     "collapsed": false,
     "input": [
      "# Setting up my english stopwords, yo.\n",
      "stopwords = stopwords.words('english')\n",
      "\n",
      "# Here I combined my training & test data. I will used this as main total \"training\" data in production & for cross_val stuff.\n",
      "corpus = pd.read_csv('data/total_data.csv')\n",
      "\n",
      "# Setting Up my X & y\n",
      "X_raw = corpus.Comment\n",
      "y_raw = corpus.Insult\n",
      "    \n",
      "# Setting Up My Different Pipelines. I tried out several different combos to see where to go next.\n",
      "pipeline = Pipeline([\n",
      "                     ('vect', TfidfVectorizer(binary=True, use_idf=True, stop_words='english')),\n",
      "                     ('clf', LogisticRegression())\n",
      "])\n",
      "\n",
      "other_pipeline = Pipeline([\n",
      "                     ('vect', CountVectorizer(binary=True)),\n",
      "                     ('clf', LogisticRegression())\n",
      "])\n",
      "\n",
      "\n",
      "LSVC_pipeline = Pipeline([\n",
      "                     ('vect',  TfidfVectorizer(binary=True, use_idf=True, stop_words='english')),\n",
      "                     ('clf', LinearSVC())\n",
      "])\n",
      "\n",
      "Perceptron_pipeline = Pipeline([\n",
      "                     ('vect',  TfidfVectorizer(binary=True, use_idf=True, stop_words='english')),\n",
      "                     ('clf', Perceptron())\n",
      "])\n"
     ],
     "language": "python",
     "metadata": {},
     "outputs": [],
     "prompt_number": 48
    },
    {
     "cell_type": "markdown",
     "metadata": {},
     "source": [
      "# EVALUATION TIME!\n",
      "Here I am looking at **Accuracy**, **Precision**, & **Recall** ([learn more](http://en.wikipedia.org/wiki/Precision_and_recall)) and using the **cross_val_score** method which splits up my data, takes the **pipelines** I made, and then evaluates it over and over, in different combinations against itself to get a reliable score.\n",
      "\n",
      "I want a good overall score but I would also like to improve my Recall as much as possible. Recall gives me a measurement of false negatives, meaning a score based on if I miss-classify something by saying a comment is NOT insulting when in fact it actually is. I am interested in a high score using this measurement to ensure [no hater is left behind](http://www.quickmeme.com/img/a3/a3e69566093ab74d0625a7c5892cade8c2adeecd86112356875ff2b05fcd020d.jpg). "
     ]
    },
    {
     "cell_type": "code",
     "collapsed": false,
     "input": [
      "\n",
      "\n",
      "# THE INITIAL 'STATNDARD' MODEL I STARTED WITH\n",
      "accuracy_scores = cross_val_score(pipeline, X_raw, y_raw, cv=5)\n",
      "precision_scores = cross_val_score(pipeline, X_raw, y_raw, cv=5, scoring='precision')\n",
      "recall_scores = cross_val_score(pipeline, X_raw, y_raw, cv=5, scoring='recall')\n",
      "\n",
      "print \"***************OUR RESULTS***************\"\n",
      "print\n",
      "print \n",
      "\n",
      "print \"TfidfVect + Logistic Regression\"\n",
      "print \"-------------------------------\"\n",
      "print \"Accuracy:\", accuracy_scores, \"Mean:\", np.mean(accuracy_scores)\n",
      "print \"Precision:\", precision_scores, \"Mean:\", np.mean(precision_scores)\n",
      "print \"Recall:\", recall_scores, \"Mean:\", np.mean(recall_scores)\n",
      "\n",
      "\n",
      "\n",
      "\n",
      "# VS NORMAL COUNT VECTORIZER **NOTE** Out of all of the models without extra features, this performed the best for my goals.\n",
      "\n",
      "other_accuracy_scores = cross_val_score(other_pipeline, X_raw, y_raw, cv=5)\n",
      "other_precision_scores = cross_val_score(other_pipeline, X_raw, y_raw, cv=5, scoring='precision')\n",
      "other_recall_scores = cross_val_score(other_pipeline, X_raw, y_raw, cv=5, scoring='recall')\n",
      "print\n",
      "print\n",
      "print \"CountVect + Logistic Regression\"\n",
      "print \"-------------------------------\"\n",
      "print \"Accuracy:\", other_accuracy_scores, \"Mean:\", np.mean(other_accuracy_scores)\n",
      "print \"Precision:\", other_precision_scores, \"Mean:\", np.mean(other_precision_scores)\n",
      "print \"Recall:\", other_recall_scores, \"Mean:\", np.mean(other_recall_scores)\n",
      "\n",
      "\n",
      "\n",
      "\n",
      "# VS NORMAL COUNT VECTORIZER\n",
      "\n",
      "LSVC_accuracy_scores = cross_val_score(LSVC_pipeline, X_raw, y_raw, cv=5)\n",
      "LSVC_precision_scores = cross_val_score(LSVC_pipeline, X_raw, y_raw, cv=5, scoring='precision')\n",
      "LSVC_recall_scores = cross_val_score(LSVC_pipeline, X_raw, y_raw, cv=5, scoring='recall')\n",
      "print\n",
      "print\n",
      "print \"TfidfVect + LinearSVC\"\n",
      "print \"-------------------------------\"\n",
      "print \"Accuracy:\", LSVC_accuracy_scores, \"Mean:\", np.mean(LSVC_accuracy_scores)\n",
      "print \"Precision:\", LSVC_precision_scores, \"Mean:\", np.mean(LSVC_precision_scores)\n",
      "print \"Recall:\", LSVC_recall_scores, \"Mean:\", np.mean(LSVC_recall_scores)\n",
      "\n",
      "\n",
      "\n",
      "\n",
      "\n",
      "# VS NORMAL COUNT VECTORIZER\n",
      "\n",
      "Perceptron_accuracy_scores = cross_val_score(Perceptron_pipeline, X_raw, y_raw, cv=5)\n",
      "Perceptron_precision_scores = cross_val_score(Perceptron_pipeline, X_raw, y_raw, cv=5, scoring='precision')\n",
      "Perceptron_recall_scores = cross_val_score(Perceptron_pipeline, X_raw, y_raw, cv=5, scoring='recall')\n",
      "print\n",
      "print\n",
      "print \"TfidfVect + Percptron\"\n",
      "print \"-------------------------------\"\n",
      "print \"Accuracy:\", Perceptron_accuracy_scores, \"Mean:\", np.mean(Perceptron_accuracy_scores)\n",
      "print \"Precision:\", Perceptron_precision_scores, \"Mean:\", np.mean(Perceptron_precision_scores)\n",
      "print \"Recall:\", Perceptron_recall_scores, \"Mean:\", np.mean(Perceptron_recall_scores)"
     ],
     "language": "python",
     "metadata": {},
     "outputs": [
      {
       "output_type": "stream",
       "stream": "stdout",
       "text": [
        "***************OUR RESULTS***************\n",
        "\n",
        "\n",
        "TfidfVect + Logistic Regression\n",
        "-------------------------------\n",
        "Accuracy: [ 0.81969697  0.81439394  0.81790592  0.81942337  0.81866464] Mean: 0.818016967858\n",
        "Precision: [ 0.85806452  0.825       0.84615385  0.8313253   0.84713376] Mean: 0.84153548429\n",
        "Recall: [ 0.38108883  0.3782235   0.37931034  0.39655172  0.38218391] Mean: 0.383471659586\n",
        "\n"
       ]
      },
      {
       "output_type": "stream",
       "stream": "stdout",
       "text": [
        "\n",
        "CountVect + Logistic Regression\n",
        "-------------------------------\n",
        "Accuracy: [ 0.83939394  0.84848485  0.84218513  0.84825493  0.84066768] Mean: 0.843797305375\n",
        "Precision: [ 0.75464684  0.76895307  0.74137931  0.75694444  0.73793103] Mean: 0.751970939603\n",
        "Recall: [ 0.58166189  0.61031519  0.61781609  0.62643678  0.61494253] Mean: 0.610234495933\n",
        "\n"
       ]
      },
      {
       "output_type": "stream",
       "stream": "stdout",
       "text": [
        "\n",
        "TfidfVect + LinearSVC\n",
        "-------------------------------\n",
        "Accuracy: [ 0.83181818  0.82878788  0.8323217   0.84066768  0.82776935] Mean: 0.832272957189\n",
        "Precision: [ 0.74329502  0.743083    0.73605948  0.75367647  0.7122807 ] Mean: 0.737678935001\n",
        "Recall: [ 0.55587393  0.53868195  0.56896552  0.58908046  0.58333333] Mean: 0.567187036854\n",
        "\n"
       ]
      },
      {
       "output_type": "stream",
       "stream": "stdout",
       "text": [
        "\n",
        "TfidfVect + Percptron\n",
        "-------------------------------\n",
        "Accuracy: [ 0.8         0.80606061  0.79742033  0.79817906  0.79362671] Mean: 0.799057341242\n",
        "Precision: [ 0.64214047  0.63716814  0.6231003   0.61452514  0.60795455] Mean: 0.624977719778\n",
        "Recall: [ 0.55014327  0.61891117  0.58908046  0.63218391  0.61494253] Mean: 0.601052267562\n"
       ]
      }
     ],
     "prompt_number": 49
    },
    {
     "cell_type": "markdown",
     "metadata": {},
     "source": [
      "\n",
      "\n",
      "#Now That I Have A Baseline, Time to Pick A Model And Build It Out Further. \n",
      "\n",
      "I ended it up picking **CountVectorizer + Logistic Regression** which you will see further down. In order to improve the score I started to play with extra features adding them manually and \"hand making\" them. These are almost meta data about each document that I was hoping would help give extra information to my classifier. They are things like How many \"bad words\" are used in a specific comment or the ratio of bad words used vs how many words total were in a comment. I even tried to look at things like if someone spoke in all CAPS or not to see if that could help predict if the comment is insulting or not.\n"
     ]
    },
    {
     "cell_type": "code",
     "collapsed": false,
     "input": [
      "# Setting up our actually train and test data sets\n",
      "train_corpus = pd.read_csv('data/train.csv')\n",
      "test_corpus = pd.read_csv('data/test_with_solutions.csv')\n",
      "\n",
      "# Getting our list of \"badwords\"\n",
      "badwords = set(pd.read_csv('data/my_badwords.csv').words)\n",
      "\n",
      "# If you would like to see what some of these words look like, play with this:\n",
      "print \"Some Badwords We Will Check:\", list(badwords)[0:9]\n",
      "print \n",
      "\n",
      "# Setting Up my X & y\n",
      "# NOTE: If you want to use all the data (including the test data), uncomment out the other X & y trains below.\n",
      "X_train = train_corpus.Comment\n",
      "y_train = train_corpus.Insult\n",
      "# X_train = corpus.Comment\n",
      "# y_train = corpus.Insult\n",
      "\n",
      "X_test = test_corpus.Comment\n",
      "y_test = test_corpus.Insult\n",
      "\n",
      "# Just giving feedback so we know if we are using all of the data to train the model or not.\n",
      "print \"X_train's number of instances:\",X_train.shape[0]\n",
      "print\n",
      "\n",
      "if X_train.shape[0] > train_corpus.Comment.shape[0]:\n",
      "    print \"*************************************************************************************************************\"\n",
      "    print \"***JUST AN FYI, YOU'RE USING BOTH THE TRAINING & TESTING DATA FOR TRAINING. SHOULD BE FOR PRODUCTION ONLY.***\"\n",
      "    print \"*************************************************************************************************************\"\n",
      "else:\n",
      "    print \"----------------------------------------------------------------------\"\n",
      "    print \"You are using just the training data for training. Makes sense, right?\"\n",
      "    print \"----------------------------------------------------------------------\"\n",
      "    "
     ],
     "language": "python",
     "metadata": {},
     "outputs": [
      {
       "output_type": "stream",
       "stream": "stdout",
       "text": [
        "Some Badwords We Will Check: ['bugger', 'jizz', 'l3i+ch', 'f u c k e r', 's hit', 'ma5terbate', 'bum', 'bimbo', 'pimpis']\n",
        "\n",
        "X_train's number of instances: 3947\n",
        "\n",
        "----------------------------------------------------------------------\n",
        "You are using just the training data for training. Makes sense, right?\n",
        "----------------------------------------------------------------------\n"
       ]
      }
     ],
     "prompt_number": 50
    },
    {
     "cell_type": "markdown",
     "metadata": {},
     "source": [
      "#Adding In Extra Features.\n",
      "\n",
      "Here I add in various extra features to help my classifier out. These are features that I had to manually create and add into my model so I didn't use cross_val_score and had to evaluate them manually. \n",
      "\n",
      "###Features I added to improve the model are the following:\n",
      "* **badwords_count - **A count of bad words used in each comment.\n",
      "* **n_words - **A count of words used in each comment.\n",
      "* **allcaps - **A count of capital letters in each comment.\n",
      "* **allcaps_ratio - **A count of capital letters in each comment / the total words used in each comment.\n",
      "* **bad_ratio - **A count of bad words used in each comment / the total words used in each comment.\n",
      "* **exclamation - **A count of \"!\" used in each comment.\n",
      "* **addressing - **A count of \"@\" symbols used in each comment.\n",
      "* **spaces - **A count of spaces used in each comment.\n"
     ]
    },
    {
     "cell_type": "code",
     "collapsed": false,
     "input": [
      "# Since I was unhappy with aspects of my score, I added addtional features my classifier can use\n",
      "\n",
      "# This is just a count of how many bad word\n",
      "train_badwords_count = []\n",
      "test_badwords_count = []\n",
      "\n",
      "for el in X_train:\n",
      "    tokens = el.split(' ')\n",
      "    train_badwords_count.append(len([i for i in tokens if i.lower() in badwords]))\n",
      "    \n",
      "for el in X_test:\n",
      "    tokens = el.split(' ')\n",
      "    test_badwords_count.append(len([i for i in tokens if i.lower() in badwords]))\n",
      "    \n",
      "# **SHOUT OUT**\n",
      "# I was messing with stuff from Andreas Mueller for these next features. Thanks man! :) \n",
      "# His Blog Post on this: http://blog.kaggle.com/2012/09/26/impermium-andreas-blog/ \n",
      "# **SHOUT OUT**\n",
      "    \n",
      "train_n_words = [len(c.split()) for c in X_train]\n",
      "test_n_words = [len(c.split()) for c in X_test]\n",
      "\n",
      "train_allcaps = [np.sum([w.isupper() for w in comment.split()]) for comment in X_train]\n",
      "test_allcaps = [np.sum([w.isupper() for w in comment.split()]) for comment in X_test]\n",
      "\n",
      "train_allcaps_ratio = np.array(train_allcaps) / np.array(train_n_words, dtype=np.float)\n",
      "test_allcaps_ratio = np.array(test_allcaps) / np.array(test_n_words, dtype=np.float)\n",
      "\n",
      "train_bad_ratio = np.array(train_badwords_count) / np.array(train_n_words, dtype=np.float)\n",
      "test_bad_ratio = np.array(test_badwords_count) / np.array(test_n_words, dtype=np.float)\n",
      "\n",
      "train_exclamation = [c.count(\"!\") for c in X_train]\n",
      "test_exclamation = [c.count(\"!\") for c in X_test]\n",
      "\n",
      "train_addressing = [c.count(\"@\") for c in X_train]\n",
      "test_addressing = [c.count(\"@\") for c in X_test]\n",
      "\n",
      "train_spaces = [c.count(\" \") for c in X_train]\n",
      "test_spaces = [c.count(\" \") for c in X_test]\n",
      "\n",
      "\n",
      "print \"train_badwords count:\", len(train_badwords_count), \"test_badwords count:\", len(test_badwords_count),\n",
      "print \"train_allcaps count:\", len(train_allcaps), \"test_allcaps count:\", len(test_allcaps)"
     ],
     "language": "python",
     "metadata": {},
     "outputs": [
      {
       "output_type": "stream",
       "stream": "stdout",
       "text": [
        "train_badwords count: 3947 test_badwords count: 2647 train_allcaps count: 3947 test_allcaps count: 2647\n"
       ]
      }
     ],
     "prompt_number": 51
    },
    {
     "cell_type": "markdown",
     "metadata": {},
     "source": [
      "#Time To Pick Our Model & Add In Our New Features.\n",
      "Now that we have our new features we need to pick a vectorizer, smash the new features inside of our vectorized old features, and evaluated everything with our classfier."
     ]
    },
    {
     "cell_type": "code",
     "collapsed": false,
     "input": [
      "# SIDE NOTE: TfidfVectorizer sucks for this type of problem. Well, you could use it and not use idf and it does get better but not too much...\n",
      "# vect = TfidfVectorizer(binary=True, use_idf=True, stop_words='english')\n",
      "vect = CountVectorizer(binary=True)\n",
      "clf = LogisticRegression()"
     ],
     "language": "python",
     "metadata": {},
     "outputs": [],
     "prompt_number": 52
    },
    {
     "cell_type": "markdown",
     "metadata": {},
     "source": [
      "###*Side Note: This is the \"smashing\" process I was talking about.\n",
      "I'm basically fiting and transforming our features via our vectorizer and then useing [.reshape( )](http://docs.scipy.org/doc/numpy/reference/generated/numpy.reshape.html) & [np.hstack( )](http://docs.scipy.org/doc/numpy/reference/generated/numpy.hstack.html) to manually add in our extra features."
     ]
    },
    {
     "cell_type": "code",
     "collapsed": false,
     "input": [
      "X_train_transform = vect.fit_transform(X_train)\n",
      "X_test_transform = vect.transform(X_test)\n",
      "\n",
      "train_reshaped_badwords = np.array(train_badwords_count).reshape((len(train_badwords_count),1))\n",
      "test_reshaped_badwords = np.array(test_badwords_count).reshape((len(test_badwords_count),1))\n",
      "\n",
      "train_reshaped_n_words = np.array(train_n_words).reshape((len(train_badwords_count),1))\n",
      "test_reshaped_n_words = np.array(test_n_words).reshape((len(test_badwords_count),1))\n",
      "\n",
      "train_reshaped_allcaps = np.array(train_allcaps).reshape((len(train_badwords_count),1))\n",
      "test_reshaped_allcaps = np.array(test_allcaps).reshape((len(test_badwords_count),1))\n",
      "\n",
      "train_reshaped_allcaps_ratio = np.array(train_allcaps_ratio).reshape((len(train_badwords_count),1))\n",
      "test_reshaped_allcaps_ratio = np.array(test_allcaps_ratio).reshape((len(test_badwords_count),1))\n",
      "\n",
      "train_reshaped_bad_ratio = np.array(train_bad_ratio).reshape((len(train_badwords_count),1))\n",
      "test_reshaped_bad_ratio = np.array(test_bad_ratio).reshape((len(test_badwords_count),1))\n",
      "\n",
      "train_reshaped_exclamation = np.array(train_exclamation).reshape((len(train_badwords_count),1))\n",
      "test_reshaped_exclamation = np.array(test_exclamation).reshape((len(test_badwords_count),1))\n",
      "\n",
      "train_reshaped_addressing = np.array(train_addressing).reshape((len(train_badwords_count),1))\n",
      "test_reshaped_addressing = np.array(test_addressing).reshape((len(test_badwords_count),1))\n",
      "\n",
      "train_reshaped_spaces = np.array(train_spaces).reshape((len(train_badwords_count),1))\n",
      "test_reshaped_spaces = np.array(test_spaces).reshape((len(test_badwords_count),1))\n",
      "\n",
      "\n",
      "\n",
      "X_train_transform = np.hstack((X_train_transform.todense(), train_reshaped_badwords))\n",
      "X_test_transform = np.hstack((X_test_transform.todense(), test_reshaped_badwords))\n",
      "\n",
      "X_train_transform = np.hstack((X_train_transform, train_reshaped_n_words))\n",
      "X_test_transform = np.hstack((X_test_transform, test_reshaped_n_words))\n",
      "\n",
      "X_train_transform = np.hstack((X_train_transform, train_reshaped_allcaps))\n",
      "X_test_transform = np.hstack((X_test_transform, test_reshaped_allcaps))\n",
      "\n",
      "X_train_transform = np.hstack((X_train_transform, train_reshaped_allcaps_ratio))\n",
      "X_test_transform = np.hstack((X_test_transform, test_reshaped_allcaps_ratio))\n",
      "\n",
      "X_train_transform = np.hstack((X_train_transform, train_reshaped_bad_ratio))\n",
      "X_test_transform = np.hstack((X_test_transform, test_reshaped_bad_ratio))\n",
      "\n",
      "X_train_transform = np.hstack((X_train_transform, train_reshaped_exclamation))\n",
      "X_test_transform = np.hstack((X_test_transform, test_reshaped_exclamation))\n",
      "\n",
      "X_train_transform = np.hstack((X_train_transform, train_reshaped_addressing))\n",
      "X_test_transform = np.hstack((X_test_transform, test_reshaped_addressing))\n",
      "\n",
      "X_train_transform = np.hstack((X_train_transform, train_reshaped_spaces))\n",
      "X_test_transform = np.hstack((X_test_transform, test_reshaped_spaces))"
     ],
     "language": "python",
     "metadata": {},
     "outputs": [],
     "prompt_number": 53
    },
    {
     "cell_type": "markdown",
     "metadata": {},
     "source": [
      "#Scoring Our New Model.\n",
      "Finally We get to see our new score. It seems to be doing a bit better but to start to look at recall and other measures we can set our predictions and then see how many items we missed and in what ways we missed them. Execute the final cells to see the scores."
     ]
    },
    {
     "cell_type": "code",
     "collapsed": false,
     "input": [
      "clf.fit(X_train_transform,y_train)\n",
      "predictions = clf.predict(X_test_transform)\n",
      "clf.score(X_test_transform, y_test)"
     ],
     "language": "python",
     "metadata": {},
     "outputs": [
      {
       "metadata": {},
       "output_type": "pyout",
       "prompt_number": 54,
       "text": [
        "0.84435209671326028"
       ]
      }
     ],
     "prompt_number": 54
    },
    {
     "cell_type": "code",
     "collapsed": false,
     "input": [
      "# Run this cell to get a print out of each of our wrong predcitions, and how they were predicted incorrectly.\n",
      "wrong_predictions_number = 0\n",
      "false_negatives = 0\n",
      "false_postitives = 0\n",
      "for i,p in enumerate(predictions):\n",
      "    if p != y_test[i]:\n",
      "        wrong_predictions_number += 1\n",
      "        if p > y_test[i]:\n",
      "            false_postitives += 1\n",
      "            print\n",
      "            print \"++FALSE POSITIVE++\"\n",
      "        if p < y_test[i]:\n",
      "            false_negatives += 1\n",
      "            print\n",
      "            print \"--FALSE NEGATIVE--\"\n",
      "        print \"predicted:\", p, \"actual\", y_test[i]"
     ],
     "language": "python",
     "metadata": {},
     "outputs": [
      {
       "output_type": "stream",
       "stream": "stdout",
       "text": [
        "\n",
        "--FALSE NEGATIVE--\n",
        "predicted: 0 actual 1\n",
        "\n",
        "++FALSE POSITIVE++\n",
        "predicted: 1 actual 0\n",
        "\n",
        "--FALSE NEGATIVE--\n",
        "predicted: 0 actual 1\n",
        "\n",
        "--FALSE NEGATIVE--\n",
        "predicted: 0 actual 1\n",
        "\n",
        "--FALSE NEGATIVE--\n",
        "predicted: 0 actual 1\n",
        "\n",
        "--FALSE NEGATIVE--\n",
        "predicted: 0 actual 1\n",
        "\n",
        "++FALSE POSITIVE++\n",
        "predicted: 1 actual 0\n",
        "\n",
        "++FALSE POSITIVE++\n",
        "predicted: 1 actual 0\n",
        "\n",
        "--FALSE NEGATIVE--\n",
        "predicted: 0 actual 1\n",
        "\n",
        "++FALSE POSITIVE++\n",
        "predicted: 1 actual 0\n",
        "\n",
        "--FALSE NEGATIVE--\n",
        "predicted: 0 actual 1\n",
        "\n",
        "++FALSE POSITIVE++\n",
        "predicted: 1 actual 0\n",
        "\n",
        "++FALSE POSITIVE++\n",
        "predicted: 1 actual 0\n",
        "\n",
        "++FALSE POSITIVE++\n",
        "predicted: 1 actual 0\n",
        "\n",
        "--FALSE NEGATIVE--\n",
        "predicted: 0 actual 1\n",
        "\n",
        "++FALSE POSITIVE++\n",
        "predicted: 1 actual 0\n",
        "\n",
        "--FALSE NEGATIVE--\n",
        "predicted: 0 actual 1\n",
        "\n",
        "--FALSE NEGATIVE--\n",
        "predicted: 0 actual 1\n",
        "\n",
        "--FALSE NEGATIVE--\n",
        "predicted: 0 actual 1\n",
        "\n",
        "--FALSE NEGATIVE--\n",
        "predicted: 0 actual 1\n",
        "\n",
        "++FALSE POSITIVE++\n",
        "predicted: 1 actual 0\n",
        "\n",
        "--FALSE NEGATIVE--\n",
        "predicted: 0 actual 1\n",
        "\n",
        "--FALSE NEGATIVE--\n",
        "predicted: 0 actual 1\n",
        "\n",
        "--FALSE NEGATIVE--\n",
        "predicted: 0 actual 1\n",
        "\n",
        "++FALSE POSITIVE++\n",
        "predicted: 1 actual 0\n",
        "\n",
        "--FALSE NEGATIVE--\n",
        "predicted: 0 actual 1\n",
        "\n",
        "--FALSE NEGATIVE--\n",
        "predicted: 0 actual 1\n",
        "\n",
        "++FALSE POSITIVE++\n",
        "predicted: 1 actual 0\n",
        "\n",
        "--FALSE NEGATIVE--\n",
        "predicted: 0 actual 1\n",
        "\n",
        "++FALSE POSITIVE++\n",
        "predicted: 1 actual 0\n",
        "\n",
        "--FALSE NEGATIVE--\n",
        "predicted: 0 actual 1\n",
        "\n",
        "++FALSE POSITIVE++\n",
        "predicted: 1 actual 0\n",
        "\n",
        "--FALSE NEGATIVE--\n",
        "predicted: 0 actual 1\n",
        "\n",
        "++FALSE POSITIVE++\n",
        "predicted: 1 actual 0\n",
        "\n",
        "++FALSE POSITIVE++\n",
        "predicted: 1 actual 0\n",
        "\n",
        "--FALSE NEGATIVE--\n",
        "predicted: 0 actual 1\n",
        "\n",
        "--FALSE NEGATIVE--\n",
        "predicted: 0 actual 1\n",
        "\n",
        "--FALSE NEGATIVE--\n",
        "predicted: 0 actual 1\n",
        "\n",
        "--FALSE NEGATIVE--\n",
        "predicted: 0 actual 1\n",
        "\n",
        "--FALSE NEGATIVE--\n",
        "predicted: 0 actual 1\n",
        "\n",
        "--FALSE NEGATIVE--\n",
        "predicted: 0 actual 1\n",
        "\n",
        "--FALSE NEGATIVE--\n",
        "predicted: 0 actual 1\n",
        "\n",
        "--FALSE NEGATIVE--\n",
        "predicted: 0 actual 1\n",
        "\n",
        "--FALSE NEGATIVE--\n",
        "predicted: 0 actual 1\n",
        "\n",
        "--FALSE NEGATIVE--\n",
        "predicted: 0 actual 1\n",
        "\n",
        "--FALSE NEGATIVE--\n",
        "predicted: 0 actual 1\n",
        "\n",
        "++FALSE POSITIVE++\n",
        "predicted: 1 actual 0\n",
        "\n",
        "--FALSE NEGATIVE--\n",
        "predicted: 0 actual 1\n",
        "\n",
        "--FALSE NEGATIVE--\n",
        "predicted: 0 actual 1\n",
        "\n",
        "--FALSE NEGATIVE--\n",
        "predicted: 0 actual 1\n",
        "\n",
        "--FALSE NEGATIVE--\n",
        "predicted: 0 actual 1\n",
        "\n",
        "++FALSE POSITIVE++\n",
        "predicted: 1 actual 0\n",
        "\n",
        "--FALSE NEGATIVE--\n",
        "predicted: 0 actual 1\n",
        "\n",
        "--FALSE NEGATIVE--\n",
        "predicted: 0 actual 1\n",
        "\n",
        "--FALSE NEGATIVE--\n",
        "predicted: 0 actual 1\n",
        "\n",
        "--FALSE NEGATIVE--\n",
        "predicted: 0 actual 1\n",
        "\n",
        "--FALSE NEGATIVE--\n",
        "predicted: 0 actual 1\n",
        "\n",
        "++FALSE POSITIVE++\n",
        "predicted: 1 actual 0\n",
        "\n",
        "++FALSE POSITIVE++\n",
        "predicted: 1 actual 0\n",
        "\n",
        "--FALSE NEGATIVE--\n",
        "predicted: 0 actual 1\n",
        "\n",
        "--FALSE NEGATIVE--\n",
        "predicted: 0 actual 1\n",
        "\n",
        "++FALSE POSITIVE++\n",
        "predicted: 1 actual 0\n",
        "\n",
        "--FALSE NEGATIVE--\n",
        "predicted: 0 actual 1\n",
        "\n",
        "++FALSE POSITIVE++\n",
        "predicted: 1 actual 0\n",
        "\n",
        "--FALSE NEGATIVE--\n",
        "predicted: 0 actual 1\n",
        "\n",
        "++FALSE POSITIVE++\n",
        "predicted: 1 actual 0\n",
        "\n",
        "++FALSE POSITIVE++\n",
        "predicted: 1 actual 0\n",
        "\n",
        "++FALSE POSITIVE++\n",
        "predicted: 1 actual 0\n",
        "\n",
        "--FALSE NEGATIVE--\n",
        "predicted: 0 actual 1\n",
        "\n",
        "++FALSE POSITIVE++\n",
        "predicted: 1 actual 0\n",
        "\n",
        "--FALSE NEGATIVE--\n",
        "predicted: 0 actual 1\n",
        "\n",
        "--FALSE NEGATIVE--\n",
        "predicted: 0 actual 1\n",
        "\n",
        "--FALSE NEGATIVE--\n",
        "predicted: 0 actual 1\n",
        "\n",
        "++FALSE POSITIVE++\n",
        "predicted: 1 actual 0\n",
        "\n",
        "--FALSE NEGATIVE--\n",
        "predicted: 0 actual 1\n",
        "\n",
        "--FALSE NEGATIVE--\n",
        "predicted: 0 actual 1\n",
        "\n",
        "--FALSE NEGATIVE--\n",
        "predicted: 0 actual 1\n",
        "\n",
        "--FALSE NEGATIVE--\n",
        "predicted: 0 actual 1\n",
        "\n",
        "++FALSE POSITIVE++\n",
        "predicted: 1 actual 0\n",
        "\n",
        "--FALSE NEGATIVE--\n",
        "predicted: 0 actual 1\n",
        "\n",
        "++FALSE POSITIVE++\n",
        "predicted: 1 actual 0\n",
        "\n",
        "--FALSE NEGATIVE--\n",
        "predicted: 0 actual 1\n",
        "\n",
        "--FALSE NEGATIVE--\n",
        "predicted: 0 actual 1\n",
        "\n",
        "--FALSE NEGATIVE--\n",
        "predicted: 0 actual 1\n",
        "\n",
        "--FALSE NEGATIVE--\n",
        "predicted: 0 actual 1\n",
        "\n",
        "--FALSE NEGATIVE--\n",
        "predicted: 0 actual 1\n",
        "\n",
        "++FALSE POSITIVE++\n",
        "predicted: 1 actual 0\n",
        "\n",
        "++FALSE POSITIVE++\n",
        "predicted: 1 actual 0\n",
        "\n",
        "--FALSE NEGATIVE--\n",
        "predicted: 0 actual 1\n",
        "\n",
        "++FALSE POSITIVE++\n",
        "predicted: 1 actual 0\n",
        "\n",
        "++FALSE POSITIVE++\n",
        "predicted: 1 actual 0\n",
        "\n",
        "--FALSE NEGATIVE--\n",
        "predicted: 0 actual 1\n",
        "\n",
        "--FALSE NEGATIVE--\n",
        "predicted: 0 actual 1\n",
        "\n",
        "++FALSE POSITIVE++\n",
        "predicted: 1 actual 0\n",
        "\n",
        "++FALSE POSITIVE++\n",
        "predicted: 1 actual 0\n",
        "\n",
        "--FALSE NEGATIVE--\n",
        "predicted: 0 actual 1\n",
        "\n",
        "++FALSE POSITIVE++\n",
        "predicted: 1 actual 0\n",
        "\n",
        "--FALSE NEGATIVE--\n",
        "predicted: 0 actual 1\n",
        "\n",
        "--FALSE NEGATIVE--\n",
        "predicted: 0 actual 1\n",
        "\n",
        "--FALSE NEGATIVE--\n",
        "predicted: 0 actual 1\n",
        "\n",
        "--FALSE NEGATIVE--\n",
        "predicted: 0 actual 1\n",
        "\n",
        "++FALSE POSITIVE++\n",
        "predicted: 1 actual 0\n",
        "\n",
        "++FALSE POSITIVE++\n",
        "predicted: 1 actual 0\n",
        "\n",
        "++FALSE POSITIVE++\n",
        "predicted: 1 actual 0\n",
        "\n",
        "++FALSE POSITIVE++\n",
        "predicted: 1 actual 0\n",
        "\n",
        "--FALSE NEGATIVE--\n",
        "predicted: 0 actual 1\n",
        "\n",
        "++FALSE POSITIVE++\n",
        "predicted: 1 actual 0\n",
        "\n",
        "--FALSE NEGATIVE--\n",
        "predicted: 0 actual 1\n",
        "\n",
        "--FALSE NEGATIVE--\n",
        "predicted: 0 actual 1\n",
        "\n",
        "++FALSE POSITIVE++\n",
        "predicted: 1 actual 0\n",
        "\n",
        "--FALSE NEGATIVE--\n",
        "predicted: 0 actual 1\n",
        "\n",
        "--FALSE NEGATIVE--\n",
        "predicted: 0 actual 1\n",
        "\n",
        "--FALSE NEGATIVE--\n",
        "predicted: 0 actual 1\n",
        "\n",
        "--FALSE NEGATIVE--\n",
        "predicted: 0 actual 1\n",
        "\n",
        "--FALSE NEGATIVE--\n",
        "predicted: 0 actual 1\n",
        "\n",
        "--FALSE NEGATIVE--\n",
        "predicted: 0 actual 1\n",
        "\n",
        "--FALSE NEGATIVE--\n",
        "predicted: 0 actual 1\n",
        "\n",
        "--FALSE NEGATIVE--\n",
        "predicted: 0 actual 1\n",
        "\n",
        "--FALSE NEGATIVE--\n",
        "predicted: 0 actual 1\n",
        "\n",
        "--FALSE NEGATIVE--\n",
        "predicted: 0 actual 1\n",
        "\n",
        "--FALSE NEGATIVE--\n",
        "predicted: 0 actual 1\n",
        "\n",
        "--FALSE NEGATIVE--\n",
        "predicted: 0 actual 1\n",
        "\n",
        "--FALSE NEGATIVE--\n",
        "predicted: 0 actual 1\n",
        "\n",
        "--FALSE NEGATIVE--\n",
        "predicted: 0 actual 1\n",
        "\n",
        "++FALSE POSITIVE++\n",
        "predicted: 1 actual 0\n",
        "\n",
        "--FALSE NEGATIVE--\n",
        "predicted: 0 actual 1\n",
        "\n",
        "--FALSE NEGATIVE--\n",
        "predicted: 0 actual 1\n",
        "\n",
        "++FALSE POSITIVE++\n",
        "predicted: 1 actual 0\n",
        "\n",
        "++FALSE POSITIVE++\n",
        "predicted: 1 actual 0\n",
        "\n",
        "++FALSE POSITIVE++\n",
        "predicted: 1 actual 0\n",
        "\n",
        "--FALSE NEGATIVE--\n",
        "predicted: 0 actual 1\n",
        "\n",
        "--FALSE NEGATIVE--\n",
        "predicted: 0 actual 1\n",
        "\n",
        "++FALSE POSITIVE++\n",
        "predicted: 1 actual 0\n",
        "\n",
        "--FALSE NEGATIVE--\n",
        "predicted: 0 actual 1\n",
        "\n",
        "--FALSE NEGATIVE--\n",
        "predicted: 0 actual 1\n",
        "\n",
        "--FALSE NEGATIVE--\n",
        "predicted: 0 actual 1\n",
        "\n",
        "--FALSE NEGATIVE--\n",
        "predicted: 0 actual 1\n",
        "\n",
        "--FALSE NEGATIVE--\n",
        "predicted: 0 actual 1\n",
        "\n",
        "--FALSE NEGATIVE--\n",
        "predicted: 0 actual 1\n",
        "\n",
        "++FALSE POSITIVE++\n",
        "predicted: 1 actual 0\n",
        "\n",
        "++FALSE POSITIVE++\n",
        "predicted: 1 actual 0\n",
        "\n",
        "--FALSE NEGATIVE--\n",
        "predicted: 0 actual 1\n",
        "\n",
        "--FALSE NEGATIVE--\n",
        "predicted: 0 actual 1\n",
        "\n",
        "--FALSE NEGATIVE--\n",
        "predicted: 0 actual 1\n",
        "\n",
        "--FALSE NEGATIVE--\n",
        "predicted: 0 actual 1\n",
        "\n",
        "--FALSE NEGATIVE--\n",
        "predicted: 0 actual 1\n",
        "\n",
        "++FALSE POSITIVE++\n",
        "predicted: 1 actual 0\n",
        "\n",
        "--FALSE NEGATIVE--\n",
        "predicted: 0 actual 1\n",
        "\n",
        "++FALSE POSITIVE++\n",
        "predicted: 1 actual 0\n",
        "\n",
        "++FALSE POSITIVE++\n",
        "predicted: 1 actual 0\n",
        "\n",
        "--FALSE NEGATIVE--\n",
        "predicted: 0 actual 1\n",
        "\n",
        "++FALSE POSITIVE++\n",
        "predicted: 1 actual 0\n",
        "\n",
        "--FALSE NEGATIVE--\n",
        "predicted: 0 actual 1\n",
        "\n",
        "--FALSE NEGATIVE--\n",
        "predicted: 0 actual 1\n",
        "\n",
        "--FALSE NEGATIVE--\n",
        "predicted: 0 actual 1\n",
        "\n",
        "--FALSE NEGATIVE--\n",
        "predicted: 0 actual 1\n",
        "\n",
        "--FALSE NEGATIVE--\n",
        "predicted: 0 actual 1\n",
        "\n",
        "--FALSE NEGATIVE--\n",
        "predicted: 0 actual 1\n",
        "\n",
        "--FALSE NEGATIVE--\n",
        "predicted: 0 actual 1\n",
        "\n",
        "++FALSE POSITIVE++\n",
        "predicted: 1 actual 0\n",
        "\n",
        "--FALSE NEGATIVE--\n",
        "predicted: 0 actual 1\n",
        "\n",
        "--FALSE NEGATIVE--\n",
        "predicted: 0 actual 1\n",
        "\n",
        "--FALSE NEGATIVE--\n",
        "predicted: 0 actual 1\n",
        "\n",
        "--FALSE NEGATIVE--\n",
        "predicted: 0 actual 1\n",
        "\n",
        "--FALSE NEGATIVE--\n",
        "predicted: 0 actual 1\n",
        "\n",
        "--FALSE NEGATIVE--\n",
        "predicted: 0 actual 1\n",
        "\n",
        "--FALSE NEGATIVE--\n",
        "predicted: 0 actual 1\n",
        "\n",
        "++FALSE POSITIVE++\n",
        "predicted: 1 actual 0\n",
        "\n",
        "--FALSE NEGATIVE--\n",
        "predicted: 0 actual 1\n",
        "\n",
        "++FALSE POSITIVE++\n",
        "predicted: 1 actual 0\n",
        "\n",
        "++FALSE POSITIVE++\n",
        "predicted: 1 actual 0\n",
        "\n",
        "--FALSE NEGATIVE--\n",
        "predicted: 0 actual 1\n",
        "\n",
        "--FALSE NEGATIVE--\n",
        "predicted: 0 actual 1\n",
        "\n",
        "++FALSE POSITIVE++\n",
        "predicted: 1 actual 0\n",
        "\n",
        "--FALSE NEGATIVE--\n",
        "predicted: 0 actual 1\n",
        "\n",
        "++FALSE POSITIVE++\n",
        "predicted: 1 actual 0\n",
        "\n",
        "--FALSE NEGATIVE--\n",
        "predicted: 0 actual 1\n",
        "\n",
        "--FALSE NEGATIVE--\n",
        "predicted: 0 actual 1\n",
        "\n",
        "--FALSE NEGATIVE--\n",
        "predicted: 0 actual 1\n",
        "\n",
        "--FALSE NEGATIVE--\n",
        "predicted: 0 actual 1\n",
        "\n",
        "++FALSE POSITIVE++\n",
        "predicted: 1 actual 0\n",
        "\n",
        "--FALSE NEGATIVE--\n",
        "predicted: 0 actual 1\n",
        "\n",
        "--FALSE NEGATIVE--\n",
        "predicted: 0 actual 1\n",
        "\n",
        "++FALSE POSITIVE++\n",
        "predicted: 1 actual 0\n",
        "\n",
        "++FALSE POSITIVE++\n",
        "predicted: 1 actual 0\n",
        "\n",
        "--FALSE NEGATIVE--\n",
        "predicted: 0 actual 1\n",
        "\n",
        "--FALSE NEGATIVE--\n",
        "predicted: 0 actual 1\n",
        "\n",
        "++FALSE POSITIVE++\n",
        "predicted: 1 actual 0\n",
        "\n",
        "--FALSE NEGATIVE--\n",
        "predicted: 0 actual 1\n",
        "\n",
        "--FALSE NEGATIVE--\n",
        "predicted: 0 actual 1\n",
        "\n",
        "--FALSE NEGATIVE--\n",
        "predicted: 0 actual 1\n",
        "\n",
        "++FALSE POSITIVE++\n",
        "predicted: 1 actual 0\n",
        "\n",
        "--FALSE NEGATIVE--\n",
        "predicted: 0 actual 1\n",
        "\n",
        "--FALSE NEGATIVE--\n",
        "predicted: 0 actual 1\n",
        "\n",
        "--FALSE NEGATIVE--\n",
        "predicted: 0 actual 1\n",
        "\n",
        "--FALSE NEGATIVE--\n",
        "predicted: 0 actual 1\n",
        "\n",
        "--FALSE NEGATIVE--\n",
        "predicted: 0 actual 1\n",
        "\n",
        "--FALSE NEGATIVE--\n",
        "predicted: 0 actual 1\n",
        "\n",
        "--FALSE NEGATIVE--\n",
        "predicted: 0 actual 1\n",
        "\n",
        "--FALSE NEGATIVE--\n",
        "predicted: 0 actual 1\n",
        "\n",
        "--FALSE NEGATIVE--\n",
        "predicted: 0 actual 1\n",
        "\n",
        "--FALSE NEGATIVE--\n",
        "predicted: 0 actual 1\n",
        "\n",
        "++FALSE POSITIVE++\n",
        "predicted: 1 actual 0\n",
        "\n",
        "--FALSE NEGATIVE--\n",
        "predicted: 0 actual 1\n",
        "\n",
        "++FALSE POSITIVE++\n",
        "predicted: 1 actual 0\n",
        "\n",
        "--FALSE NEGATIVE--\n",
        "predicted: 0 actual 1\n",
        "\n",
        "--FALSE NEGATIVE--\n",
        "predicted: 0 actual 1\n",
        "\n",
        "++FALSE POSITIVE++\n",
        "predicted: 1 actual 0\n",
        "\n",
        "--FALSE NEGATIVE--\n",
        "predicted: 0 actual 1\n",
        "\n",
        "--FALSE NEGATIVE--\n",
        "predicted: 0 actual 1\n",
        "\n",
        "--FALSE NEGATIVE--\n",
        "predicted: 0 actual 1\n",
        "\n",
        "--FALSE NEGATIVE--\n",
        "predicted: 0 actual 1\n",
        "\n",
        "--FALSE NEGATIVE--\n",
        "predicted: 0 actual 1\n",
        "\n",
        "--FALSE NEGATIVE--\n",
        "predicted: 0 actual 1\n",
        "\n",
        "++FALSE POSITIVE++\n",
        "predicted: 1 actual 0\n",
        "\n",
        "++FALSE POSITIVE++\n",
        "predicted: 1 actual 0\n",
        "\n",
        "--FALSE NEGATIVE--\n",
        "predicted: 0 actual 1\n",
        "\n",
        "--FALSE NEGATIVE--\n",
        "predicted: 0 actual 1\n",
        "\n",
        "--FALSE NEGATIVE--\n",
        "predicted: 0 actual 1\n",
        "\n",
        "--FALSE NEGATIVE--\n",
        "predicted: 0 actual 1\n",
        "\n",
        "--FALSE NEGATIVE--\n",
        "predicted: 0 actual 1\n",
        "\n",
        "--FALSE NEGATIVE--\n",
        "predicted: 0 actual 1\n",
        "\n",
        "--FALSE NEGATIVE--\n",
        "predicted: 0 actual 1\n",
        "\n",
        "++FALSE POSITIVE++\n",
        "predicted: 1 actual 0\n",
        "\n",
        "++FALSE POSITIVE++\n",
        "predicted: 1 actual 0\n",
        "\n",
        "--FALSE NEGATIVE--\n",
        "predicted: 0 actual 1\n",
        "\n",
        "--FALSE NEGATIVE--\n",
        "predicted: 0 actual 1\n",
        "\n",
        "--FALSE NEGATIVE--\n",
        "predicted: 0 actual 1\n",
        "\n",
        "--FALSE NEGATIVE--\n",
        "predicted: 0 actual 1\n",
        "\n",
        "--FALSE NEGATIVE--\n",
        "predicted: 0 actual 1\n",
        "\n",
        "--FALSE NEGATIVE--\n",
        "predicted: 0 actual 1\n",
        "\n",
        "++FALSE POSITIVE++\n",
        "predicted: 1 actual 0\n",
        "\n",
        "--FALSE NEGATIVE--\n",
        "predicted: 0 actual 1\n",
        "\n",
        "--FALSE NEGATIVE--\n",
        "predicted: 0 actual 1\n",
        "\n",
        "++FALSE POSITIVE++\n",
        "predicted: 1 actual 0\n",
        "\n",
        "--FALSE NEGATIVE--\n",
        "predicted: 0 actual 1\n",
        "\n",
        "--FALSE NEGATIVE--\n",
        "predicted: 0 actual 1\n",
        "\n",
        "++FALSE POSITIVE++\n",
        "predicted: 1 actual 0\n",
        "\n",
        "--FALSE NEGATIVE--\n",
        "predicted: 0 actual 1\n",
        "\n",
        "--FALSE NEGATIVE--\n",
        "predicted: 0 actual 1\n",
        "\n",
        "++FALSE POSITIVE++\n",
        "predicted: 1 actual 0\n",
        "\n",
        "++FALSE POSITIVE++\n",
        "predicted: 1 actual 0\n",
        "\n",
        "--FALSE NEGATIVE--\n",
        "predicted: 0 actual 1\n",
        "\n",
        "--FALSE NEGATIVE--\n",
        "predicted: 0 actual 1\n",
        "\n",
        "--FALSE NEGATIVE--\n",
        "predicted: 0 actual 1\n",
        "\n",
        "--FALSE NEGATIVE--\n",
        "predicted: 0 actual 1\n",
        "\n",
        "++FALSE POSITIVE++\n",
        "predicted: 1 actual 0\n",
        "\n",
        "++FALSE POSITIVE++\n",
        "predicted: 1 actual 0\n",
        "\n",
        "--FALSE NEGATIVE--\n",
        "predicted: 0 actual 1\n",
        "\n",
        "--FALSE NEGATIVE--\n",
        "predicted: 0 actual 1\n",
        "\n",
        "--FALSE NEGATIVE--\n",
        "predicted: 0 actual 1\n",
        "\n",
        "--FALSE NEGATIVE--\n",
        "predicted: 0 actual 1\n",
        "\n",
        "--FALSE NEGATIVE--\n",
        "predicted: 0 actual 1\n",
        "\n",
        "--FALSE NEGATIVE--\n",
        "predicted: 0 actual 1\n",
        "\n",
        "--FALSE NEGATIVE--\n",
        "predicted: 0 actual 1\n",
        "\n",
        "--FALSE NEGATIVE--\n",
        "predicted: 0 actual 1\n",
        "\n",
        "--FALSE NEGATIVE--\n",
        "predicted: 0 actual 1\n",
        "\n",
        "--FALSE NEGATIVE--\n",
        "predicted: 0 actual 1\n",
        "\n",
        "++FALSE POSITIVE++\n",
        "predicted: 1 actual 0\n",
        "\n",
        "--FALSE NEGATIVE--\n",
        "predicted: 0 actual 1\n",
        "\n",
        "++FALSE POSITIVE++\n",
        "predicted: 1 actual 0\n",
        "\n",
        "--FALSE NEGATIVE--\n",
        "predicted: 0 actual 1\n",
        "\n",
        "--FALSE NEGATIVE--\n",
        "predicted: 0 actual 1\n",
        "\n",
        "++FALSE POSITIVE++\n",
        "predicted: 1 actual 0\n",
        "\n",
        "--FALSE NEGATIVE--\n",
        "predicted: 0 actual 1\n",
        "\n",
        "--FALSE NEGATIVE--\n",
        "predicted: 0 actual 1\n",
        "\n",
        "--FALSE NEGATIVE--\n",
        "predicted: 0 actual 1\n",
        "\n",
        "--FALSE NEGATIVE--\n",
        "predicted: 0 actual 1\n",
        "\n",
        "++FALSE POSITIVE++\n",
        "predicted: 1 actual 0\n",
        "\n",
        "--FALSE NEGATIVE--\n",
        "predicted: 0 actual 1\n",
        "\n",
        "--FALSE NEGATIVE--\n",
        "predicted: 0 actual 1\n",
        "\n",
        "--FALSE NEGATIVE--\n",
        "predicted: 0 actual 1\n",
        "\n",
        "++FALSE POSITIVE++\n",
        "predicted: 1 actual 0\n",
        "\n",
        "--FALSE NEGATIVE--\n",
        "predicted: 0 actual 1\n",
        "\n",
        "--FALSE NEGATIVE--\n",
        "predicted: 0 actual 1\n",
        "\n",
        "--FALSE NEGATIVE--\n",
        "predicted: 0 actual 1\n",
        "\n",
        "--FALSE NEGATIVE--\n",
        "predicted: 0 actual 1\n",
        "\n",
        "--FALSE NEGATIVE--\n",
        "predicted: 0 actual 1\n",
        "\n",
        "++FALSE POSITIVE++\n",
        "predicted: 1 actual 0\n",
        "\n",
        "++FALSE POSITIVE++\n",
        "predicted: 1 actual 0\n",
        "\n",
        "++FALSE POSITIVE++\n",
        "predicted: 1 actual 0\n",
        "\n",
        "--FALSE NEGATIVE--\n",
        "predicted: 0 actual 1\n",
        "\n",
        "++FALSE POSITIVE++\n",
        "predicted: 1 actual 0\n",
        "\n",
        "--FALSE NEGATIVE--\n",
        "predicted: 0 actual 1\n",
        "\n",
        "++FALSE POSITIVE++\n",
        "predicted: 1 actual 0\n",
        "\n",
        "++FALSE POSITIVE++\n",
        "predicted: 1 actual 0\n",
        "\n",
        "++FALSE POSITIVE++\n",
        "predicted: 1 actual 0\n",
        "\n",
        "++FALSE POSITIVE++\n",
        "predicted: 1 actual 0\n",
        "\n",
        "--FALSE NEGATIVE--\n",
        "predicted: 0 actual 1\n",
        "\n",
        "++FALSE POSITIVE++\n",
        "predicted: 1 actual 0\n",
        "\n",
        "--FALSE NEGATIVE--\n",
        "predicted: 0 actual 1\n",
        "\n",
        "--FALSE NEGATIVE--\n",
        "predicted: 0 actual 1\n",
        "\n",
        "--FALSE NEGATIVE--\n",
        "predicted: 0 actual 1\n",
        "\n",
        "--FALSE NEGATIVE--\n",
        "predicted: 0 actual 1\n",
        "\n",
        "--FALSE NEGATIVE--\n",
        "predicted: 0 actual 1\n",
        "\n",
        "--FALSE NEGATIVE--\n",
        "predicted: 0 actual 1\n",
        "\n",
        "--FALSE NEGATIVE--\n",
        "predicted: 0 actual 1\n",
        "\n",
        "--FALSE NEGATIVE--\n",
        "predicted: 0 actual 1\n",
        "\n",
        "--FALSE NEGATIVE--\n",
        "predicted: 0 actual 1\n",
        "\n",
        "++FALSE POSITIVE++\n",
        "predicted: 1 actual 0\n",
        "\n",
        "--FALSE NEGATIVE--\n",
        "predicted: 0 actual 1\n",
        "\n",
        "--FALSE NEGATIVE--\n",
        "predicted: 0 actual 1\n",
        "\n",
        "++FALSE POSITIVE++\n",
        "predicted: 1 actual 0\n",
        "\n",
        "++FALSE POSITIVE++\n",
        "predicted: 1 actual 0\n",
        "\n",
        "--FALSE NEGATIVE--\n",
        "predicted: 0 actual 1\n",
        "\n",
        "--FALSE NEGATIVE--\n",
        "predicted: 0 actual 1\n",
        "\n",
        "++FALSE POSITIVE++\n",
        "predicted: 1 actual 0\n",
        "\n",
        "--FALSE NEGATIVE--\n",
        "predicted: 0 actual 1\n",
        "\n",
        "--FALSE NEGATIVE--\n",
        "predicted: 0 actual 1\n",
        "\n",
        "++FALSE POSITIVE++\n",
        "predicted: 1 actual 0\n",
        "\n",
        "--FALSE NEGATIVE--\n",
        "predicted: 0 actual 1\n",
        "\n",
        "++FALSE POSITIVE++\n",
        "predicted: 1 actual 0\n",
        "\n",
        "--FALSE NEGATIVE--\n",
        "predicted: 0 actual 1\n",
        "\n",
        "++FALSE POSITIVE++\n",
        "predicted: 1 actual 0\n",
        "\n",
        "--FALSE NEGATIVE--\n",
        "predicted: 0 actual 1\n",
        "\n",
        "--FALSE NEGATIVE--\n",
        "predicted: 0 actual 1\n",
        "\n",
        "--FALSE NEGATIVE--\n",
        "predicted: 0 actual 1\n",
        "\n",
        "--FALSE NEGATIVE--\n",
        "predicted: 0 actual 1\n",
        "\n",
        "--FALSE NEGATIVE--\n",
        "predicted: 0 actual 1\n",
        "\n",
        "--FALSE NEGATIVE--\n",
        "predicted: 0 actual 1\n",
        "\n",
        "--FALSE NEGATIVE--\n",
        "predicted: 0 actual 1\n",
        "\n",
        "--FALSE NEGATIVE--\n",
        "predicted: 0 actual 1\n",
        "\n",
        "--FALSE NEGATIVE--\n",
        "predicted: 0 actual 1\n",
        "\n",
        "--FALSE NEGATIVE--\n",
        "predicted: 0 actual 1\n",
        "\n",
        "--FALSE NEGATIVE--\n",
        "predicted: 0 actual 1\n",
        "\n",
        "++FALSE POSITIVE++\n",
        "predicted: 1 actual 0\n",
        "\n",
        "--FALSE NEGATIVE--\n",
        "predicted: 0 actual 1\n",
        "\n",
        "++FALSE POSITIVE++\n",
        "predicted: 1 actual 0\n",
        "\n",
        "--FALSE NEGATIVE--\n",
        "predicted: 0 actual 1\n",
        "\n",
        "++FALSE POSITIVE++\n",
        "predicted: 1 actual 0\n",
        "\n",
        "--FALSE NEGATIVE--\n",
        "predicted: 0 actual 1\n",
        "\n",
        "++FALSE POSITIVE++\n",
        "predicted: 1 actual 0\n",
        "\n",
        "--FALSE NEGATIVE--\n",
        "predicted: 0 actual 1\n",
        "\n",
        "--FALSE NEGATIVE--\n",
        "predicted: 0 actual 1\n",
        "\n",
        "--FALSE NEGATIVE--\n",
        "predicted: 0 actual 1\n",
        "\n",
        "--FALSE NEGATIVE--\n",
        "predicted: 0 actual 1\n",
        "\n",
        "--FALSE NEGATIVE--\n",
        "predicted: 0 actual 1\n",
        "\n",
        "++FALSE POSITIVE++\n",
        "predicted: 1 actual 0\n",
        "\n",
        "--FALSE NEGATIVE--\n",
        "predicted: 0 actual 1\n",
        "\n",
        "++FALSE POSITIVE++\n",
        "predicted: 1 actual 0\n",
        "\n",
        "--FALSE NEGATIVE--\n",
        "predicted: 0 actual 1\n",
        "\n",
        "++FALSE POSITIVE++\n",
        "predicted: 1 actual 0\n",
        "\n",
        "--FALSE NEGATIVE--\n",
        "predicted: 0 actual 1\n",
        "\n",
        "--FALSE NEGATIVE--\n",
        "predicted: 0 actual 1\n",
        "\n",
        "++FALSE POSITIVE++\n",
        "predicted: 1 actual 0\n",
        "\n",
        "++FALSE POSITIVE++\n",
        "predicted: 1 actual 0\n",
        "\n",
        "++FALSE POSITIVE++\n",
        "predicted: 1 actual 0\n",
        "\n",
        "--FALSE NEGATIVE--\n",
        "predicted: 0 actual 1\n",
        "\n",
        "++FALSE POSITIVE++\n",
        "predicted: 1 actual 0\n",
        "\n",
        "--FALSE NEGATIVE--\n",
        "predicted: 0 actual 1\n",
        "\n",
        "--FALSE NEGATIVE--\n",
        "predicted: 0 actual 1\n",
        "\n",
        "--FALSE NEGATIVE--\n",
        "predicted: 0 actual 1\n",
        "\n",
        "--FALSE NEGATIVE--\n",
        "predicted: 0 actual 1\n",
        "\n",
        "++FALSE POSITIVE++\n",
        "predicted: 1 actual 0\n",
        "\n",
        "--FALSE NEGATIVE--\n",
        "predicted: 0 actual 1\n",
        "\n",
        "--FALSE NEGATIVE--\n",
        "predicted: 0 actual 1\n",
        "\n",
        "--FALSE NEGATIVE--\n",
        "predicted: 0 actual 1\n",
        "\n",
        "++FALSE POSITIVE++\n",
        "predicted: 1 actual 0\n",
        "\n",
        "--FALSE NEGATIVE--\n",
        "predicted: 0 actual 1\n",
        "\n",
        "++FALSE POSITIVE++\n",
        "predicted: 1 actual 0\n",
        "\n",
        "--FALSE NEGATIVE--\n",
        "predicted: 0 actual 1\n",
        "\n",
        "--FALSE NEGATIVE--\n",
        "predicted: 0 actual 1\n",
        "\n",
        "++FALSE POSITIVE++\n",
        "predicted: 1 actual 0\n",
        "\n",
        "++FALSE POSITIVE++\n",
        "predicted: 1 actual 0\n",
        "\n",
        "--FALSE NEGATIVE--\n",
        "predicted: 0 actual 1\n",
        "\n",
        "--FALSE NEGATIVE--\n",
        "predicted: 0 actual 1\n",
        "\n",
        "--FALSE NEGATIVE--\n",
        "predicted: 0 actual 1\n",
        "\n",
        "--FALSE NEGATIVE--\n",
        "predicted: 0 actual 1\n",
        "\n",
        "--FALSE NEGATIVE--\n",
        "predicted: 0 actual 1\n",
        "\n",
        "--FALSE NEGATIVE--\n",
        "predicted: 0 actual 1\n",
        "\n",
        "--FALSE NEGATIVE--\n",
        "predicted: 0 actual 1\n",
        "\n",
        "--FALSE NEGATIVE--\n",
        "predicted: 0 actual 1\n",
        "\n",
        "--FALSE NEGATIVE--\n",
        "predicted: 0 actual 1\n",
        "\n",
        "++FALSE POSITIVE++\n",
        "predicted: 1 actual 0\n",
        "\n",
        "++FALSE POSITIVE++\n",
        "predicted: 1 actual 0\n",
        "\n",
        "++FALSE POSITIVE++\n",
        "predicted: 1 actual 0\n",
        "\n",
        "++FALSE POSITIVE++\n",
        "predicted: 1 actual 0\n",
        "\n",
        "++FALSE POSITIVE++\n",
        "predicted: 1 actual 0\n",
        "\n",
        "--FALSE NEGATIVE--\n",
        "predicted: 0 actual 1\n",
        "\n",
        "--FALSE NEGATIVE--\n",
        "predicted: 0 actual 1\n",
        "\n",
        "++FALSE POSITIVE++\n",
        "predicted: 1 actual 0\n",
        "\n",
        "--FALSE NEGATIVE--\n",
        "predicted: 0 actual 1\n",
        "\n",
        "++FALSE POSITIVE++\n",
        "predicted: 1 actual 0\n",
        "\n",
        "++FALSE POSITIVE++\n",
        "predicted: 1 actual 0\n",
        "\n",
        "--FALSE NEGATIVE--\n",
        "predicted: 0 actual 1\n",
        "\n",
        "++FALSE POSITIVE++\n",
        "predicted: 1 actual 0\n",
        "\n",
        "++FALSE POSITIVE++\n",
        "predicted: 1 actual 0\n",
        "\n",
        "++FALSE POSITIVE++\n",
        "predicted: 1 actual 0\n",
        "\n",
        "--FALSE NEGATIVE--\n",
        "predicted: 0 actual 1\n",
        "\n",
        "--FALSE NEGATIVE--\n",
        "predicted: 0 actual 1\n",
        "\n",
        "++FALSE POSITIVE++\n",
        "predicted: 1 actual 0\n",
        "\n",
        "--FALSE NEGATIVE--\n",
        "predicted: 0 actual 1\n",
        "\n",
        "--FALSE NEGATIVE--\n",
        "predicted: 0 actual 1\n",
        "\n",
        "--FALSE NEGATIVE--\n",
        "predicted: 0 actual 1\n",
        "\n",
        "--FALSE NEGATIVE--\n",
        "predicted: 0 actual 1\n",
        "\n",
        "--FALSE NEGATIVE--\n",
        "predicted: 0 actual 1\n",
        "\n",
        "--FALSE NEGATIVE--\n",
        "predicted: 0 actual 1\n",
        "\n",
        "++FALSE POSITIVE++\n",
        "predicted: 1 actual 0\n",
        "\n",
        "--FALSE NEGATIVE--\n",
        "predicted: 0 actual 1\n",
        "\n",
        "--FALSE NEGATIVE--\n",
        "predicted: 0 actual 1\n",
        "\n",
        "--FALSE NEGATIVE--\n",
        "predicted: 0 actual 1\n",
        "\n",
        "--FALSE NEGATIVE--\n",
        "predicted: 0 actual 1\n",
        "\n",
        "++FALSE POSITIVE++\n",
        "predicted: 1 actual 0\n",
        "\n",
        "--FALSE NEGATIVE--\n",
        "predicted: 0 actual 1\n",
        "\n",
        "++FALSE POSITIVE++\n",
        "predicted: 1 actual 0\n",
        "\n",
        "--FALSE NEGATIVE--\n",
        "predicted: 0 actual 1\n",
        "\n",
        "--FALSE NEGATIVE--\n",
        "predicted: 0 actual 1\n",
        "\n",
        "++FALSE POSITIVE++\n",
        "predicted: 1 actual 0\n",
        "\n",
        "--FALSE NEGATIVE--\n",
        "predicted: 0 actual 1\n",
        "\n",
        "--FALSE NEGATIVE--\n",
        "predicted: 0 actual 1\n",
        "\n",
        "--FALSE NEGATIVE--\n",
        "predicted: 0 actual 1\n",
        "\n",
        "--FALSE NEGATIVE--\n",
        "predicted: 0 actual 1\n"
       ]
      }
     ],
     "prompt_number": 55
    },
    {
     "cell_type": "code",
     "collapsed": false,
     "input": [
      "# Execute this cell to see a final scoring of our new model\n",
      "print \"total number of instances:\", len(predictions), \n",
      "print \"| total number wrong:\", wrong_predictions_number, \n",
      "print \"| total false negatives:\", false_negatives, \n",
      "print \"| total false positives:\", false_postitives\n",
      "print\n",
      "print\n",
      "print \"            THE FINAL STATS\"\n",
      "print \"----------------------------------------\"\n",
      "print \"Percent Right:\", 100 - (float(wrong_predictions_number) / float(len(predictions))) * 100,\"%\"\n",
      "print \"Percent Wrong:\", (float(wrong_predictions_number) / float(len(predictions))) * 100,\"%\"\n",
      "print \"Percent False Negatives:\", (float(false_negatives) / float(len(predictions))) * 100,\"%\"\n",
      "print \"Percent False Positives:\", (float(false_postitives) / float(len(predictions))) * 100,\"%\""
     ],
     "language": "python",
     "metadata": {},
     "outputs": [
      {
       "output_type": "stream",
       "stream": "stdout",
       "text": [
        "total number of instances: 2647 | total number wrong: 412 | total false negatives: 282 | total false positives: 130\n",
        "\n",
        "\n",
        "            THE FINAL STATS\n",
        "----------------------------------------\n",
        "Percent Right: 84.4352096713 %\n",
        "Percent Wrong: 15.5647903287 %\n",
        "Percent False Negatives: 10.6535700793 %\n",
        "Percent False Positives: 4.91122024934 %\n"
       ]
      }
     ],
     "prompt_number": 56
    },
    {
     "cell_type": "code",
     "collapsed": false,
     "input": [
      "# Uncomment this and execute to get a list of insults to look through for more potential patterns\n",
      "# corpus.Comment[corpus.Insult == 1].to_csv(\"insults.csv\")"
     ],
     "language": "python",
     "metadata": {},
     "outputs": [],
     "prompt_number": 147
    },
    {
     "cell_type": "code",
     "collapsed": false,
     "input": [
      "# Setting up a connection to the internetz\n",
      "from urllib2 import urlopen\n",
      "import json\n",
      "from pprint import pprint\n",
      "\n",
      "\n",
      "\n",
      "\n",
      "\n",
      "# Let's make sure things work by getting a magical kitten from the interwebs\n",
      "kittens = urlopen('http://placekitten.com/')\n",
      "response = kittens.read()\n",
      "body = response[559:1000]\n",
      "print body\n",
      "\n",
      "username = \"vegabook\"\n",
      "strt_item = \"8467842\"\n",
      "url_usr_strt = \"https://hacker-news.firebaseio.com/v0/user/\"\n",
      "url_itm_strt = \"https://hacker-news.firebaseio.com/v0/item/\"\n",
      "url_end = \".json\"\n",
      "\n",
      "user = urlopen( url_usr_strt+username+url_end )\n",
      "item = urlopen( url_itm_strt+strt_item+url_end )\n",
      "\n",
      "user = json.loads(user.read())\n",
      "item = json.loads(item.read())\n",
      "\n",
      "user['submitted']\n",
      "if item['deleted'] != True:\n",
      "    print item['type'], item['text']\n",
      "\n",
      "\n",
      "\n",
      "def get_user_comments(username):\n",
      "    comments = []\n",
      "    \n",
      "    url_usr_strt = \"https://hacker-news.firebaseio.com/v0/user/\"\n",
      "    url_itm_strt = \"https://hacker-news.firebaseio.com/v0/item/\"\n",
      "    url_end = \".json\"\n",
      "    user = urlopen( url_usr_strt+username+url_end )\n",
      "    user = json.loads( user.read() )\n",
      "    for c in user['submitted']:\n",
      "        item = urlopen( url_itm_strt+str(c)+url_end )\n",
      "        json_item = json.loads( item.read() )\n",
      "#         if json_item['type'] == 'comment' & json_item['deleted'] != True:\n",
      "        comments.append(json_item)\n",
      "    return comments\n"
     ],
     "language": "python",
     "metadata": {},
     "outputs": [
      {
       "output_type": "stream",
       "stream": "stdout",
       "text": [
        "                      __     __,\n",
        "                      \\,`~\"~` /\n",
        "      .-=-.           /    . .\\\n",
        "     / .-. \\          {  =    Y}=\n",
        "    (_/   \\ \\          \\      / \n",
        "           \\ \\        _/`'`'`b\n",
        "            \\ `.__.-'`        \\-._\n",
        "             |            '.__ `'-;_\n",
        "             |            _.' `'-.__)\n",
        "              \\    ;_..-`'/     //  \\\n",
        "              |   /  /   |     //    |\n",
        "              \\  \\ \\__)   \\   //    /\n",
        "               \\__)  \n"
       ]
      }
     ],
     "prompt_number": 34
    },
    {
     "cell_type": "code",
     "collapsed": false,
     "input": [
      "vegabook = get_user_comments('vegabook')"
     ],
     "language": "python",
     "metadata": {},
     "outputs": [],
     "prompt_number": 37
    },
    {
     "cell_type": "code",
     "collapsed": false,
     "input": [
      "for c in user['submitted']:\n",
      "    num = 0\n",
      "    for c in user['submitted']:\n",
      "        item = urlopen( url_itm_strt+str(c)+url_end )\n",
      "        json_item = json.loads( item.read() )\n",
      "        pprint(json_item)\n",
      "        num +=1\n",
      "        print num\n",
      "#     item = urlopen( url_itm_strt+str(c)+url_end )\n",
      "#     item = json.loads( item.read() )\n",
      "# #     print item"
     ],
     "language": "python",
     "metadata": {},
     "outputs": [
      {
       "output_type": "stream",
       "stream": "stdout",
       "text": [
        "{u'by': u'vegabook',\n",
        " u'id': 8477416,\n",
        " u'kids': [8477548, 8477472],\n",
        " u'parent': 8477385,\n",
        " u'text': u'This is going to be H U G E.<p>Stats about one&#x27;s own selflessness etc would be really cool. Or even aggregated stuff. X% is selfish, Deciles of goodness etc.',\n",
        " u'time': 1413699963,\n",
        " u'type': u'comment'}\n",
        "1\n",
        "{"
       ]
      },
      {
       "output_type": "stream",
       "stream": "stdout",
       "text": [
        "u'by': u'vegabook',\n",
        " u'id': 8468278,\n",
        " u'parent': 8467680,\n",
        " u'text': u'Okay nobody seriously looks at Apple as a panel manufacturer, unless you (and Apple) are referring to the fact that the company has a stake in Sharp. The plant and expertise required to build panels is clean room stuff that AAPL just does not do. It does industrial design and software. Not &quot;manufacturing of screens&quot; so the point is clear. Android&#x27;s skin is distant enough from Java and Linux that it can credibly be called a creation of Google. Just as Audi can say it built the car without having to credit the inventor of the internal combustion engine, and instructing a supplier to build a part to its specifications is hardly &quot;manufacturing&quot; it. It is &quot;specifying&quot; it. As every Apple product owner knows: &quot;Designed in California, MADE in China&quot;. In this case, made in Japan&#x2F;korea. As such, &quot;we manufacture&quot; is skirting close to the edge of a lie if &quot;we&quot; is spoken at an Apple branded press conference with no mention whatsoever of partners.',\n",
        " u'time': 1413499137,\n",
        " u'type': u'comment'}\n",
        "2\n",
        "{"
       ]
      },
      {
       "output_type": "stream",
       "stream": "stdout",
       "text": [
        "u'by': u'vegabook',\n",
        " u'id': 8468190,\n",
        " u'kids': [8470154, 8468427, 8468741],\n",
        " u'parent': 8467333,\n",
        " u'text': u'auto-correlated downvote trend on a perfectly reasonable point: AAPL is not very innovative as Dell is launching the same monitor. Sure the driver logic might have been the subject of some consulting but if anybody thinks it will not appear within weeks on competitor brands they&#x27;re kidding themselves. Everything about this display is <i>not</i> proprietary AAPL tech.',\n",
        " u'time': 1413498290,\n",
        " u'type': u'comment'}\n",
        "3\n",
        "{"
       ]
      },
      {
       "output_type": "stream",
       "stream": "stdout",
       "text": [
        "u'deleted': True,\n",
        " u'id': 8467842,\n",
        " u'parent': 8466437,\n",
        " u'time': 1413494647,\n",
        " u'type': u'comment'}\n",
        "4\n",
        "{"
       ]
      },
      {
       "output_type": "stream",
       "stream": "stdout",
       "text": [
        "u'by': u'vegabook',\n",
        " u'id': 8458842,\n",
        " u'parent': 8458339,\n",
        " u'text': u'Ready Steady (govt) Grant!<p>&quot;Partners in industry and goverment&quot;. Translation: 10 years to product (but hey, prototype in 5) so please give us lots of dough. It&#x27;s the technology of the future and always has been.',\n",
        " u'time': 1413386166,\n",
        " u'type': u'comment'}\n",
        "5\n",
        "{"
       ]
      },
      {
       "output_type": "stream",
       "stream": "stdout",
       "text": [
        "u'by': u'vegabook',\n",
        " u'id': 8417877,\n",
        " u'parent': 8417803,\n",
        " u'text': u'yes I can see the need to manage the narrative. But this is bad management of the narrative, because a clearly emotional CEO is letting his anger show, instead of, as you clearly point out, being dignified and making a concise statement of the facts. The statement is not concise (in itself showing a tendency towards a rant), nor does it display the necessary humility towards an employee, who, no matter his faults, no longer has a job (unlike the CEO).',\n",
        " u'time': 1412625390,\n",
        " u'type': u'comment'}\n",
        "6\n",
        "{"
       ]
      },
      {
       "output_type": "stream",
       "stream": "stdout",
       "text": [
        "u'by': u'vegabook',\n",
        " u'id': 8417858,\n",
        " u'parent': 8417757,\n",
        " u'text': u'This is an ugly affair, like firings always are. Perhaps an &quot;official&quot; response was necessary to &quot;manage the narrative&quot; as someone above commented, but I can&#x27;t help but agree that the mud is rubbing off on the CEO here, mainly because of the tone. Badly handled.',\n",
        " u'time': 1412625161,\n",
        " u'type': u'comment'}\n",
        "7\n",
        "{"
       ]
      },
      {
       "output_type": "stream",
       "stream": "stdout",
       "text": [
        "u'by': u'vegabook',\n",
        " u'id': 8417763,\n",
        " u'kids': [8417803, 8417800],\n",
        " u'parent': 8417718,\n",
        " u'text': u'Most importantly, none of these statements should be made in public. The company stands to gain much more with a dignified silence and a personal explanation to the hapless individual, than by wringing the dirty laundry out in public. That an individual employee is immature &#x2F; causes a stink, happens every second of every day. That a company CEO does the same is unacceptably poor management, and poor PR.',\n",
        " u'time': 1412624053,\n",
        " u'type': u'comment'}\n",
        "8\n",
        "{"
       ]
      },
      {
       "output_type": "stream",
       "stream": "stdout",
       "text": [
        "u'by': u'vegabook',\n",
        " u'id': 8260695,\n",
        " u'parent': 8258607,\n",
        " u'text': u'30-50 years is surely &quot;forever&quot; even in snail mail terms. 1000 years? Wow now we&#x27;re talking about an era-defining technology for civilization itself! I&#x27;m going to go with your lower bound: if email lasts largely unchanged for 30 years, then it will have been the most important application of the internet era.',\n",
        " u'time': 1409699341,\n",
        " u'type': u'comment'}\n",
        "9\n",
        "{"
       ]
      },
      {
       "output_type": "stream",
       "stream": "stdout",
       "text": [
        "u'by': u'vegabook',\n",
        " u'id': 8186882,\n",
        " u'parent': 8186821,\n",
        " u'text': u'Any favourite books&#x2F;resources on the above?',\n",
        " u'time': 1408211086,\n",
        " u'type': u'comment'}\n",
        "10\n",
        "{"
       ]
      },
      {
       "output_type": "stream",
       "stream": "stdout",
       "text": [
        "u'by': u'vegabook',\n",
        " u'id': 8184002,\n",
        " u'kids': [8186028, 8184907],\n",
        " u'parent': 8182991,\n",
        " u'text': u'ah but descent is such a luxury! Zen comes only from knowing when it is time to <i>ascend</i> the gradient, there to find new descending vistas that made the old valley look like a mountain!<p>would that all problems were so conveniently convex.',\n",
        " u'time': 1408134558,\n",
        " u'type': u'comment'}\n",
        "11\n",
        "{"
       ]
      },
      {
       "output_type": "stream",
       "stream": "stdout",
       "text": [
        "u'by': u'vegabook',\n",
        " u'id': 8041226,\n",
        " u'kids': [8042457],\n",
        " u'parent': 8041020,\n",
        " u'text': u'yep I&#x27;ll acknowledge that, yet iCloud is still sluggish and unreliable. That won&#x27;t cut it with big business for whom IBM&#x27;s availability guarantees and service level agreements are much more rigorous. I don&#x27;t think anybody has ever taken apple seriously at enterprise level robustness, is my point, and pointing to itunes and imessage is not going to persuade anybody who&#x27;s running a multinational bank (or other mission critical application) that they can bet their terminals on IOS, without a partnership with a player which has proved for over 50 years that it is capable of delivering said reliability. Let&#x27;s be honest. Imessage and iTunes are <i>not</i> mission critical to anybody in any way and thus do not do much to persuade any responsible corporate IT director, which is the target audience of this agreement.',\n",
        " u'time': 1405502535,\n",
        " u'type': u'comment'}\n",
        "12\n",
        "{"
       ]
      },
      {
       "output_type": "stream",
       "stream": "stdout",
       "text": [
        "u'by': u'vegabook',\n",
        " u'id': 8040803,\n",
        " u'kids': [8041020, 8040826, 8040999],\n",
        " u'parent': 8040786,\n",
        " u'text': u'IBM has always pitched availability and throughput for multinational-class computing. This is something Apple has singularly failed at, just look at iCloud which is still sluggish and lacking in robustness. It seems to me that Apple user endpoint (terminal?) hardware with IBM service guarantees and availability in the back end works really well. Also while I agree that this is just another IBM partner, it&#x27;s quite interesting to see how even the mainstream press is giving this partnership announcement a lot of front page visibility, suggesting it will be noticed by the corporate decision makers too.',\n",
        " u'time': 1405491579,\n",
        " u'type': u'comment'}\n",
        "13\n",
        "{"
       ]
      },
      {
       "output_type": "stream",
       "stream": "stdout",
       "text": [
        "u'by': u'vegabook',\n",
        " u'id': 8025149,\n",
        " u'parent': 8025106,\n",
        " u'text': u'Clearly the point is that Amazon is also a global business, and therefore, through economies of scale, is able to dominate businesses that are small or purely local. Moreover arguably it has monopoly power, exacerbating the issue futher. It is clear that you have not thought this through.',\n",
        " u'time': 1405185866,\n",
        " u'type': u'comment'}\n",
        "14\n",
        "{"
       ]
      },
      {
       "output_type": "stream",
       "stream": "stdout",
       "text": [
        "u'deleted': True, u'id': 8025140}\n",
        "15\n",
        "{"
       ]
      },
      {
       "output_type": "stream",
       "stream": "stdout",
       "text": [
        "u'by': u'vegabook',\n",
        " u'id': 8025035,\n",
        " u'kids': [8025067, 8025106, 8025155, 8025585, 8025102, 8025044],\n",
        " u'parent': 8024800,\n",
        " u'text': u'Can we try to keep (the deeply discretited) Hayek and the Chicago school, not to mention over-complicated philosophical jargon out of the argument? I would content that you should liberate yourself from the received wisdom of your philosophy course, and think for yourself.<p>The issue is simple: is protection of local industry justified in the face of globalization. Obliquely (not orthogonally), are local businesses adding social value, or is lowest cost the absolute and only barometer of utility. Only once we have answered these questions can we decide if Amazon is correct or not, and it is not going to help to cite a bunch of dead people, who, in my opinion, are very clearly responsible for the ills of our current society.<p>Far better, citing The Economist Style Guide, &quot;think what you want to say, then say it as simply as possible&quot;.',\n",
        " u'time': 1405183853,\n",
        " u'type': u'comment'}\n",
        "16\n",
        "{"
       ]
      },
      {
       "output_type": "stream",
       "stream": "stdout",
       "text": [
        "u'by': u'vegabook',\n",
        " u'id': 8477416,\n",
        " u'kids': [8477548, 8477472],\n",
        " u'parent': 8477385,\n",
        " u'text': u'This is going to be H U G E.<p>Stats about one&#x27;s own selflessness etc would be really cool. Or even aggregated stuff. X% is selfish, Deciles of goodness etc.',\n",
        " u'time': 1413699963,\n",
        " u'type': u'comment'}\n",
        "1\n",
        "{"
       ]
      },
      {
       "output_type": "stream",
       "stream": "stdout",
       "text": [
        "u'by': u'vegabook',\n",
        " u'id': 8468278,\n",
        " u'parent': 8467680,\n",
        " u'text': u'Okay nobody seriously looks at Apple as a panel manufacturer, unless you (and Apple) are referring to the fact that the company has a stake in Sharp. The plant and expertise required to build panels is clean room stuff that AAPL just does not do. It does industrial design and software. Not &quot;manufacturing of screens&quot; so the point is clear. Android&#x27;s skin is distant enough from Java and Linux that it can credibly be called a creation of Google. Just as Audi can say it built the car without having to credit the inventor of the internal combustion engine, and instructing a supplier to build a part to its specifications is hardly &quot;manufacturing&quot; it. It is &quot;specifying&quot; it. As every Apple product owner knows: &quot;Designed in California, MADE in China&quot;. In this case, made in Japan&#x2F;korea. As such, &quot;we manufacture&quot; is skirting close to the edge of a lie if &quot;we&quot; is spoken at an Apple branded press conference with no mention whatsoever of partners.',\n",
        " u'time': 1413499137,\n",
        " u'type': u'comment'}\n",
        "2\n",
        "{"
       ]
      },
      {
       "output_type": "stream",
       "stream": "stdout",
       "text": [
        "u'by': u'vegabook',\n",
        " u'id': 8468190,\n",
        " u'kids': [8470154, 8468427, 8468741],\n",
        " u'parent': 8467333,\n",
        " u'text': u'auto-correlated downvote trend on a perfectly reasonable point: AAPL is not very innovative as Dell is launching the same monitor. Sure the driver logic might have been the subject of some consulting but if anybody thinks it will not appear within weeks on competitor brands they&#x27;re kidding themselves. Everything about this display is <i>not</i> proprietary AAPL tech.',\n",
        " u'time': 1413498290,\n",
        " u'type': u'comment'}\n",
        "3\n",
        "{"
       ]
      },
      {
       "output_type": "stream",
       "stream": "stdout",
       "text": [
        "u'deleted': True,\n",
        " u'id': 8467842,\n",
        " u'parent': 8466437,\n",
        " u'time': 1413494647,\n",
        " u'type': u'comment'}\n",
        "4\n",
        "{"
       ]
      },
      {
       "output_type": "stream",
       "stream": "stdout",
       "text": [
        "u'by': u'vegabook',\n",
        " u'id': 8458842,\n",
        " u'parent': 8458339,\n",
        " u'text': u'Ready Steady (govt) Grant!<p>&quot;Partners in industry and goverment&quot;. Translation: 10 years to product (but hey, prototype in 5) so please give us lots of dough. It&#x27;s the technology of the future and always has been.',\n",
        " u'time': 1413386166,\n",
        " u'type': u'comment'}\n",
        "5\n",
        "{"
       ]
      },
      {
       "output_type": "stream",
       "stream": "stdout",
       "text": [
        "u'by': u'vegabook',\n",
        " u'id': 8417877,\n",
        " u'parent': 8417803,\n",
        " u'text': u'yes I can see the need to manage the narrative. But this is bad management of the narrative, because a clearly emotional CEO is letting his anger show, instead of, as you clearly point out, being dignified and making a concise statement of the facts. The statement is not concise (in itself showing a tendency towards a rant), nor does it display the necessary humility towards an employee, who, no matter his faults, no longer has a job (unlike the CEO).',\n",
        " u'time': 1412625390,\n",
        " u'type': u'comment'}\n",
        "6\n",
        "{"
       ]
      },
      {
       "output_type": "stream",
       "stream": "stdout",
       "text": [
        "u'by': u'vegabook',\n",
        " u'id': 8417858,\n",
        " u'parent': 8417757,\n",
        " u'text': u'This is an ugly affair, like firings always are. Perhaps an &quot;official&quot; response was necessary to &quot;manage the narrative&quot; as someone above commented, but I can&#x27;t help but agree that the mud is rubbing off on the CEO here, mainly because of the tone. Badly handled.',\n",
        " u'time': 1412625161,\n",
        " u'type': u'comment'}\n",
        "7\n",
        "{"
       ]
      },
      {
       "output_type": "stream",
       "stream": "stdout",
       "text": [
        "u'by': u'vegabook',\n",
        " u'id': 8417763,\n",
        " u'kids': [8417803, 8417800],\n",
        " u'parent': 8417718,\n",
        " u'text': u'Most importantly, none of these statements should be made in public. The company stands to gain much more with a dignified silence and a personal explanation to the hapless individual, than by wringing the dirty laundry out in public. That an individual employee is immature &#x2F; causes a stink, happens every second of every day. That a company CEO does the same is unacceptably poor management, and poor PR.',\n",
        " u'time': 1412624053,\n",
        " u'type': u'comment'}\n",
        "8\n",
        "{"
       ]
      },
      {
       "output_type": "stream",
       "stream": "stdout",
       "text": [
        "u'by': u'vegabook',\n",
        " u'id': 8260695,\n",
        " u'parent': 8258607,\n",
        " u'text': u'30-50 years is surely &quot;forever&quot; even in snail mail terms. 1000 years? Wow now we&#x27;re talking about an era-defining technology for civilization itself! I&#x27;m going to go with your lower bound: if email lasts largely unchanged for 30 years, then it will have been the most important application of the internet era.',\n",
        " u'time': 1409699341,\n",
        " u'type': u'comment'}\n",
        "9\n",
        "{"
       ]
      },
      {
       "output_type": "stream",
       "stream": "stdout",
       "text": [
        "u'by': u'vegabook',\n",
        " u'id': 8186882,\n",
        " u'parent': 8186821,\n",
        " u'text': u'Any favourite books&#x2F;resources on the above?',\n",
        " u'time': 1408211086,\n",
        " u'type': u'comment'}\n",
        "10\n",
        "{"
       ]
      },
      {
       "output_type": "stream",
       "stream": "stdout",
       "text": [
        "u'by': u'vegabook',\n",
        " u'id': 8184002,\n",
        " u'kids': [8186028, 8184907],\n",
        " u'parent': 8182991,\n",
        " u'text': u'ah but descent is such a luxury! Zen comes only from knowing when it is time to <i>ascend</i> the gradient, there to find new descending vistas that made the old valley look like a mountain!<p>would that all problems were so conveniently convex.',\n",
        " u'time': 1408134558,\n",
        " u'type': u'comment'}\n",
        "11\n",
        "{"
       ]
      },
      {
       "output_type": "stream",
       "stream": "stdout",
       "text": [
        "u'by': u'vegabook',\n",
        " u'id': 8041226,\n",
        " u'kids': [8042457],\n",
        " u'parent': 8041020,\n",
        " u'text': u'yep I&#x27;ll acknowledge that, yet iCloud is still sluggish and unreliable. That won&#x27;t cut it with big business for whom IBM&#x27;s availability guarantees and service level agreements are much more rigorous. I don&#x27;t think anybody has ever taken apple seriously at enterprise level robustness, is my point, and pointing to itunes and imessage is not going to persuade anybody who&#x27;s running a multinational bank (or other mission critical application) that they can bet their terminals on IOS, without a partnership with a player which has proved for over 50 years that it is capable of delivering said reliability. Let&#x27;s be honest. Imessage and iTunes are <i>not</i> mission critical to anybody in any way and thus do not do much to persuade any responsible corporate IT director, which is the target audience of this agreement.',\n",
        " u'time': 1405502535,\n",
        " u'type': u'comment'}\n",
        "12\n",
        "{"
       ]
      },
      {
       "output_type": "stream",
       "stream": "stdout",
       "text": [
        "u'by': u'vegabook',\n",
        " u'id': 8040803,\n",
        " u'kids': [8041020, 8040826, 8040999],\n",
        " u'parent': 8040786,\n",
        " u'text': u'IBM has always pitched availability and throughput for multinational-class computing. This is something Apple has singularly failed at, just look at iCloud which is still sluggish and lacking in robustness. It seems to me that Apple user endpoint (terminal?) hardware with IBM service guarantees and availability in the back end works really well. Also while I agree that this is just another IBM partner, it&#x27;s quite interesting to see how even the mainstream press is giving this partnership announcement a lot of front page visibility, suggesting it will be noticed by the corporate decision makers too.',\n",
        " u'time': 1405491579,\n",
        " u'type': u'comment'}\n",
        "13\n",
        "{"
       ]
      },
      {
       "output_type": "stream",
       "stream": "stdout",
       "text": [
        "u'by': u'vegabook',\n",
        " u'id': 8025149,\n",
        " u'parent': 8025106,\n",
        " u'text': u'Clearly the point is that Amazon is also a global business, and therefore, through economies of scale, is able to dominate businesses that are small or purely local. Moreover arguably it has monopoly power, exacerbating the issue futher. It is clear that you have not thought this through.',\n",
        " u'time': 1405185866,\n",
        " u'type': u'comment'}\n",
        "14\n",
        "{"
       ]
      },
      {
       "output_type": "stream",
       "stream": "stdout",
       "text": [
        "u'deleted': True, u'id': 8025140}\n",
        "15\n",
        "{"
       ]
      },
      {
       "output_type": "stream",
       "stream": "stdout",
       "text": [
        "u'by': u'vegabook',\n",
        " u'id': 8025035,\n",
        " u'kids': [8025067, 8025106, 8025155, 8025585, 8025102, 8025044],\n",
        " u'parent': 8024800,\n",
        " u'text': u'Can we try to keep (the deeply discretited) Hayek and the Chicago school, not to mention over-complicated philosophical jargon out of the argument? I would content that you should liberate yourself from the received wisdom of your philosophy course, and think for yourself.<p>The issue is simple: is protection of local industry justified in the face of globalization. Obliquely (not orthogonally), are local businesses adding social value, or is lowest cost the absolute and only barometer of utility. Only once we have answered these questions can we decide if Amazon is correct or not, and it is not going to help to cite a bunch of dead people, who, in my opinion, are very clearly responsible for the ills of our current society.<p>Far better, citing The Economist Style Guide, &quot;think what you want to say, then say it as simply as possible&quot;.',\n",
        " u'time': 1405183853,\n",
        " u'type': u'comment'}\n",
        "16\n",
        "{"
       ]
      },
      {
       "output_type": "stream",
       "stream": "stdout",
       "text": [
        "u'by': u'vegabook',\n",
        " u'id': 8477416,\n",
        " u'kids': [8477548, 8477472],\n",
        " u'parent': 8477385,\n",
        " u'text': u'This is going to be H U G E.<p>Stats about one&#x27;s own selflessness etc would be really cool. Or even aggregated stuff. X% is selfish, Deciles of goodness etc.',\n",
        " u'time': 1413699963,\n",
        " u'type': u'comment'}\n",
        "1\n",
        "{"
       ]
      },
      {
       "output_type": "stream",
       "stream": "stdout",
       "text": [
        "u'by': u'vegabook',\n",
        " u'id': 8468278,\n",
        " u'parent': 8467680,\n",
        " u'text': u'Okay nobody seriously looks at Apple as a panel manufacturer, unless you (and Apple) are referring to the fact that the company has a stake in Sharp. The plant and expertise required to build panels is clean room stuff that AAPL just does not do. It does industrial design and software. Not &quot;manufacturing of screens&quot; so the point is clear. Android&#x27;s skin is distant enough from Java and Linux that it can credibly be called a creation of Google. Just as Audi can say it built the car without having to credit the inventor of the internal combustion engine, and instructing a supplier to build a part to its specifications is hardly &quot;manufacturing&quot; it. It is &quot;specifying&quot; it. As every Apple product owner knows: &quot;Designed in California, MADE in China&quot;. In this case, made in Japan&#x2F;korea. As such, &quot;we manufacture&quot; is skirting close to the edge of a lie if &quot;we&quot; is spoken at an Apple branded press conference with no mention whatsoever of partners.',\n",
        " u'time': 1413499137,\n",
        " u'type': u'comment'}\n",
        "2\n",
        "{"
       ]
      },
      {
       "output_type": "stream",
       "stream": "stdout",
       "text": [
        "u'by': u'vegabook',\n",
        " u'id': 8468190,\n",
        " u'kids': [8470154, 8468427, 8468741],\n",
        " u'parent': 8467333,\n",
        " u'text': u'auto-correlated downvote trend on a perfectly reasonable point: AAPL is not very innovative as Dell is launching the same monitor. Sure the driver logic might have been the subject of some consulting but if anybody thinks it will not appear within weeks on competitor brands they&#x27;re kidding themselves. Everything about this display is <i>not</i> proprietary AAPL tech.',\n",
        " u'time': 1413498290,\n",
        " u'type': u'comment'}\n",
        "3\n",
        "{"
       ]
      },
      {
       "output_type": "stream",
       "stream": "stdout",
       "text": [
        "u'deleted': True,\n",
        " u'id': 8467842,\n",
        " u'parent': 8466437,\n",
        " u'time': 1413494647,\n",
        " u'type': u'comment'}\n",
        "4\n",
        "{"
       ]
      },
      {
       "output_type": "stream",
       "stream": "stdout",
       "text": [
        "u'by': u'vegabook',\n",
        " u'id': 8458842,\n",
        " u'parent': 8458339,\n",
        " u'text': u'Ready Steady (govt) Grant!<p>&quot;Partners in industry and goverment&quot;. Translation: 10 years to product (but hey, prototype in 5) so please give us lots of dough. It&#x27;s the technology of the future and always has been.',\n",
        " u'time': 1413386166,\n",
        " u'type': u'comment'}\n",
        "5\n",
        "{"
       ]
      },
      {
       "output_type": "stream",
       "stream": "stdout",
       "text": [
        "u'by': u'vegabook',\n",
        " u'id': 8417877,\n",
        " u'parent': 8417803,\n",
        " u'text': u'yes I can see the need to manage the narrative. But this is bad management of the narrative, because a clearly emotional CEO is letting his anger show, instead of, as you clearly point out, being dignified and making a concise statement of the facts. The statement is not concise (in itself showing a tendency towards a rant), nor does it display the necessary humility towards an employee, who, no matter his faults, no longer has a job (unlike the CEO).',\n",
        " u'time': 1412625390,\n",
        " u'type': u'comment'}\n",
        "6\n",
        "{"
       ]
      },
      {
       "output_type": "stream",
       "stream": "stdout",
       "text": [
        "u'by': u'vegabook',\n",
        " u'id': 8417858,\n",
        " u'parent': 8417757,\n",
        " u'text': u'This is an ugly affair, like firings always are. Perhaps an &quot;official&quot; response was necessary to &quot;manage the narrative&quot; as someone above commented, but I can&#x27;t help but agree that the mud is rubbing off on the CEO here, mainly because of the tone. Badly handled.',\n",
        " u'time': 1412625161,\n",
        " u'type': u'comment'}\n",
        "7\n",
        "{"
       ]
      },
      {
       "output_type": "stream",
       "stream": "stdout",
       "text": [
        "u'by': u'vegabook',\n",
        " u'id': 8417763,\n",
        " u'kids': [8417803, 8417800],\n",
        " u'parent': 8417718,\n",
        " u'text': u'Most importantly, none of these statements should be made in public. The company stands to gain much more with a dignified silence and a personal explanation to the hapless individual, than by wringing the dirty laundry out in public. That an individual employee is immature &#x2F; causes a stink, happens every second of every day. That a company CEO does the same is unacceptably poor management, and poor PR.',\n",
        " u'time': 1412624053,\n",
        " u'type': u'comment'}\n",
        "8\n",
        "{"
       ]
      },
      {
       "output_type": "stream",
       "stream": "stdout",
       "text": [
        "u'by': u'vegabook',\n",
        " u'id': 8260695,\n",
        " u'parent': 8258607,\n",
        " u'text': u'30-50 years is surely &quot;forever&quot; even in snail mail terms. 1000 years? Wow now we&#x27;re talking about an era-defining technology for civilization itself! I&#x27;m going to go with your lower bound: if email lasts largely unchanged for 30 years, then it will have been the most important application of the internet era.',\n",
        " u'time': 1409699341,\n",
        " u'type': u'comment'}\n",
        "9\n",
        "{"
       ]
      },
      {
       "output_type": "stream",
       "stream": "stdout",
       "text": [
        "u'by': u'vegabook',\n",
        " u'id': 8186882,\n",
        " u'parent': 8186821,\n",
        " u'text': u'Any favourite books&#x2F;resources on the above?',\n",
        " u'time': 1408211086,\n",
        " u'type': u'comment'}\n",
        "10\n",
        "{"
       ]
      },
      {
       "output_type": "stream",
       "stream": "stdout",
       "text": [
        "u'by': u'vegabook',\n",
        " u'id': 8184002,\n",
        " u'kids': [8186028, 8184907],\n",
        " u'parent': 8182991,\n",
        " u'text': u'ah but descent is such a luxury! Zen comes only from knowing when it is time to <i>ascend</i> the gradient, there to find new descending vistas that made the old valley look like a mountain!<p>would that all problems were so conveniently convex.',\n",
        " u'time': 1408134558,\n",
        " u'type': u'comment'}\n",
        "11\n",
        "{"
       ]
      },
      {
       "output_type": "stream",
       "stream": "stdout",
       "text": [
        "u'by': u'vegabook',\n",
        " u'id': 8041226,\n",
        " u'kids': [8042457],\n",
        " u'parent': 8041020,\n",
        " u'text': u'yep I&#x27;ll acknowledge that, yet iCloud is still sluggish and unreliable. That won&#x27;t cut it with big business for whom IBM&#x27;s availability guarantees and service level agreements are much more rigorous. I don&#x27;t think anybody has ever taken apple seriously at enterprise level robustness, is my point, and pointing to itunes and imessage is not going to persuade anybody who&#x27;s running a multinational bank (or other mission critical application) that they can bet their terminals on IOS, without a partnership with a player which has proved for over 50 years that it is capable of delivering said reliability. Let&#x27;s be honest. Imessage and iTunes are <i>not</i> mission critical to anybody in any way and thus do not do much to persuade any responsible corporate IT director, which is the target audience of this agreement.',\n",
        " u'time': 1405502535,\n",
        " u'type': u'comment'}\n",
        "12\n",
        "{"
       ]
      },
      {
       "output_type": "stream",
       "stream": "stdout",
       "text": [
        "u'by': u'vegabook',\n",
        " u'id': 8040803,\n",
        " u'kids': [8041020, 8040826, 8040999],\n",
        " u'parent': 8040786,\n",
        " u'text': u'IBM has always pitched availability and throughput for multinational-class computing. This is something Apple has singularly failed at, just look at iCloud which is still sluggish and lacking in robustness. It seems to me that Apple user endpoint (terminal?) hardware with IBM service guarantees and availability in the back end works really well. Also while I agree that this is just another IBM partner, it&#x27;s quite interesting to see how even the mainstream press is giving this partnership announcement a lot of front page visibility, suggesting it will be noticed by the corporate decision makers too.',\n",
        " u'time': 1405491579,\n",
        " u'type': u'comment'}\n",
        "13\n",
        "{"
       ]
      },
      {
       "output_type": "stream",
       "stream": "stdout",
       "text": [
        "u'by': u'vegabook',\n",
        " u'id': 8025149,\n",
        " u'parent': 8025106,\n",
        " u'text': u'Clearly the point is that Amazon is also a global business, and therefore, through economies of scale, is able to dominate businesses that are small or purely local. Moreover arguably it has monopoly power, exacerbating the issue futher. It is clear that you have not thought this through.',\n",
        " u'time': 1405185866,\n",
        " u'type': u'comment'}\n",
        "14\n",
        "{"
       ]
      },
      {
       "output_type": "stream",
       "stream": "stdout",
       "text": [
        "u'deleted': True, u'id': 8025140}\n",
        "15\n",
        "{"
       ]
      },
      {
       "output_type": "stream",
       "stream": "stdout",
       "text": [
        "u'by': u'vegabook',\n",
        " u'id': 8025035,\n",
        " u'kids': [8025067, 8025106, 8025155, 8025585, 8025102, 8025044],\n",
        " u'parent': 8024800,\n",
        " u'text': u'Can we try to keep (the deeply discretited) Hayek and the Chicago school, not to mention over-complicated philosophical jargon out of the argument? I would content that you should liberate yourself from the received wisdom of your philosophy course, and think for yourself.<p>The issue is simple: is protection of local industry justified in the face of globalization. Obliquely (not orthogonally), are local businesses adding social value, or is lowest cost the absolute and only barometer of utility. Only once we have answered these questions can we decide if Amazon is correct or not, and it is not going to help to cite a bunch of dead people, who, in my opinion, are very clearly responsible for the ills of our current society.<p>Far better, citing The Economist Style Guide, &quot;think what you want to say, then say it as simply as possible&quot;.',\n",
        " u'time': 1405183853,\n",
        " u'type': u'comment'}\n",
        "16\n",
        "{"
       ]
      },
      {
       "output_type": "stream",
       "stream": "stdout",
       "text": [
        "u'by': u'vegabook',\n",
        " u'id': 8477416,\n",
        " u'kids': [8477548, 8477472],\n",
        " u'parent': 8477385,\n",
        " u'text': u'This is going to be H U G E.<p>Stats about one&#x27;s own selflessness etc would be really cool. Or even aggregated stuff. X% is selfish, Deciles of goodness etc.',\n",
        " u'time': 1413699963,\n",
        " u'type': u'comment'}\n",
        "1\n",
        "{"
       ]
      },
      {
       "output_type": "stream",
       "stream": "stdout",
       "text": [
        "u'by': u'vegabook',\n",
        " u'id': 8468278,\n",
        " u'parent': 8467680,\n",
        " u'text': u'Okay nobody seriously looks at Apple as a panel manufacturer, unless you (and Apple) are referring to the fact that the company has a stake in Sharp. The plant and expertise required to build panels is clean room stuff that AAPL just does not do. It does industrial design and software. Not &quot;manufacturing of screens&quot; so the point is clear. Android&#x27;s skin is distant enough from Java and Linux that it can credibly be called a creation of Google. Just as Audi can say it built the car without having to credit the inventor of the internal combustion engine, and instructing a supplier to build a part to its specifications is hardly &quot;manufacturing&quot; it. It is &quot;specifying&quot; it. As every Apple product owner knows: &quot;Designed in California, MADE in China&quot;. In this case, made in Japan&#x2F;korea. As such, &quot;we manufacture&quot; is skirting close to the edge of a lie if &quot;we&quot; is spoken at an Apple branded press conference with no mention whatsoever of partners.',\n",
        " u'time': 1413499137,\n",
        " u'type': u'comment'}\n",
        "2\n",
        "{"
       ]
      },
      {
       "output_type": "stream",
       "stream": "stdout",
       "text": [
        "u'by': u'vegabook',\n",
        " u'id': 8468190,\n",
        " u'kids': [8470154, 8468427, 8468741],\n",
        " u'parent': 8467333,\n",
        " u'text': u'auto-correlated downvote trend on a perfectly reasonable point: AAPL is not very innovative as Dell is launching the same monitor. Sure the driver logic might have been the subject of some consulting but if anybody thinks it will not appear within weeks on competitor brands they&#x27;re kidding themselves. Everything about this display is <i>not</i> proprietary AAPL tech.',\n",
        " u'time': 1413498290,\n",
        " u'type': u'comment'}\n",
        "3\n",
        "{"
       ]
      },
      {
       "output_type": "stream",
       "stream": "stdout",
       "text": [
        "u'deleted': True,\n",
        " u'id': 8467842,\n",
        " u'parent': 8466437,\n",
        " u'time': 1413494647,\n",
        " u'type': u'comment'}\n",
        "4\n",
        "{"
       ]
      },
      {
       "output_type": "stream",
       "stream": "stdout",
       "text": [
        "u'by': u'vegabook',\n",
        " u'id': 8458842,\n",
        " u'parent': 8458339,\n",
        " u'text': u'Ready Steady (govt) Grant!<p>&quot;Partners in industry and goverment&quot;. Translation: 10 years to product (but hey, prototype in 5) so please give us lots of dough. It&#x27;s the technology of the future and always has been.',\n",
        " u'time': 1413386166,\n",
        " u'type': u'comment'}\n",
        "5\n",
        "{"
       ]
      },
      {
       "output_type": "stream",
       "stream": "stdout",
       "text": [
        "u'by': u'vegabook',\n",
        " u'id': 8417877,\n",
        " u'parent': 8417803,\n",
        " u'text': u'yes I can see the need to manage the narrative. But this is bad management of the narrative, because a clearly emotional CEO is letting his anger show, instead of, as you clearly point out, being dignified and making a concise statement of the facts. The statement is not concise (in itself showing a tendency towards a rant), nor does it display the necessary humility towards an employee, who, no matter his faults, no longer has a job (unlike the CEO).',\n",
        " u'time': 1412625390,\n",
        " u'type': u'comment'}\n",
        "6\n",
        "{"
       ]
      },
      {
       "output_type": "stream",
       "stream": "stdout",
       "text": [
        "u'by': u'vegabook',\n",
        " u'id': 8417858,\n",
        " u'parent': 8417757,\n",
        " u'text': u'This is an ugly affair, like firings always are. Perhaps an &quot;official&quot; response was necessary to &quot;manage the narrative&quot; as someone above commented, but I can&#x27;t help but agree that the mud is rubbing off on the CEO here, mainly because of the tone. Badly handled.',\n",
        " u'time': 1412625161,\n",
        " u'type': u'comment'}\n",
        "7\n",
        "{"
       ]
      },
      {
       "output_type": "stream",
       "stream": "stdout",
       "text": [
        "u'by': u'vegabook',\n",
        " u'id': 8417763,\n",
        " u'kids': [8417803, 8417800],\n",
        " u'parent': 8417718,\n",
        " u'text': u'Most importantly, none of these statements should be made in public. The company stands to gain much more with a dignified silence and a personal explanation to the hapless individual, than by wringing the dirty laundry out in public. That an individual employee is immature &#x2F; causes a stink, happens every second of every day. That a company CEO does the same is unacceptably poor management, and poor PR.',\n",
        " u'time': 1412624053,\n",
        " u'type': u'comment'}\n",
        "8\n",
        "{"
       ]
      },
      {
       "output_type": "stream",
       "stream": "stdout",
       "text": [
        "u'by': u'vegabook',\n",
        " u'id': 8260695,\n",
        " u'parent': 8258607,\n",
        " u'text': u'30-50 years is surely &quot;forever&quot; even in snail mail terms. 1000 years? Wow now we&#x27;re talking about an era-defining technology for civilization itself! I&#x27;m going to go with your lower bound: if email lasts largely unchanged for 30 years, then it will have been the most important application of the internet era.',\n",
        " u'time': 1409699341,\n",
        " u'type': u'comment'}\n",
        "9\n",
        "{"
       ]
      },
      {
       "output_type": "stream",
       "stream": "stdout",
       "text": [
        "u'by': u'vegabook',\n",
        " u'id': 8186882,\n",
        " u'parent': 8186821,\n",
        " u'text': u'Any favourite books&#x2F;resources on the above?',\n",
        " u'time': 1408211086,\n",
        " u'type': u'comment'}\n",
        "10\n",
        "{"
       ]
      },
      {
       "output_type": "stream",
       "stream": "stdout",
       "text": [
        "u'by': u'vegabook',\n",
        " u'id': 8184002,\n",
        " u'kids': [8186028, 8184907],\n",
        " u'parent': 8182991,\n",
        " u'text': u'ah but descent is such a luxury! Zen comes only from knowing when it is time to <i>ascend</i> the gradient, there to find new descending vistas that made the old valley look like a mountain!<p>would that all problems were so conveniently convex.',\n",
        " u'time': 1408134558,\n",
        " u'type': u'comment'}\n",
        "11\n",
        "{"
       ]
      },
      {
       "output_type": "stream",
       "stream": "stdout",
       "text": [
        "u'by': u'vegabook',\n",
        " u'id': 8041226,\n",
        " u'kids': [8042457],\n",
        " u'parent': 8041020,\n",
        " u'text': u'yep I&#x27;ll acknowledge that, yet iCloud is still sluggish and unreliable. That won&#x27;t cut it with big business for whom IBM&#x27;s availability guarantees and service level agreements are much more rigorous. I don&#x27;t think anybody has ever taken apple seriously at enterprise level robustness, is my point, and pointing to itunes and imessage is not going to persuade anybody who&#x27;s running a multinational bank (or other mission critical application) that they can bet their terminals on IOS, without a partnership with a player which has proved for over 50 years that it is capable of delivering said reliability. Let&#x27;s be honest. Imessage and iTunes are <i>not</i> mission critical to anybody in any way and thus do not do much to persuade any responsible corporate IT director, which is the target audience of this agreement.',\n",
        " u'time': 1405502535,\n",
        " u'type': u'comment'}\n",
        "12\n",
        "{"
       ]
      },
      {
       "output_type": "stream",
       "stream": "stdout",
       "text": [
        "u'by': u'vegabook',\n",
        " u'id': 8040803,\n",
        " u'kids': [8041020, 8040826, 8040999],\n",
        " u'parent': 8040786,\n",
        " u'text': u'IBM has always pitched availability and throughput for multinational-class computing. This is something Apple has singularly failed at, just look at iCloud which is still sluggish and lacking in robustness. It seems to me that Apple user endpoint (terminal?) hardware with IBM service guarantees and availability in the back end works really well. Also while I agree that this is just another IBM partner, it&#x27;s quite interesting to see how even the mainstream press is giving this partnership announcement a lot of front page visibility, suggesting it will be noticed by the corporate decision makers too.',\n",
        " u'time': 1405491579,\n",
        " u'type': u'comment'}\n",
        "13\n",
        "{"
       ]
      },
      {
       "output_type": "stream",
       "stream": "stdout",
       "text": [
        "u'by': u'vegabook',\n",
        " u'id': 8025149,\n",
        " u'parent': 8025106,\n",
        " u'text': u'Clearly the point is that Amazon is also a global business, and therefore, through economies of scale, is able to dominate businesses that are small or purely local. Moreover arguably it has monopoly power, exacerbating the issue futher. It is clear that you have not thought this through.',\n",
        " u'time': 1405185866,\n",
        " u'type': u'comment'}\n",
        "14\n",
        "{"
       ]
      },
      {
       "output_type": "stream",
       "stream": "stdout",
       "text": [
        "u'deleted': True, u'id': 8025140}\n",
        "15\n",
        "{"
       ]
      },
      {
       "output_type": "stream",
       "stream": "stdout",
       "text": [
        "u'by': u'vegabook',\n",
        " u'id': 8025035,\n",
        " u'kids': [8025067, 8025106, 8025155, 8025585, 8025102, 8025044],\n",
        " u'parent': 8024800,\n",
        " u'text': u'Can we try to keep (the deeply discretited) Hayek and the Chicago school, not to mention over-complicated philosophical jargon out of the argument? I would content that you should liberate yourself from the received wisdom of your philosophy course, and think for yourself.<p>The issue is simple: is protection of local industry justified in the face of globalization. Obliquely (not orthogonally), are local businesses adding social value, or is lowest cost the absolute and only barometer of utility. Only once we have answered these questions can we decide if Amazon is correct or not, and it is not going to help to cite a bunch of dead people, who, in my opinion, are very clearly responsible for the ills of our current society.<p>Far better, citing The Economist Style Guide, &quot;think what you want to say, then say it as simply as possible&quot;.',\n",
        " u'time': 1405183853,\n",
        " u'type': u'comment'}\n",
        "16\n",
        "{"
       ]
      },
      {
       "output_type": "stream",
       "stream": "stdout",
       "text": [
        "u'by': u'vegabook',\n",
        " u'id': 8477416,\n",
        " u'kids': [8477548, 8477472],\n",
        " u'parent': 8477385,\n",
        " u'text': u'This is going to be H U G E.<p>Stats about one&#x27;s own selflessness etc would be really cool. Or even aggregated stuff. X% is selfish, Deciles of goodness etc.',\n",
        " u'time': 1413699963,\n",
        " u'type': u'comment'}\n",
        "1\n",
        "{"
       ]
      },
      {
       "output_type": "stream",
       "stream": "stdout",
       "text": [
        "u'by': u'vegabook',\n",
        " u'id': 8468278,\n",
        " u'parent': 8467680,\n",
        " u'text': u'Okay nobody seriously looks at Apple as a panel manufacturer, unless you (and Apple) are referring to the fact that the company has a stake in Sharp. The plant and expertise required to build panels is clean room stuff that AAPL just does not do. It does industrial design and software. Not &quot;manufacturing of screens&quot; so the point is clear. Android&#x27;s skin is distant enough from Java and Linux that it can credibly be called a creation of Google. Just as Audi can say it built the car without having to credit the inventor of the internal combustion engine, and instructing a supplier to build a part to its specifications is hardly &quot;manufacturing&quot; it. It is &quot;specifying&quot; it. As every Apple product owner knows: &quot;Designed in California, MADE in China&quot;. In this case, made in Japan&#x2F;korea. As such, &quot;we manufacture&quot; is skirting close to the edge of a lie if &quot;we&quot; is spoken at an Apple branded press conference with no mention whatsoever of partners.',\n",
        " u'time': 1413499137,\n",
        " u'type': u'comment'}\n",
        "2\n",
        "{"
       ]
      },
      {
       "output_type": "stream",
       "stream": "stdout",
       "text": [
        "u'by': u'vegabook',\n",
        " u'id': 8468190,\n",
        " u'kids': [8470154, 8468427, 8468741],\n",
        " u'parent': 8467333,\n",
        " u'text': u'auto-correlated downvote trend on a perfectly reasonable point: AAPL is not very innovative as Dell is launching the same monitor. Sure the driver logic might have been the subject of some consulting but if anybody thinks it will not appear within weeks on competitor brands they&#x27;re kidding themselves. Everything about this display is <i>not</i> proprietary AAPL tech.',\n",
        " u'time': 1413498290,\n",
        " u'type': u'comment'}\n",
        "3\n",
        "{"
       ]
      },
      {
       "output_type": "stream",
       "stream": "stdout",
       "text": [
        "u'deleted': True,\n",
        " u'id': 8467842,\n",
        " u'parent': 8466437,\n",
        " u'time': 1413494647,\n",
        " u'type': u'comment'}\n",
        "4\n",
        "{"
       ]
      },
      {
       "output_type": "stream",
       "stream": "stdout",
       "text": [
        "u'by': u'vegabook',\n",
        " u'id': 8458842,\n",
        " u'parent': 8458339,\n",
        " u'text': u'Ready Steady (govt) Grant!<p>&quot;Partners in industry and goverment&quot;. Translation: 10 years to product (but hey, prototype in 5) so please give us lots of dough. It&#x27;s the technology of the future and always has been.',\n",
        " u'time': 1413386166,\n",
        " u'type': u'comment'}\n",
        "5\n",
        "{"
       ]
      },
      {
       "output_type": "stream",
       "stream": "stdout",
       "text": [
        "u'by': u'vegabook',\n",
        " u'id': 8417877,\n",
        " u'parent': 8417803,\n",
        " u'text': u'yes I can see the need to manage the narrative. But this is bad management of the narrative, because a clearly emotional CEO is letting his anger show, instead of, as you clearly point out, being dignified and making a concise statement of the facts. The statement is not concise (in itself showing a tendency towards a rant), nor does it display the necessary humility towards an employee, who, no matter his faults, no longer has a job (unlike the CEO).',\n",
        " u'time': 1412625390,\n",
        " u'type': u'comment'}\n",
        "6\n",
        "{"
       ]
      },
      {
       "output_type": "stream",
       "stream": "stdout",
       "text": [
        "u'by': u'vegabook',\n",
        " u'id': 8417858,\n",
        " u'parent': 8417757,\n",
        " u'text': u'This is an ugly affair, like firings always are. Perhaps an &quot;official&quot; response was necessary to &quot;manage the narrative&quot; as someone above commented, but I can&#x27;t help but agree that the mud is rubbing off on the CEO here, mainly because of the tone. Badly handled.',\n",
        " u'time': 1412625161,\n",
        " u'type': u'comment'}\n",
        "7\n",
        "{"
       ]
      },
      {
       "output_type": "stream",
       "stream": "stdout",
       "text": [
        "u'by': u'vegabook',\n",
        " u'id': 8417763,\n",
        " u'kids': [8417803, 8417800],\n",
        " u'parent': 8417718,\n",
        " u'text': u'Most importantly, none of these statements should be made in public. The company stands to gain much more with a dignified silence and a personal explanation to the hapless individual, than by wringing the dirty laundry out in public. That an individual employee is immature &#x2F; causes a stink, happens every second of every day. That a company CEO does the same is unacceptably poor management, and poor PR.',\n",
        " u'time': 1412624053,\n",
        " u'type': u'comment'}\n",
        "8\n",
        "{"
       ]
      },
      {
       "output_type": "stream",
       "stream": "stdout",
       "text": [
        "u'by': u'vegabook',\n",
        " u'id': 8260695,\n",
        " u'parent': 8258607,\n",
        " u'text': u'30-50 years is surely &quot;forever&quot; even in snail mail terms. 1000 years? Wow now we&#x27;re talking about an era-defining technology for civilization itself! I&#x27;m going to go with your lower bound: if email lasts largely unchanged for 30 years, then it will have been the most important application of the internet era.',\n",
        " u'time': 1409699341,\n",
        " u'type': u'comment'}\n",
        "9\n",
        "{"
       ]
      },
      {
       "output_type": "stream",
       "stream": "stdout",
       "text": [
        "u'by': u'vegabook',\n",
        " u'id': 8186882,\n",
        " u'parent': 8186821,\n",
        " u'text': u'Any favourite books&#x2F;resources on the above?',\n",
        " u'time': 1408211086,\n",
        " u'type': u'comment'}\n",
        "10\n",
        "{"
       ]
      },
      {
       "output_type": "stream",
       "stream": "stdout",
       "text": [
        "u'by': u'vegabook',\n",
        " u'id': 8184002,\n",
        " u'kids': [8186028, 8184907],\n",
        " u'parent': 8182991,\n",
        " u'text': u'ah but descent is such a luxury! Zen comes only from knowing when it is time to <i>ascend</i> the gradient, there to find new descending vistas that made the old valley look like a mountain!<p>would that all problems were so conveniently convex.',\n",
        " u'time': 1408134558,\n",
        " u'type': u'comment'}\n",
        "11\n",
        "{"
       ]
      },
      {
       "output_type": "stream",
       "stream": "stdout",
       "text": [
        "u'by': u'vegabook',\n",
        " u'id': 8041226,\n",
        " u'kids': [8042457],\n",
        " u'parent': 8041020,\n",
        " u'text': u'yep I&#x27;ll acknowledge that, yet iCloud is still sluggish and unreliable. That won&#x27;t cut it with big business for whom IBM&#x27;s availability guarantees and service level agreements are much more rigorous. I don&#x27;t think anybody has ever taken apple seriously at enterprise level robustness, is my point, and pointing to itunes and imessage is not going to persuade anybody who&#x27;s running a multinational bank (or other mission critical application) that they can bet their terminals on IOS, without a partnership with a player which has proved for over 50 years that it is capable of delivering said reliability. Let&#x27;s be honest. Imessage and iTunes are <i>not</i> mission critical to anybody in any way and thus do not do much to persuade any responsible corporate IT director, which is the target audience of this agreement.',\n",
        " u'time': 1405502535,\n",
        " u'type': u'comment'}\n",
        "12\n",
        "{"
       ]
      },
      {
       "output_type": "stream",
       "stream": "stdout",
       "text": [
        "u'by': u'vegabook',\n",
        " u'id': 8040803,\n",
        " u'kids': [8041020, 8040826, 8040999],\n",
        " u'parent': 8040786,\n",
        " u'text': u'IBM has always pitched availability and throughput for multinational-class computing. This is something Apple has singularly failed at, just look at iCloud which is still sluggish and lacking in robustness. It seems to me that Apple user endpoint (terminal?) hardware with IBM service guarantees and availability in the back end works really well. Also while I agree that this is just another IBM partner, it&#x27;s quite interesting to see how even the mainstream press is giving this partnership announcement a lot of front page visibility, suggesting it will be noticed by the corporate decision makers too.',\n",
        " u'time': 1405491579,\n",
        " u'type': u'comment'}\n",
        "13\n",
        "{"
       ]
      },
      {
       "output_type": "stream",
       "stream": "stdout",
       "text": [
        "u'by': u'vegabook',\n",
        " u'id': 8025149,\n",
        " u'parent': 8025106,\n",
        " u'text': u'Clearly the point is that Amazon is also a global business, and therefore, through economies of scale, is able to dominate businesses that are small or purely local. Moreover arguably it has monopoly power, exacerbating the issue futher. It is clear that you have not thought this through.',\n",
        " u'time': 1405185866,\n",
        " u'type': u'comment'}\n",
        "14\n",
        "{"
       ]
      },
      {
       "output_type": "stream",
       "stream": "stdout",
       "text": [
        "u'deleted': True, u'id': 8025140}\n",
        "15\n",
        "{"
       ]
      },
      {
       "output_type": "stream",
       "stream": "stdout",
       "text": [
        "u'by': u'vegabook',\n",
        " u'id': 8025035,\n",
        " u'kids': [8025067, 8025106, 8025155, 8025585, 8025102, 8025044],\n",
        " u'parent': 8024800,\n",
        " u'text': u'Can we try to keep (the deeply discretited) Hayek and the Chicago school, not to mention over-complicated philosophical jargon out of the argument? I would content that you should liberate yourself from the received wisdom of your philosophy course, and think for yourself.<p>The issue is simple: is protection of local industry justified in the face of globalization. Obliquely (not orthogonally), are local businesses adding social value, or is lowest cost the absolute and only barometer of utility. Only once we have answered these questions can we decide if Amazon is correct or not, and it is not going to help to cite a bunch of dead people, who, in my opinion, are very clearly responsible for the ills of our current society.<p>Far better, citing The Economist Style Guide, &quot;think what you want to say, then say it as simply as possible&quot;.',\n",
        " u'time': 1405183853,\n",
        " u'type': u'comment'}\n",
        "16\n",
        "{"
       ]
      },
      {
       "output_type": "stream",
       "stream": "stdout",
       "text": [
        "u'by': u'vegabook',\n",
        " u'id': 8477416,\n",
        " u'kids': [8477548, 8477472],\n",
        " u'parent': 8477385,\n",
        " u'text': u'This is going to be H U G E.<p>Stats about one&#x27;s own selflessness etc would be really cool. Or even aggregated stuff. X% is selfish, Deciles of goodness etc.',\n",
        " u'time': 1413699963,\n",
        " u'type': u'comment'}\n",
        "1\n",
        "{"
       ]
      },
      {
       "output_type": "stream",
       "stream": "stdout",
       "text": [
        "u'by': u'vegabook',\n",
        " u'id': 8468278,\n",
        " u'parent': 8467680,\n",
        " u'text': u'Okay nobody seriously looks at Apple as a panel manufacturer, unless you (and Apple) are referring to the fact that the company has a stake in Sharp. The plant and expertise required to build panels is clean room stuff that AAPL just does not do. It does industrial design and software. Not &quot;manufacturing of screens&quot; so the point is clear. Android&#x27;s skin is distant enough from Java and Linux that it can credibly be called a creation of Google. Just as Audi can say it built the car without having to credit the inventor of the internal combustion engine, and instructing a supplier to build a part to its specifications is hardly &quot;manufacturing&quot; it. It is &quot;specifying&quot; it. As every Apple product owner knows: &quot;Designed in California, MADE in China&quot;. In this case, made in Japan&#x2F;korea. As such, &quot;we manufacture&quot; is skirting close to the edge of a lie if &quot;we&quot; is spoken at an Apple branded press conference with no mention whatsoever of partners.',\n",
        " u'time': 1413499137,\n",
        " u'type': u'comment'}\n",
        "2\n",
        "{"
       ]
      },
      {
       "output_type": "stream",
       "stream": "stdout",
       "text": [
        "u'by': u'vegabook',\n",
        " u'id': 8468190,\n",
        " u'kids': [8470154, 8468427, 8468741],\n",
        " u'parent': 8467333,\n",
        " u'text': u'auto-correlated downvote trend on a perfectly reasonable point: AAPL is not very innovative as Dell is launching the same monitor. Sure the driver logic might have been the subject of some consulting but if anybody thinks it will not appear within weeks on competitor brands they&#x27;re kidding themselves. Everything about this display is <i>not</i> proprietary AAPL tech.',\n",
        " u'time': 1413498290,\n",
        " u'type': u'comment'}\n",
        "3\n",
        "{"
       ]
      },
      {
       "output_type": "stream",
       "stream": "stdout",
       "text": [
        "u'deleted': True,\n",
        " u'id': 8467842,\n",
        " u'parent': 8466437,\n",
        " u'time': 1413494647,\n",
        " u'type': u'comment'}\n",
        "4\n",
        "{"
       ]
      },
      {
       "output_type": "stream",
       "stream": "stdout",
       "text": [
        "u'by': u'vegabook',\n",
        " u'id': 8458842,\n",
        " u'parent': 8458339,\n",
        " u'text': u'Ready Steady (govt) Grant!<p>&quot;Partners in industry and goverment&quot;. Translation: 10 years to product (but hey, prototype in 5) so please give us lots of dough. It&#x27;s the technology of the future and always has been.',\n",
        " u'time': 1413386166,\n",
        " u'type': u'comment'}\n",
        "5\n",
        "{"
       ]
      },
      {
       "output_type": "stream",
       "stream": "stdout",
       "text": [
        "u'by': u'vegabook',\n",
        " u'id': 8417877,\n",
        " u'parent': 8417803,\n",
        " u'text': u'yes I can see the need to manage the narrative. But this is bad management of the narrative, because a clearly emotional CEO is letting his anger show, instead of, as you clearly point out, being dignified and making a concise statement of the facts. The statement is not concise (in itself showing a tendency towards a rant), nor does it display the necessary humility towards an employee, who, no matter his faults, no longer has a job (unlike the CEO).',\n",
        " u'time': 1412625390,\n",
        " u'type': u'comment'}\n",
        "6\n",
        "{"
       ]
      },
      {
       "output_type": "stream",
       "stream": "stdout",
       "text": [
        "u'by': u'vegabook',\n",
        " u'id': 8417858,\n",
        " u'parent': 8417757,\n",
        " u'text': u'This is an ugly affair, like firings always are. Perhaps an &quot;official&quot; response was necessary to &quot;manage the narrative&quot; as someone above commented, but I can&#x27;t help but agree that the mud is rubbing off on the CEO here, mainly because of the tone. Badly handled.',\n",
        " u'time': 1412625161,\n",
        " u'type': u'comment'}\n",
        "7\n",
        "{"
       ]
      },
      {
       "output_type": "stream",
       "stream": "stdout",
       "text": [
        "u'by': u'vegabook',\n",
        " u'id': 8417763,\n",
        " u'kids': [8417803, 8417800],\n",
        " u'parent': 8417718,\n",
        " u'text': u'Most importantly, none of these statements should be made in public. The company stands to gain much more with a dignified silence and a personal explanation to the hapless individual, than by wringing the dirty laundry out in public. That an individual employee is immature &#x2F; causes a stink, happens every second of every day. That a company CEO does the same is unacceptably poor management, and poor PR.',\n",
        " u'time': 1412624053,\n",
        " u'type': u'comment'}\n",
        "8\n",
        "{"
       ]
      },
      {
       "output_type": "stream",
       "stream": "stdout",
       "text": [
        "u'by': u'vegabook',\n",
        " u'id': 8260695,\n",
        " u'parent': 8258607,\n",
        " u'text': u'30-50 years is surely &quot;forever&quot; even in snail mail terms. 1000 years? Wow now we&#x27;re talking about an era-defining technology for civilization itself! I&#x27;m going to go with your lower bound: if email lasts largely unchanged for 30 years, then it will have been the most important application of the internet era.',\n",
        " u'time': 1409699341,\n",
        " u'type': u'comment'}\n",
        "9\n",
        "{"
       ]
      },
      {
       "output_type": "stream",
       "stream": "stdout",
       "text": [
        "u'by': u'vegabook',\n",
        " u'id': 8186882,\n",
        " u'parent': 8186821,\n",
        " u'text': u'Any favourite books&#x2F;resources on the above?',\n",
        " u'time': 1408211086,\n",
        " u'type': u'comment'}\n",
        "10\n",
        "{"
       ]
      },
      {
       "output_type": "stream",
       "stream": "stdout",
       "text": [
        "u'by': u'vegabook',\n",
        " u'id': 8184002,\n",
        " u'kids': [8186028, 8184907],\n",
        " u'parent': 8182991,\n",
        " u'text': u'ah but descent is such a luxury! Zen comes only from knowing when it is time to <i>ascend</i> the gradient, there to find new descending vistas that made the old valley look like a mountain!<p>would that all problems were so conveniently convex.',\n",
        " u'time': 1408134558,\n",
        " u'type': u'comment'}\n",
        "11\n",
        "{"
       ]
      },
      {
       "output_type": "stream",
       "stream": "stdout",
       "text": [
        "u'by': u'vegabook',\n",
        " u'id': 8041226,\n",
        " u'kids': [8042457],\n",
        " u'parent': 8041020,\n",
        " u'text': u'yep I&#x27;ll acknowledge that, yet iCloud is still sluggish and unreliable. That won&#x27;t cut it with big business for whom IBM&#x27;s availability guarantees and service level agreements are much more rigorous. I don&#x27;t think anybody has ever taken apple seriously at enterprise level robustness, is my point, and pointing to itunes and imessage is not going to persuade anybody who&#x27;s running a multinational bank (or other mission critical application) that they can bet their terminals on IOS, without a partnership with a player which has proved for over 50 years that it is capable of delivering said reliability. Let&#x27;s be honest. Imessage and iTunes are <i>not</i> mission critical to anybody in any way and thus do not do much to persuade any responsible corporate IT director, which is the target audience of this agreement.',\n",
        " u'time': 1405502535,\n",
        " u'type': u'comment'}\n",
        "12\n",
        "{"
       ]
      },
      {
       "output_type": "stream",
       "stream": "stdout",
       "text": [
        "u'by': u'vegabook',\n",
        " u'id': 8040803,\n",
        " u'kids': [8041020, 8040826, 8040999],\n",
        " u'parent': 8040786,\n",
        " u'text': u'IBM has always pitched availability and throughput for multinational-class computing. This is something Apple has singularly failed at, just look at iCloud which is still sluggish and lacking in robustness. It seems to me that Apple user endpoint (terminal?) hardware with IBM service guarantees and availability in the back end works really well. Also while I agree that this is just another IBM partner, it&#x27;s quite interesting to see how even the mainstream press is giving this partnership announcement a lot of front page visibility, suggesting it will be noticed by the corporate decision makers too.',\n",
        " u'time': 1405491579,\n",
        " u'type': u'comment'}\n",
        "13\n",
        "{"
       ]
      },
      {
       "output_type": "stream",
       "stream": "stdout",
       "text": [
        "u'by': u'vegabook',\n",
        " u'id': 8025149,\n",
        " u'parent': 8025106,\n",
        " u'text': u'Clearly the point is that Amazon is also a global business, and therefore, through economies of scale, is able to dominate businesses that are small or purely local. Moreover arguably it has monopoly power, exacerbating the issue futher. It is clear that you have not thought this through.',\n",
        " u'time': 1405185866,\n",
        " u'type': u'comment'}\n",
        "14\n",
        "{"
       ]
      },
      {
       "output_type": "stream",
       "stream": "stdout",
       "text": [
        "u'deleted': True, u'id': 8025140}\n",
        "15\n",
        "{"
       ]
      },
      {
       "output_type": "stream",
       "stream": "stdout",
       "text": [
        "u'by': u'vegabook',\n",
        " u'id': 8025035,\n",
        " u'kids': [8025067, 8025106, 8025155, 8025585, 8025102, 8025044],\n",
        " u'parent': 8024800,\n",
        " u'text': u'Can we try to keep (the deeply discretited) Hayek and the Chicago school, not to mention over-complicated philosophical jargon out of the argument? I would content that you should liberate yourself from the received wisdom of your philosophy course, and think for yourself.<p>The issue is simple: is protection of local industry justified in the face of globalization. Obliquely (not orthogonally), are local businesses adding social value, or is lowest cost the absolute and only barometer of utility. Only once we have answered these questions can we decide if Amazon is correct or not, and it is not going to help to cite a bunch of dead people, who, in my opinion, are very clearly responsible for the ills of our current society.<p>Far better, citing The Economist Style Guide, &quot;think what you want to say, then say it as simply as possible&quot;.',\n",
        " u'time': 1405183853,\n",
        " u'type': u'comment'}\n",
        "16\n",
        "{"
       ]
      },
      {
       "output_type": "stream",
       "stream": "stdout",
       "text": [
        "u'by': u'vegabook',\n",
        " u'id': 8477416,\n",
        " u'kids': [8477548, 8477472],\n",
        " u'parent': 8477385,\n",
        " u'text': u'This is going to be H U G E.<p>Stats about one&#x27;s own selflessness etc would be really cool. Or even aggregated stuff. X% is selfish, Deciles of goodness etc.',\n",
        " u'time': 1413699963,\n",
        " u'type': u'comment'}\n",
        "1\n",
        "{"
       ]
      },
      {
       "output_type": "stream",
       "stream": "stdout",
       "text": [
        "u'by': u'vegabook',\n",
        " u'id': 8468278,\n",
        " u'parent': 8467680,\n",
        " u'text': u'Okay nobody seriously looks at Apple as a panel manufacturer, unless you (and Apple) are referring to the fact that the company has a stake in Sharp. The plant and expertise required to build panels is clean room stuff that AAPL just does not do. It does industrial design and software. Not &quot;manufacturing of screens&quot; so the point is clear. Android&#x27;s skin is distant enough from Java and Linux that it can credibly be called a creation of Google. Just as Audi can say it built the car without having to credit the inventor of the internal combustion engine, and instructing a supplier to build a part to its specifications is hardly &quot;manufacturing&quot; it. It is &quot;specifying&quot; it. As every Apple product owner knows: &quot;Designed in California, MADE in China&quot;. In this case, made in Japan&#x2F;korea. As such, &quot;we manufacture&quot; is skirting close to the edge of a lie if &quot;we&quot; is spoken at an Apple branded press conference with no mention whatsoever of partners.',\n",
        " u'time': 1413499137,\n",
        " u'type': u'comment'}\n",
        "2\n",
        "{"
       ]
      },
      {
       "output_type": "stream",
       "stream": "stdout",
       "text": [
        "u'by': u'vegabook',\n",
        " u'id': 8468190,\n",
        " u'kids': [8470154, 8468427, 8468741],\n",
        " u'parent': 8467333,\n",
        " u'text': u'auto-correlated downvote trend on a perfectly reasonable point: AAPL is not very innovative as Dell is launching the same monitor. Sure the driver logic might have been the subject of some consulting but if anybody thinks it will not appear within weeks on competitor brands they&#x27;re kidding themselves. Everything about this display is <i>not</i> proprietary AAPL tech.',\n",
        " u'time': 1413498290,\n",
        " u'type': u'comment'}\n",
        "3\n",
        "{"
       ]
      },
      {
       "output_type": "stream",
       "stream": "stdout",
       "text": [
        "u'deleted': True,\n",
        " u'id': 8467842,\n",
        " u'parent': 8466437,\n",
        " u'time': 1413494647,\n",
        " u'type': u'comment'}\n",
        "4\n",
        "{"
       ]
      },
      {
       "output_type": "stream",
       "stream": "stdout",
       "text": [
        "u'by': u'vegabook',\n",
        " u'id': 8458842,\n",
        " u'parent': 8458339,\n",
        " u'text': u'Ready Steady (govt) Grant!<p>&quot;Partners in industry and goverment&quot;. Translation: 10 years to product (but hey, prototype in 5) so please give us lots of dough. It&#x27;s the technology of the future and always has been.',\n",
        " u'time': 1413386166,\n",
        " u'type': u'comment'}\n",
        "5\n",
        "{"
       ]
      },
      {
       "output_type": "stream",
       "stream": "stdout",
       "text": [
        "u'by': u'vegabook',\n",
        " u'id': 8417877,\n",
        " u'parent': 8417803,\n",
        " u'text': u'yes I can see the need to manage the narrative. But this is bad management of the narrative, because a clearly emotional CEO is letting his anger show, instead of, as you clearly point out, being dignified and making a concise statement of the facts. The statement is not concise (in itself showing a tendency towards a rant), nor does it display the necessary humility towards an employee, who, no matter his faults, no longer has a job (unlike the CEO).',\n",
        " u'time': 1412625390,\n",
        " u'type': u'comment'}\n",
        "6\n",
        "{"
       ]
      },
      {
       "output_type": "stream",
       "stream": "stdout",
       "text": [
        "u'by': u'vegabook',\n",
        " u'id': 8417858,\n",
        " u'parent': 8417757,\n",
        " u'text': u'This is an ugly affair, like firings always are. Perhaps an &quot;official&quot; response was necessary to &quot;manage the narrative&quot; as someone above commented, but I can&#x27;t help but agree that the mud is rubbing off on the CEO here, mainly because of the tone. Badly handled.',\n",
        " u'time': 1412625161,\n",
        " u'type': u'comment'}\n",
        "7\n",
        "{"
       ]
      },
      {
       "output_type": "stream",
       "stream": "stdout",
       "text": [
        "u'by': u'vegabook',\n",
        " u'id': 8417763,\n",
        " u'kids': [8417803, 8417800],\n",
        " u'parent': 8417718,\n",
        " u'text': u'Most importantly, none of these statements should be made in public. The company stands to gain much more with a dignified silence and a personal explanation to the hapless individual, than by wringing the dirty laundry out in public. That an individual employee is immature &#x2F; causes a stink, happens every second of every day. That a company CEO does the same is unacceptably poor management, and poor PR.',\n",
        " u'time': 1412624053,\n",
        " u'type': u'comment'}\n",
        "8\n",
        "{"
       ]
      },
      {
       "output_type": "stream",
       "stream": "stdout",
       "text": [
        "u'by': u'vegabook',\n",
        " u'id': 8260695,\n",
        " u'parent': 8258607,\n",
        " u'text': u'30-50 years is surely &quot;forever&quot; even in snail mail terms. 1000 years? Wow now we&#x27;re talking about an era-defining technology for civilization itself! I&#x27;m going to go with your lower bound: if email lasts largely unchanged for 30 years, then it will have been the most important application of the internet era.',\n",
        " u'time': 1409699341,\n",
        " u'type': u'comment'}\n",
        "9\n",
        "{"
       ]
      },
      {
       "output_type": "stream",
       "stream": "stdout",
       "text": [
        "u'by': u'vegabook',\n",
        " u'id': 8186882,\n",
        " u'parent': 8186821,\n",
        " u'text': u'Any favourite books&#x2F;resources on the above?',\n",
        " u'time': 1408211086,\n",
        " u'type': u'comment'}\n",
        "10\n",
        "{"
       ]
      },
      {
       "output_type": "stream",
       "stream": "stdout",
       "text": [
        "u'by': u'vegabook',\n",
        " u'id': 8184002,\n",
        " u'kids': [8186028, 8184907],\n",
        " u'parent': 8182991,\n",
        " u'text': u'ah but descent is such a luxury! Zen comes only from knowing when it is time to <i>ascend</i> the gradient, there to find new descending vistas that made the old valley look like a mountain!<p>would that all problems were so conveniently convex.',\n",
        " u'time': 1408134558,\n",
        " u'type': u'comment'}\n",
        "11\n",
        "{"
       ]
      },
      {
       "output_type": "stream",
       "stream": "stdout",
       "text": [
        "u'by': u'vegabook',\n",
        " u'id': 8041226,\n",
        " u'kids': [8042457],\n",
        " u'parent': 8041020,\n",
        " u'text': u'yep I&#x27;ll acknowledge that, yet iCloud is still sluggish and unreliable. That won&#x27;t cut it with big business for whom IBM&#x27;s availability guarantees and service level agreements are much more rigorous. I don&#x27;t think anybody has ever taken apple seriously at enterprise level robustness, is my point, and pointing to itunes and imessage is not going to persuade anybody who&#x27;s running a multinational bank (or other mission critical application) that they can bet their terminals on IOS, without a partnership with a player which has proved for over 50 years that it is capable of delivering said reliability. Let&#x27;s be honest. Imessage and iTunes are <i>not</i> mission critical to anybody in any way and thus do not do much to persuade any responsible corporate IT director, which is the target audience of this agreement.',\n",
        " u'time': 1405502535,\n",
        " u'type': u'comment'}\n",
        "12\n",
        "{"
       ]
      },
      {
       "output_type": "stream",
       "stream": "stdout",
       "text": [
        "u'by': u'vegabook',\n",
        " u'id': 8040803,\n",
        " u'kids': [8041020, 8040826, 8040999],\n",
        " u'parent': 8040786,\n",
        " u'text': u'IBM has always pitched availability and throughput for multinational-class computing. This is something Apple has singularly failed at, just look at iCloud which is still sluggish and lacking in robustness. It seems to me that Apple user endpoint (terminal?) hardware with IBM service guarantees and availability in the back end works really well. Also while I agree that this is just another IBM partner, it&#x27;s quite interesting to see how even the mainstream press is giving this partnership announcement a lot of front page visibility, suggesting it will be noticed by the corporate decision makers too.',\n",
        " u'time': 1405491579,\n",
        " u'type': u'comment'}\n",
        "13\n",
        "{"
       ]
      },
      {
       "output_type": "stream",
       "stream": "stdout",
       "text": [
        "u'by': u'vegabook',\n",
        " u'id': 8025149,\n",
        " u'parent': 8025106,\n",
        " u'text': u'Clearly the point is that Amazon is also a global business, and therefore, through economies of scale, is able to dominate businesses that are small or purely local. Moreover arguably it has monopoly power, exacerbating the issue futher. It is clear that you have not thought this through.',\n",
        " u'time': 1405185866,\n",
        " u'type': u'comment'}\n",
        "14\n",
        "{"
       ]
      },
      {
       "output_type": "stream",
       "stream": "stdout",
       "text": [
        "u'deleted': True, u'id': 8025140}\n",
        "15\n",
        "{"
       ]
      },
      {
       "output_type": "stream",
       "stream": "stdout",
       "text": [
        "u'by': u'vegabook',\n",
        " u'id': 8025035,\n",
        " u'kids': [8025067, 8025106, 8025155, 8025585, 8025102, 8025044],\n",
        " u'parent': 8024800,\n",
        " u'text': u'Can we try to keep (the deeply discretited) Hayek and the Chicago school, not to mention over-complicated philosophical jargon out of the argument? I would content that you should liberate yourself from the received wisdom of your philosophy course, and think for yourself.<p>The issue is simple: is protection of local industry justified in the face of globalization. Obliquely (not orthogonally), are local businesses adding social value, or is lowest cost the absolute and only barometer of utility. Only once we have answered these questions can we decide if Amazon is correct or not, and it is not going to help to cite a bunch of dead people, who, in my opinion, are very clearly responsible for the ills of our current society.<p>Far better, citing The Economist Style Guide, &quot;think what you want to say, then say it as simply as possible&quot;.',\n",
        " u'time': 1405183853,\n",
        " u'type': u'comment'}\n",
        "16\n",
        "{"
       ]
      },
      {
       "output_type": "stream",
       "stream": "stdout",
       "text": [
        "u'by': u'vegabook',\n",
        " u'id': 8477416,\n",
        " u'kids': [8477548, 8477472],\n",
        " u'parent': 8477385,\n",
        " u'text': u'This is going to be H U G E.<p>Stats about one&#x27;s own selflessness etc would be really cool. Or even aggregated stuff. X% is selfish, Deciles of goodness etc.',\n",
        " u'time': 1413699963,\n",
        " u'type': u'comment'}\n",
        "1\n",
        "{"
       ]
      },
      {
       "output_type": "stream",
       "stream": "stdout",
       "text": [
        "u'by': u'vegabook',\n",
        " u'id': 8468278,\n",
        " u'parent': 8467680,\n",
        " u'text': u'Okay nobody seriously looks at Apple as a panel manufacturer, unless you (and Apple) are referring to the fact that the company has a stake in Sharp. The plant and expertise required to build panels is clean room stuff that AAPL just does not do. It does industrial design and software. Not &quot;manufacturing of screens&quot; so the point is clear. Android&#x27;s skin is distant enough from Java and Linux that it can credibly be called a creation of Google. Just as Audi can say it built the car without having to credit the inventor of the internal combustion engine, and instructing a supplier to build a part to its specifications is hardly &quot;manufacturing&quot; it. It is &quot;specifying&quot; it. As every Apple product owner knows: &quot;Designed in California, MADE in China&quot;. In this case, made in Japan&#x2F;korea. As such, &quot;we manufacture&quot; is skirting close to the edge of a lie if &quot;we&quot; is spoken at an Apple branded press conference with no mention whatsoever of partners.',\n",
        " u'time': 1413499137,\n",
        " u'type': u'comment'}\n",
        "2\n",
        "{"
       ]
      },
      {
       "output_type": "stream",
       "stream": "stdout",
       "text": [
        "u'by': u'vegabook',\n",
        " u'id': 8468190,\n",
        " u'kids': [8470154, 8468427, 8468741],\n",
        " u'parent': 8467333,\n",
        " u'text': u'auto-correlated downvote trend on a perfectly reasonable point: AAPL is not very innovative as Dell is launching the same monitor. Sure the driver logic might have been the subject of some consulting but if anybody thinks it will not appear within weeks on competitor brands they&#x27;re kidding themselves. Everything about this display is <i>not</i> proprietary AAPL tech.',\n",
        " u'time': 1413498290,\n",
        " u'type': u'comment'}\n",
        "3\n",
        "{"
       ]
      },
      {
       "output_type": "stream",
       "stream": "stdout",
       "text": [
        "u'deleted': True,\n",
        " u'id': 8467842,\n",
        " u'parent': 8466437,\n",
        " u'time': 1413494647,\n",
        " u'type': u'comment'}\n",
        "4\n",
        "{"
       ]
      },
      {
       "output_type": "stream",
       "stream": "stdout",
       "text": [
        "u'by': u'vegabook',\n",
        " u'id': 8458842,\n",
        " u'parent': 8458339,\n",
        " u'text': u'Ready Steady (govt) Grant!<p>&quot;Partners in industry and goverment&quot;. Translation: 10 years to product (but hey, prototype in 5) so please give us lots of dough. It&#x27;s the technology of the future and always has been.',\n",
        " u'time': 1413386166,\n",
        " u'type': u'comment'}\n",
        "5\n",
        "{"
       ]
      },
      {
       "output_type": "stream",
       "stream": "stdout",
       "text": [
        "u'by': u'vegabook',\n",
        " u'id': 8417877,\n",
        " u'parent': 8417803,\n",
        " u'text': u'yes I can see the need to manage the narrative. But this is bad management of the narrative, because a clearly emotional CEO is letting his anger show, instead of, as you clearly point out, being dignified and making a concise statement of the facts. The statement is not concise (in itself showing a tendency towards a rant), nor does it display the necessary humility towards an employee, who, no matter his faults, no longer has a job (unlike the CEO).',\n",
        " u'time': 1412625390,\n",
        " u'type': u'comment'}\n",
        "6\n",
        "{"
       ]
      },
      {
       "output_type": "stream",
       "stream": "stdout",
       "text": [
        "u'by': u'vegabook',\n",
        " u'id': 8417858,\n",
        " u'parent': 8417757,\n",
        " u'text': u'This is an ugly affair, like firings always are. Perhaps an &quot;official&quot; response was necessary to &quot;manage the narrative&quot; as someone above commented, but I can&#x27;t help but agree that the mud is rubbing off on the CEO here, mainly because of the tone. Badly handled.',\n",
        " u'time': 1412625161,\n",
        " u'type': u'comment'}\n",
        "7\n",
        "{"
       ]
      },
      {
       "output_type": "stream",
       "stream": "stdout",
       "text": [
        "u'by': u'vegabook',\n",
        " u'id': 8417763,\n",
        " u'kids': [8417803, 8417800],\n",
        " u'parent': 8417718,\n",
        " u'text': u'Most importantly, none of these statements should be made in public. The company stands to gain much more with a dignified silence and a personal explanation to the hapless individual, than by wringing the dirty laundry out in public. That an individual employee is immature &#x2F; causes a stink, happens every second of every day. That a company CEO does the same is unacceptably poor management, and poor PR.',\n",
        " u'time': 1412624053,\n",
        " u'type': u'comment'}\n",
        "8\n",
        "{"
       ]
      },
      {
       "output_type": "stream",
       "stream": "stdout",
       "text": [
        "u'by': u'vegabook',\n",
        " u'id': 8260695,\n",
        " u'parent': 8258607,\n",
        " u'text': u'30-50 years is surely &quot;forever&quot; even in snail mail terms. 1000 years? Wow now we&#x27;re talking about an era-defining technology for civilization itself! I&#x27;m going to go with your lower bound: if email lasts largely unchanged for 30 years, then it will have been the most important application of the internet era.',\n",
        " u'time': 1409699341,\n",
        " u'type': u'comment'}\n",
        "9\n",
        "{"
       ]
      },
      {
       "output_type": "stream",
       "stream": "stdout",
       "text": [
        "u'by': u'vegabook',\n",
        " u'id': 8186882,\n",
        " u'parent': 8186821,\n",
        " u'text': u'Any favourite books&#x2F;resources on the above?',\n",
        " u'time': 1408211086,\n",
        " u'type': u'comment'}\n",
        "10\n",
        "{"
       ]
      },
      {
       "output_type": "stream",
       "stream": "stdout",
       "text": [
        "u'by': u'vegabook',\n",
        " u'id': 8184002,\n",
        " u'kids': [8186028, 8184907],\n",
        " u'parent': 8182991,\n",
        " u'text': u'ah but descent is such a luxury! Zen comes only from knowing when it is time to <i>ascend</i> the gradient, there to find new descending vistas that made the old valley look like a mountain!<p>would that all problems were so conveniently convex.',\n",
        " u'time': 1408134558,\n",
        " u'type': u'comment'}\n",
        "11\n",
        "{"
       ]
      },
      {
       "output_type": "stream",
       "stream": "stdout",
       "text": [
        "u'by': u'vegabook',\n",
        " u'id': 8041226,\n",
        " u'kids': [8042457],\n",
        " u'parent': 8041020,\n",
        " u'text': u'yep I&#x27;ll acknowledge that, yet iCloud is still sluggish and unreliable. That won&#x27;t cut it with big business for whom IBM&#x27;s availability guarantees and service level agreements are much more rigorous. I don&#x27;t think anybody has ever taken apple seriously at enterprise level robustness, is my point, and pointing to itunes and imessage is not going to persuade anybody who&#x27;s running a multinational bank (or other mission critical application) that they can bet their terminals on IOS, without a partnership with a player which has proved for over 50 years that it is capable of delivering said reliability. Let&#x27;s be honest. Imessage and iTunes are <i>not</i> mission critical to anybody in any way and thus do not do much to persuade any responsible corporate IT director, which is the target audience of this agreement.',\n",
        " u'time': 1405502535,\n",
        " u'type': u'comment'}\n",
        "12\n",
        "{"
       ]
      },
      {
       "output_type": "stream",
       "stream": "stdout",
       "text": [
        "u'by': u'vegabook',\n",
        " u'id': 8040803,\n",
        " u'kids': [8041020, 8040826, 8040999],\n",
        " u'parent': 8040786,\n",
        " u'text': u'IBM has always pitched availability and throughput for multinational-class computing. This is something Apple has singularly failed at, just look at iCloud which is still sluggish and lacking in robustness. It seems to me that Apple user endpoint (terminal?) hardware with IBM service guarantees and availability in the back end works really well. Also while I agree that this is just another IBM partner, it&#x27;s quite interesting to see how even the mainstream press is giving this partnership announcement a lot of front page visibility, suggesting it will be noticed by the corporate decision makers too.',\n",
        " u'time': 1405491579,\n",
        " u'type': u'comment'}\n",
        "13\n",
        "{"
       ]
      },
      {
       "output_type": "stream",
       "stream": "stdout",
       "text": [
        "u'by': u'vegabook',\n",
        " u'id': 8025149,\n",
        " u'parent': 8025106,\n",
        " u'text': u'Clearly the point is that Amazon is also a global business, and therefore, through economies of scale, is able to dominate businesses that are small or purely local. Moreover arguably it has monopoly power, exacerbating the issue futher. It is clear that you have not thought this through.',\n",
        " u'time': 1405185866,\n",
        " u'type': u'comment'}\n",
        "14\n",
        "{"
       ]
      },
      {
       "output_type": "stream",
       "stream": "stdout",
       "text": [
        "u'deleted': True, u'id': 8025140}\n",
        "15\n",
        "{"
       ]
      },
      {
       "output_type": "stream",
       "stream": "stdout",
       "text": [
        "u'by': u'vegabook',\n",
        " u'id': 8025035,\n",
        " u'kids': [8025067, 8025106, 8025155, 8025585, 8025102, 8025044],\n",
        " u'parent': 8024800,\n",
        " u'text': u'Can we try to keep (the deeply discretited) Hayek and the Chicago school, not to mention over-complicated philosophical jargon out of the argument? I would content that you should liberate yourself from the received wisdom of your philosophy course, and think for yourself.<p>The issue is simple: is protection of local industry justified in the face of globalization. Obliquely (not orthogonally), are local businesses adding social value, or is lowest cost the absolute and only barometer of utility. Only once we have answered these questions can we decide if Amazon is correct or not, and it is not going to help to cite a bunch of dead people, who, in my opinion, are very clearly responsible for the ills of our current society.<p>Far better, citing The Economist Style Guide, &quot;think what you want to say, then say it as simply as possible&quot;.',\n",
        " u'time': 1405183853,\n",
        " u'type': u'comment'}\n",
        "16\n",
        "{"
       ]
      },
      {
       "output_type": "stream",
       "stream": "stdout",
       "text": [
        "u'by': u'vegabook',\n",
        " u'id': 8477416,\n",
        " u'kids': [8477548, 8477472],\n",
        " u'parent': 8477385,\n",
        " u'text': u'This is going to be H U G E.<p>Stats about one&#x27;s own selflessness etc would be really cool. Or even aggregated stuff. X% is selfish, Deciles of goodness etc.',\n",
        " u'time': 1413699963,\n",
        " u'type': u'comment'}\n",
        "1\n",
        "{"
       ]
      },
      {
       "output_type": "stream",
       "stream": "stdout",
       "text": [
        "u'by': u'vegabook',\n",
        " u'id': 8468278,\n",
        " u'parent': 8467680,\n",
        " u'text': u'Okay nobody seriously looks at Apple as a panel manufacturer, unless you (and Apple) are referring to the fact that the company has a stake in Sharp. The plant and expertise required to build panels is clean room stuff that AAPL just does not do. It does industrial design and software. Not &quot;manufacturing of screens&quot; so the point is clear. Android&#x27;s skin is distant enough from Java and Linux that it can credibly be called a creation of Google. Just as Audi can say it built the car without having to credit the inventor of the internal combustion engine, and instructing a supplier to build a part to its specifications is hardly &quot;manufacturing&quot; it. It is &quot;specifying&quot; it. As every Apple product owner knows: &quot;Designed in California, MADE in China&quot;. In this case, made in Japan&#x2F;korea. As such, &quot;we manufacture&quot; is skirting close to the edge of a lie if &quot;we&quot; is spoken at an Apple branded press conference with no mention whatsoever of partners.',\n",
        " u'time': 1413499137,\n",
        " u'type': u'comment'}\n",
        "2\n",
        "{"
       ]
      },
      {
       "output_type": "stream",
       "stream": "stdout",
       "text": [
        "u'by': u'vegabook',\n",
        " u'id': 8468190,\n",
        " u'kids': [8470154, 8468427, 8468741],\n",
        " u'parent': 8467333,\n",
        " u'text': u'auto-correlated downvote trend on a perfectly reasonable point: AAPL is not very innovative as Dell is launching the same monitor. Sure the driver logic might have been the subject of some consulting but if anybody thinks it will not appear within weeks on competitor brands they&#x27;re kidding themselves. Everything about this display is <i>not</i> proprietary AAPL tech.',\n",
        " u'time': 1413498290,\n",
        " u'type': u'comment'}\n",
        "3\n",
        "{"
       ]
      },
      {
       "output_type": "stream",
       "stream": "stdout",
       "text": [
        "u'deleted': True,\n",
        " u'id': 8467842,\n",
        " u'parent': 8466437,\n",
        " u'time': 1413494647,\n",
        " u'type': u'comment'}\n",
        "4\n",
        "{"
       ]
      },
      {
       "output_type": "stream",
       "stream": "stdout",
       "text": [
        "u'by': u'vegabook',\n",
        " u'id': 8458842,\n",
        " u'parent': 8458339,\n",
        " u'text': u'Ready Steady (govt) Grant!<p>&quot;Partners in industry and goverment&quot;. Translation: 10 years to product (but hey, prototype in 5) so please give us lots of dough. It&#x27;s the technology of the future and always has been.',\n",
        " u'time': 1413386166,\n",
        " u'type': u'comment'}\n",
        "5\n",
        "{"
       ]
      },
      {
       "output_type": "stream",
       "stream": "stdout",
       "text": [
        "u'by': u'vegabook',\n",
        " u'id': 8417877,\n",
        " u'parent': 8417803,\n",
        " u'text': u'yes I can see the need to manage the narrative. But this is bad management of the narrative, because a clearly emotional CEO is letting his anger show, instead of, as you clearly point out, being dignified and making a concise statement of the facts. The statement is not concise (in itself showing a tendency towards a rant), nor does it display the necessary humility towards an employee, who, no matter his faults, no longer has a job (unlike the CEO).',\n",
        " u'time': 1412625390,\n",
        " u'type': u'comment'}\n",
        "6\n",
        "{"
       ]
      },
      {
       "output_type": "stream",
       "stream": "stdout",
       "text": [
        "u'by': u'vegabook',\n",
        " u'id': 8417858,\n",
        " u'parent': 8417757,\n",
        " u'text': u'This is an ugly affair, like firings always are. Perhaps an &quot;official&quot; response was necessary to &quot;manage the narrative&quot; as someone above commented, but I can&#x27;t help but agree that the mud is rubbing off on the CEO here, mainly because of the tone. Badly handled.',\n",
        " u'time': 1412625161,\n",
        " u'type': u'comment'}\n",
        "7\n",
        "{"
       ]
      },
      {
       "output_type": "stream",
       "stream": "stdout",
       "text": [
        "u'by': u'vegabook',\n",
        " u'id': 8417763,\n",
        " u'kids': [8417803, 8417800],\n",
        " u'parent': 8417718,\n",
        " u'text': u'Most importantly, none of these statements should be made in public. The company stands to gain much more with a dignified silence and a personal explanation to the hapless individual, than by wringing the dirty laundry out in public. That an individual employee is immature &#x2F; causes a stink, happens every second of every day. That a company CEO does the same is unacceptably poor management, and poor PR.',\n",
        " u'time': 1412624053,\n",
        " u'type': u'comment'}\n",
        "8\n",
        "{"
       ]
      },
      {
       "output_type": "stream",
       "stream": "stdout",
       "text": [
        "u'by': u'vegabook',\n",
        " u'id': 8260695,\n",
        " u'parent': 8258607,\n",
        " u'text': u'30-50 years is surely &quot;forever&quot; even in snail mail terms. 1000 years? Wow now we&#x27;re talking about an era-defining technology for civilization itself! I&#x27;m going to go with your lower bound: if email lasts largely unchanged for 30 years, then it will have been the most important application of the internet era.',\n",
        " u'time': 1409699341,\n",
        " u'type': u'comment'}\n",
        "9\n",
        "{"
       ]
      },
      {
       "output_type": "stream",
       "stream": "stdout",
       "text": [
        "u'by': u'vegabook',\n",
        " u'id': 8186882,\n",
        " u'parent': 8186821,\n",
        " u'text': u'Any favourite books&#x2F;resources on the above?',\n",
        " u'time': 1408211086,\n",
        " u'type': u'comment'}\n",
        "10\n",
        "{"
       ]
      },
      {
       "output_type": "stream",
       "stream": "stdout",
       "text": [
        "u'by': u'vegabook',\n",
        " u'id': 8184002,\n",
        " u'kids': [8186028, 8184907],\n",
        " u'parent': 8182991,\n",
        " u'text': u'ah but descent is such a luxury! Zen comes only from knowing when it is time to <i>ascend</i> the gradient, there to find new descending vistas that made the old valley look like a mountain!<p>would that all problems were so conveniently convex.',\n",
        " u'time': 1408134558,\n",
        " u'type': u'comment'}\n",
        "11\n",
        "{"
       ]
      },
      {
       "output_type": "stream",
       "stream": "stdout",
       "text": [
        "u'by': u'vegabook',\n",
        " u'id': 8041226,\n",
        " u'kids': [8042457],\n",
        " u'parent': 8041020,\n",
        " u'text': u'yep I&#x27;ll acknowledge that, yet iCloud is still sluggish and unreliable. That won&#x27;t cut it with big business for whom IBM&#x27;s availability guarantees and service level agreements are much more rigorous. I don&#x27;t think anybody has ever taken apple seriously at enterprise level robustness, is my point, and pointing to itunes and imessage is not going to persuade anybody who&#x27;s running a multinational bank (or other mission critical application) that they can bet their terminals on IOS, without a partnership with a player which has proved for over 50 years that it is capable of delivering said reliability. Let&#x27;s be honest. Imessage and iTunes are <i>not</i> mission critical to anybody in any way and thus do not do much to persuade any responsible corporate IT director, which is the target audience of this agreement.',\n",
        " u'time': 1405502535,\n",
        " u'type': u'comment'}\n",
        "12\n",
        "{"
       ]
      },
      {
       "output_type": "stream",
       "stream": "stdout",
       "text": [
        "u'by': u'vegabook',\n",
        " u'id': 8040803,\n",
        " u'kids': [8041020, 8040826, 8040999],\n",
        " u'parent': 8040786,\n",
        " u'text': u'IBM has always pitched availability and throughput for multinational-class computing. This is something Apple has singularly failed at, just look at iCloud which is still sluggish and lacking in robustness. It seems to me that Apple user endpoint (terminal?) hardware with IBM service guarantees and availability in the back end works really well. Also while I agree that this is just another IBM partner, it&#x27;s quite interesting to see how even the mainstream press is giving this partnership announcement a lot of front page visibility, suggesting it will be noticed by the corporate decision makers too.',\n",
        " u'time': 1405491579,\n",
        " u'type': u'comment'}\n",
        "13\n",
        "{"
       ]
      },
      {
       "output_type": "stream",
       "stream": "stdout",
       "text": [
        "u'by': u'vegabook',\n",
        " u'id': 8025149,\n",
        " u'parent': 8025106,\n",
        " u'text': u'Clearly the point is that Amazon is also a global business, and therefore, through economies of scale, is able to dominate businesses that are small or purely local. Moreover arguably it has monopoly power, exacerbating the issue futher. It is clear that you have not thought this through.',\n",
        " u'time': 1405185866,\n",
        " u'type': u'comment'}\n",
        "14\n",
        "{"
       ]
      },
      {
       "output_type": "stream",
       "stream": "stdout",
       "text": [
        "u'deleted': True, u'id': 8025140}\n",
        "15\n",
        "{"
       ]
      },
      {
       "output_type": "stream",
       "stream": "stdout",
       "text": [
        "u'by': u'vegabook',\n",
        " u'id': 8025035,\n",
        " u'kids': [8025067, 8025106, 8025155, 8025585, 8025102, 8025044],\n",
        " u'parent': 8024800,\n",
        " u'text': u'Can we try to keep (the deeply discretited) Hayek and the Chicago school, not to mention over-complicated philosophical jargon out of the argument? I would content that you should liberate yourself from the received wisdom of your philosophy course, and think for yourself.<p>The issue is simple: is protection of local industry justified in the face of globalization. Obliquely (not orthogonally), are local businesses adding social value, or is lowest cost the absolute and only barometer of utility. Only once we have answered these questions can we decide if Amazon is correct or not, and it is not going to help to cite a bunch of dead people, who, in my opinion, are very clearly responsible for the ills of our current society.<p>Far better, citing The Economist Style Guide, &quot;think what you want to say, then say it as simply as possible&quot;.',\n",
        " u'time': 1405183853,\n",
        " u'type': u'comment'}\n",
        "16\n",
        "{"
       ]
      },
      {
       "output_type": "stream",
       "stream": "stdout",
       "text": [
        "u'by': u'vegabook',\n",
        " u'id': 8477416,\n",
        " u'kids': [8477548, 8477472],\n",
        " u'parent': 8477385,\n",
        " u'text': u'This is going to be H U G E.<p>Stats about one&#x27;s own selflessness etc would be really cool. Or even aggregated stuff. X% is selfish, Deciles of goodness etc.',\n",
        " u'time': 1413699963,\n",
        " u'type': u'comment'}\n",
        "1\n",
        "{"
       ]
      },
      {
       "output_type": "stream",
       "stream": "stdout",
       "text": [
        "u'by': u'vegabook',\n",
        " u'id': 8468278,\n",
        " u'parent': 8467680,\n",
        " u'text': u'Okay nobody seriously looks at Apple as a panel manufacturer, unless you (and Apple) are referring to the fact that the company has a stake in Sharp. The plant and expertise required to build panels is clean room stuff that AAPL just does not do. It does industrial design and software. Not &quot;manufacturing of screens&quot; so the point is clear. Android&#x27;s skin is distant enough from Java and Linux that it can credibly be called a creation of Google. Just as Audi can say it built the car without having to credit the inventor of the internal combustion engine, and instructing a supplier to build a part to its specifications is hardly &quot;manufacturing&quot; it. It is &quot;specifying&quot; it. As every Apple product owner knows: &quot;Designed in California, MADE in China&quot;. In this case, made in Japan&#x2F;korea. As such, &quot;we manufacture&quot; is skirting close to the edge of a lie if &quot;we&quot; is spoken at an Apple branded press conference with no mention whatsoever of partners.',\n",
        " u'time': 1413499137,\n",
        " u'type': u'comment'}\n",
        "2\n",
        "{"
       ]
      },
      {
       "output_type": "stream",
       "stream": "stdout",
       "text": [
        "u'by': u'vegabook',\n",
        " u'id': 8468190,\n",
        " u'kids': [8470154, 8468427, 8468741],\n",
        " u'parent': 8467333,\n",
        " u'text': u'auto-correlated downvote trend on a perfectly reasonable point: AAPL is not very innovative as Dell is launching the same monitor. Sure the driver logic might have been the subject of some consulting but if anybody thinks it will not appear within weeks on competitor brands they&#x27;re kidding themselves. Everything about this display is <i>not</i> proprietary AAPL tech.',\n",
        " u'time': 1413498290,\n",
        " u'type': u'comment'}\n",
        "3\n",
        "{"
       ]
      },
      {
       "output_type": "stream",
       "stream": "stdout",
       "text": [
        "u'deleted': True,\n",
        " u'id': 8467842,\n",
        " u'parent': 8466437,\n",
        " u'time': 1413494647,\n",
        " u'type': u'comment'}\n",
        "4\n",
        "{"
       ]
      },
      {
       "output_type": "stream",
       "stream": "stdout",
       "text": [
        "u'by': u'vegabook',\n",
        " u'id': 8458842,\n",
        " u'parent': 8458339,\n",
        " u'text': u'Ready Steady (govt) Grant!<p>&quot;Partners in industry and goverment&quot;. Translation: 10 years to product (but hey, prototype in 5) so please give us lots of dough. It&#x27;s the technology of the future and always has been.',\n",
        " u'time': 1413386166,\n",
        " u'type': u'comment'}\n",
        "5\n",
        "{"
       ]
      },
      {
       "output_type": "stream",
       "stream": "stdout",
       "text": [
        "u'by': u'vegabook',\n",
        " u'id': 8417877,\n",
        " u'parent': 8417803,\n",
        " u'text': u'yes I can see the need to manage the narrative. But this is bad management of the narrative, because a clearly emotional CEO is letting his anger show, instead of, as you clearly point out, being dignified and making a concise statement of the facts. The statement is not concise (in itself showing a tendency towards a rant), nor does it display the necessary humility towards an employee, who, no matter his faults, no longer has a job (unlike the CEO).',\n",
        " u'time': 1412625390,\n",
        " u'type': u'comment'}\n",
        "6\n",
        "{"
       ]
      },
      {
       "output_type": "stream",
       "stream": "stdout",
       "text": [
        "u'by': u'vegabook',\n",
        " u'id': 8417858,\n",
        " u'parent': 8417757,\n",
        " u'text': u'This is an ugly affair, like firings always are. Perhaps an &quot;official&quot; response was necessary to &quot;manage the narrative&quot; as someone above commented, but I can&#x27;t help but agree that the mud is rubbing off on the CEO here, mainly because of the tone. Badly handled.',\n",
        " u'time': 1412625161,\n",
        " u'type': u'comment'}\n",
        "7\n",
        "{"
       ]
      },
      {
       "output_type": "stream",
       "stream": "stdout",
       "text": [
        "u'by': u'vegabook',\n",
        " u'id': 8417763,\n",
        " u'kids': [8417803, 8417800],\n",
        " u'parent': 8417718,\n",
        " u'text': u'Most importantly, none of these statements should be made in public. The company stands to gain much more with a dignified silence and a personal explanation to the hapless individual, than by wringing the dirty laundry out in public. That an individual employee is immature &#x2F; causes a stink, happens every second of every day. That a company CEO does the same is unacceptably poor management, and poor PR.',\n",
        " u'time': 1412624053,\n",
        " u'type': u'comment'}\n",
        "8\n",
        "{"
       ]
      },
      {
       "output_type": "stream",
       "stream": "stdout",
       "text": [
        "u'by': u'vegabook',\n",
        " u'id': 8260695,\n",
        " u'parent': 8258607,\n",
        " u'text': u'30-50 years is surely &quot;forever&quot; even in snail mail terms. 1000 years? Wow now we&#x27;re talking about an era-defining technology for civilization itself! I&#x27;m going to go with your lower bound: if email lasts largely unchanged for 30 years, then it will have been the most important application of the internet era.',\n",
        " u'time': 1409699341,\n",
        " u'type': u'comment'}\n",
        "9\n",
        "{"
       ]
      },
      {
       "output_type": "stream",
       "stream": "stdout",
       "text": [
        "u'by': u'vegabook',\n",
        " u'id': 8186882,\n",
        " u'parent': 8186821,\n",
        " u'text': u'Any favourite books&#x2F;resources on the above?',\n",
        " u'time': 1408211086,\n",
        " u'type': u'comment'}\n",
        "10\n",
        "{"
       ]
      },
      {
       "output_type": "stream",
       "stream": "stdout",
       "text": [
        "u'by': u'vegabook',\n",
        " u'id': 8184002,\n",
        " u'kids': [8186028, 8184907],\n",
        " u'parent': 8182991,\n",
        " u'text': u'ah but descent is such a luxury! Zen comes only from knowing when it is time to <i>ascend</i> the gradient, there to find new descending vistas that made the old valley look like a mountain!<p>would that all problems were so conveniently convex.',\n",
        " u'time': 1408134558,\n",
        " u'type': u'comment'}\n",
        "11\n",
        "{"
       ]
      },
      {
       "output_type": "stream",
       "stream": "stdout",
       "text": [
        "u'by': u'vegabook',\n",
        " u'id': 8041226,\n",
        " u'kids': [8042457],\n",
        " u'parent': 8041020,\n",
        " u'text': u'yep I&#x27;ll acknowledge that, yet iCloud is still sluggish and unreliable. That won&#x27;t cut it with big business for whom IBM&#x27;s availability guarantees and service level agreements are much more rigorous. I don&#x27;t think anybody has ever taken apple seriously at enterprise level robustness, is my point, and pointing to itunes and imessage is not going to persuade anybody who&#x27;s running a multinational bank (or other mission critical application) that they can bet their terminals on IOS, without a partnership with a player which has proved for over 50 years that it is capable of delivering said reliability. Let&#x27;s be honest. Imessage and iTunes are <i>not</i> mission critical to anybody in any way and thus do not do much to persuade any responsible corporate IT director, which is the target audience of this agreement.',\n",
        " u'time': 1405502535,\n",
        " u'type': u'comment'}\n",
        "12\n",
        "{"
       ]
      },
      {
       "output_type": "stream",
       "stream": "stdout",
       "text": [
        "u'by': u'vegabook',\n",
        " u'id': 8040803,\n",
        " u'kids': [8041020, 8040826, 8040999],\n",
        " u'parent': 8040786,\n",
        " u'text': u'IBM has always pitched availability and throughput for multinational-class computing. This is something Apple has singularly failed at, just look at iCloud which is still sluggish and lacking in robustness. It seems to me that Apple user endpoint (terminal?) hardware with IBM service guarantees and availability in the back end works really well. Also while I agree that this is just another IBM partner, it&#x27;s quite interesting to see how even the mainstream press is giving this partnership announcement a lot of front page visibility, suggesting it will be noticed by the corporate decision makers too.',\n",
        " u'time': 1405491579,\n",
        " u'type': u'comment'}\n",
        "13\n",
        "{"
       ]
      },
      {
       "output_type": "stream",
       "stream": "stdout",
       "text": [
        "u'by': u'vegabook',\n",
        " u'id': 8025149,\n",
        " u'parent': 8025106,\n",
        " u'text': u'Clearly the point is that Amazon is also a global business, and therefore, through economies of scale, is able to dominate businesses that are small or purely local. Moreover arguably it has monopoly power, exacerbating the issue futher. It is clear that you have not thought this through.',\n",
        " u'time': 1405185866,\n",
        " u'type': u'comment'}\n",
        "14\n",
        "{"
       ]
      },
      {
       "output_type": "stream",
       "stream": "stdout",
       "text": [
        "u'deleted': True, u'id': 8025140}\n",
        "15\n",
        "{"
       ]
      },
      {
       "output_type": "stream",
       "stream": "stdout",
       "text": [
        "u'by': u'vegabook',\n",
        " u'id': 8025035,\n",
        " u'kids': [8025067, 8025106, 8025155, 8025585, 8025102, 8025044],\n",
        " u'parent': 8024800,\n",
        " u'text': u'Can we try to keep (the deeply discretited) Hayek and the Chicago school, not to mention over-complicated philosophical jargon out of the argument? I would content that you should liberate yourself from the received wisdom of your philosophy course, and think for yourself.<p>The issue is simple: is protection of local industry justified in the face of globalization. Obliquely (not orthogonally), are local businesses adding social value, or is lowest cost the absolute and only barometer of utility. Only once we have answered these questions can we decide if Amazon is correct or not, and it is not going to help to cite a bunch of dead people, who, in my opinion, are very clearly responsible for the ills of our current society.<p>Far better, citing The Economist Style Guide, &quot;think what you want to say, then say it as simply as possible&quot;.',\n",
        " u'time': 1405183853,\n",
        " u'type': u'comment'}\n",
        "16\n",
        "{"
       ]
      },
      {
       "output_type": "stream",
       "stream": "stdout",
       "text": [
        "u'by': u'vegabook',\n",
        " u'id': 8477416,\n",
        " u'kids': [8477548, 8477472],\n",
        " u'parent': 8477385,\n",
        " u'text': u'This is going to be H U G E.<p>Stats about one&#x27;s own selflessness etc would be really cool. Or even aggregated stuff. X% is selfish, Deciles of goodness etc.',\n",
        " u'time': 1413699963,\n",
        " u'type': u'comment'}\n",
        "1\n",
        "{"
       ]
      },
      {
       "output_type": "stream",
       "stream": "stdout",
       "text": [
        "u'by': u'vegabook',\n",
        " u'id': 8468278,\n",
        " u'parent': 8467680,\n",
        " u'text': u'Okay nobody seriously looks at Apple as a panel manufacturer, unless you (and Apple) are referring to the fact that the company has a stake in Sharp. The plant and expertise required to build panels is clean room stuff that AAPL just does not do. It does industrial design and software. Not &quot;manufacturing of screens&quot; so the point is clear. Android&#x27;s skin is distant enough from Java and Linux that it can credibly be called a creation of Google. Just as Audi can say it built the car without having to credit the inventor of the internal combustion engine, and instructing a supplier to build a part to its specifications is hardly &quot;manufacturing&quot; it. It is &quot;specifying&quot; it. As every Apple product owner knows: &quot;Designed in California, MADE in China&quot;. In this case, made in Japan&#x2F;korea. As such, &quot;we manufacture&quot; is skirting close to the edge of a lie if &quot;we&quot; is spoken at an Apple branded press conference with no mention whatsoever of partners.',\n",
        " u'time': 1413499137,\n",
        " u'type': u'comment'}\n",
        "2\n",
        "{"
       ]
      },
      {
       "output_type": "stream",
       "stream": "stdout",
       "text": [
        "u'by': u'vegabook',\n",
        " u'id': 8468190,\n",
        " u'kids': [8470154, 8468427, 8468741],\n",
        " u'parent': 8467333,\n",
        " u'text': u'auto-correlated downvote trend on a perfectly reasonable point: AAPL is not very innovative as Dell is launching the same monitor. Sure the driver logic might have been the subject of some consulting but if anybody thinks it will not appear within weeks on competitor brands they&#x27;re kidding themselves. Everything about this display is <i>not</i> proprietary AAPL tech.',\n",
        " u'time': 1413498290,\n",
        " u'type': u'comment'}\n",
        "3\n",
        "{"
       ]
      },
      {
       "output_type": "stream",
       "stream": "stdout",
       "text": [
        "u'deleted': True,\n",
        " u'id': 8467842,\n",
        " u'parent': 8466437,\n",
        " u'time': 1413494647,\n",
        " u'type': u'comment'}\n",
        "4\n",
        "{"
       ]
      },
      {
       "output_type": "stream",
       "stream": "stdout",
       "text": [
        "u'by': u'vegabook',\n",
        " u'id': 8458842,\n",
        " u'parent': 8458339,\n",
        " u'text': u'Ready Steady (govt) Grant!<p>&quot;Partners in industry and goverment&quot;. Translation: 10 years to product (but hey, prototype in 5) so please give us lots of dough. It&#x27;s the technology of the future and always has been.',\n",
        " u'time': 1413386166,\n",
        " u'type': u'comment'}\n",
        "5\n",
        "{"
       ]
      },
      {
       "output_type": "stream",
       "stream": "stdout",
       "text": [
        "u'by': u'vegabook',\n",
        " u'id': 8417877,\n",
        " u'parent': 8417803,\n",
        " u'text': u'yes I can see the need to manage the narrative. But this is bad management of the narrative, because a clearly emotional CEO is letting his anger show, instead of, as you clearly point out, being dignified and making a concise statement of the facts. The statement is not concise (in itself showing a tendency towards a rant), nor does it display the necessary humility towards an employee, who, no matter his faults, no longer has a job (unlike the CEO).',\n",
        " u'time': 1412625390,\n",
        " u'type': u'comment'}\n",
        "6\n",
        "{"
       ]
      },
      {
       "output_type": "stream",
       "stream": "stdout",
       "text": [
        "u'by': u'vegabook',\n",
        " u'id': 8417858,\n",
        " u'parent': 8417757,\n",
        " u'text': u'This is an ugly affair, like firings always are. Perhaps an &quot;official&quot; response was necessary to &quot;manage the narrative&quot; as someone above commented, but I can&#x27;t help but agree that the mud is rubbing off on the CEO here, mainly because of the tone. Badly handled.',\n",
        " u'time': 1412625161,\n",
        " u'type': u'comment'}\n",
        "7\n",
        "{"
       ]
      },
      {
       "output_type": "stream",
       "stream": "stdout",
       "text": [
        "u'by': u'vegabook',\n",
        " u'id': 8417763,\n",
        " u'kids': [8417803, 8417800],\n",
        " u'parent': 8417718,\n",
        " u'text': u'Most importantly, none of these statements should be made in public. The company stands to gain much more with a dignified silence and a personal explanation to the hapless individual, than by wringing the dirty laundry out in public. That an individual employee is immature &#x2F; causes a stink, happens every second of every day. That a company CEO does the same is unacceptably poor management, and poor PR.',\n",
        " u'time': 1412624053,\n",
        " u'type': u'comment'}\n",
        "8\n",
        "{"
       ]
      },
      {
       "output_type": "stream",
       "stream": "stdout",
       "text": [
        "u'by': u'vegabook',\n",
        " u'id': 8260695,\n",
        " u'parent': 8258607,\n",
        " u'text': u'30-50 years is surely &quot;forever&quot; even in snail mail terms. 1000 years? Wow now we&#x27;re talking about an era-defining technology for civilization itself! I&#x27;m going to go with your lower bound: if email lasts largely unchanged for 30 years, then it will have been the most important application of the internet era.',\n",
        " u'time': 1409699341,\n",
        " u'type': u'comment'}\n",
        "9\n",
        "{"
       ]
      },
      {
       "output_type": "stream",
       "stream": "stdout",
       "text": [
        "u'by': u'vegabook',\n",
        " u'id': 8186882,\n",
        " u'parent': 8186821,\n",
        " u'text': u'Any favourite books&#x2F;resources on the above?',\n",
        " u'time': 1408211086,\n",
        " u'type': u'comment'}\n",
        "10\n",
        "{"
       ]
      },
      {
       "output_type": "stream",
       "stream": "stdout",
       "text": [
        "u'by': u'vegabook',\n",
        " u'id': 8184002,\n",
        " u'kids': [8186028, 8184907],\n",
        " u'parent': 8182991,\n",
        " u'text': u'ah but descent is such a luxury! Zen comes only from knowing when it is time to <i>ascend</i> the gradient, there to find new descending vistas that made the old valley look like a mountain!<p>would that all problems were so conveniently convex.',\n",
        " u'time': 1408134558,\n",
        " u'type': u'comment'}\n",
        "11\n",
        "{"
       ]
      },
      {
       "output_type": "stream",
       "stream": "stdout",
       "text": [
        "u'by': u'vegabook',\n",
        " u'id': 8041226,\n",
        " u'kids': [8042457],\n",
        " u'parent': 8041020,\n",
        " u'text': u'yep I&#x27;ll acknowledge that, yet iCloud is still sluggish and unreliable. That won&#x27;t cut it with big business for whom IBM&#x27;s availability guarantees and service level agreements are much more rigorous. I don&#x27;t think anybody has ever taken apple seriously at enterprise level robustness, is my point, and pointing to itunes and imessage is not going to persuade anybody who&#x27;s running a multinational bank (or other mission critical application) that they can bet their terminals on IOS, without a partnership with a player which has proved for over 50 years that it is capable of delivering said reliability. Let&#x27;s be honest. Imessage and iTunes are <i>not</i> mission critical to anybody in any way and thus do not do much to persuade any responsible corporate IT director, which is the target audience of this agreement.',\n",
        " u'time': 1405502535,\n",
        " u'type': u'comment'}\n",
        "12\n",
        "{"
       ]
      },
      {
       "output_type": "stream",
       "stream": "stdout",
       "text": [
        "u'by': u'vegabook',\n",
        " u'id': 8040803,\n",
        " u'kids': [8041020, 8040826, 8040999],\n",
        " u'parent': 8040786,\n",
        " u'text': u'IBM has always pitched availability and throughput for multinational-class computing. This is something Apple has singularly failed at, just look at iCloud which is still sluggish and lacking in robustness. It seems to me that Apple user endpoint (terminal?) hardware with IBM service guarantees and availability in the back end works really well. Also while I agree that this is just another IBM partner, it&#x27;s quite interesting to see how even the mainstream press is giving this partnership announcement a lot of front page visibility, suggesting it will be noticed by the corporate decision makers too.',\n",
        " u'time': 1405491579,\n",
        " u'type': u'comment'}\n",
        "13\n",
        "{"
       ]
      },
      {
       "output_type": "stream",
       "stream": "stdout",
       "text": [
        "u'by': u'vegabook',\n",
        " u'id': 8025149,\n",
        " u'parent': 8025106,\n",
        " u'text': u'Clearly the point is that Amazon is also a global business, and therefore, through economies of scale, is able to dominate businesses that are small or purely local. Moreover arguably it has monopoly power, exacerbating the issue futher. It is clear that you have not thought this through.',\n",
        " u'time': 1405185866,\n",
        " u'type': u'comment'}\n",
        "14\n",
        "{"
       ]
      },
      {
       "output_type": "stream",
       "stream": "stdout",
       "text": [
        "u'deleted': True, u'id': 8025140}\n",
        "15\n",
        "{"
       ]
      },
      {
       "output_type": "stream",
       "stream": "stdout",
       "text": [
        "u'by': u'vegabook',\n",
        " u'id': 8025035,\n",
        " u'kids': [8025067, 8025106, 8025155, 8025585, 8025102, 8025044],\n",
        " u'parent': 8024800,\n",
        " u'text': u'Can we try to keep (the deeply discretited) Hayek and the Chicago school, not to mention over-complicated philosophical jargon out of the argument? I would content that you should liberate yourself from the received wisdom of your philosophy course, and think for yourself.<p>The issue is simple: is protection of local industry justified in the face of globalization. Obliquely (not orthogonally), are local businesses adding social value, or is lowest cost the absolute and only barometer of utility. Only once we have answered these questions can we decide if Amazon is correct or not, and it is not going to help to cite a bunch of dead people, who, in my opinion, are very clearly responsible for the ills of our current society.<p>Far better, citing The Economist Style Guide, &quot;think what you want to say, then say it as simply as possible&quot;.',\n",
        " u'time': 1405183853,\n",
        " u'type': u'comment'}\n",
        "16\n",
        "{"
       ]
      },
      {
       "output_type": "stream",
       "stream": "stdout",
       "text": [
        "u'by': u'vegabook',\n",
        " u'id': 8477416,\n",
        " u'kids': [8477548, 8477472],\n",
        " u'parent': 8477385,\n",
        " u'text': u'This is going to be H U G E.<p>Stats about one&#x27;s own selflessness etc would be really cool. Or even aggregated stuff. X% is selfish, Deciles of goodness etc.',\n",
        " u'time': 1413699963,\n",
        " u'type': u'comment'}\n",
        "1\n",
        "{"
       ]
      },
      {
       "output_type": "stream",
       "stream": "stdout",
       "text": [
        "u'by': u'vegabook',\n",
        " u'id': 8468278,\n",
        " u'parent': 8467680,\n",
        " u'text': u'Okay nobody seriously looks at Apple as a panel manufacturer, unless you (and Apple) are referring to the fact that the company has a stake in Sharp. The plant and expertise required to build panels is clean room stuff that AAPL just does not do. It does industrial design and software. Not &quot;manufacturing of screens&quot; so the point is clear. Android&#x27;s skin is distant enough from Java and Linux that it can credibly be called a creation of Google. Just as Audi can say it built the car without having to credit the inventor of the internal combustion engine, and instructing a supplier to build a part to its specifications is hardly &quot;manufacturing&quot; it. It is &quot;specifying&quot; it. As every Apple product owner knows: &quot;Designed in California, MADE in China&quot;. In this case, made in Japan&#x2F;korea. As such, &quot;we manufacture&quot; is skirting close to the edge of a lie if &quot;we&quot; is spoken at an Apple branded press conference with no mention whatsoever of partners.',\n",
        " u'time': 1413499137,\n",
        " u'type': u'comment'}\n",
        "2\n",
        "{"
       ]
      },
      {
       "output_type": "stream",
       "stream": "stdout",
       "text": [
        "u'by': u'vegabook',\n",
        " u'id': 8468190,\n",
        " u'kids': [8470154, 8468427, 8468741],\n",
        " u'parent': 8467333,\n",
        " u'text': u'auto-correlated downvote trend on a perfectly reasonable point: AAPL is not very innovative as Dell is launching the same monitor. Sure the driver logic might have been the subject of some consulting but if anybody thinks it will not appear within weeks on competitor brands they&#x27;re kidding themselves. Everything about this display is <i>not</i> proprietary AAPL tech.',\n",
        " u'time': 1413498290,\n",
        " u'type': u'comment'}\n",
        "3\n",
        "{"
       ]
      },
      {
       "output_type": "stream",
       "stream": "stdout",
       "text": [
        "u'deleted': True,\n",
        " u'id': 8467842,\n",
        " u'parent': 8466437,\n",
        " u'time': 1413494647,\n",
        " u'type': u'comment'}\n",
        "4\n",
        "{"
       ]
      },
      {
       "output_type": "stream",
       "stream": "stdout",
       "text": [
        "u'by': u'vegabook',\n",
        " u'id': 8458842,\n",
        " u'parent': 8458339,\n",
        " u'text': u'Ready Steady (govt) Grant!<p>&quot;Partners in industry and goverment&quot;. Translation: 10 years to product (but hey, prototype in 5) so please give us lots of dough. It&#x27;s the technology of the future and always has been.',\n",
        " u'time': 1413386166,\n",
        " u'type': u'comment'}\n",
        "5\n",
        "{"
       ]
      },
      {
       "output_type": "stream",
       "stream": "stdout",
       "text": [
        "u'by': u'vegabook',\n",
        " u'id': 8417877,\n",
        " u'parent': 8417803,\n",
        " u'text': u'yes I can see the need to manage the narrative. But this is bad management of the narrative, because a clearly emotional CEO is letting his anger show, instead of, as you clearly point out, being dignified and making a concise statement of the facts. The statement is not concise (in itself showing a tendency towards a rant), nor does it display the necessary humility towards an employee, who, no matter his faults, no longer has a job (unlike the CEO).',\n",
        " u'time': 1412625390,\n",
        " u'type': u'comment'}\n",
        "6\n",
        "{"
       ]
      },
      {
       "output_type": "stream",
       "stream": "stdout",
       "text": [
        "u'by': u'vegabook',\n",
        " u'id': 8417858,\n",
        " u'parent': 8417757,\n",
        " u'text': u'This is an ugly affair, like firings always are. Perhaps an &quot;official&quot; response was necessary to &quot;manage the narrative&quot; as someone above commented, but I can&#x27;t help but agree that the mud is rubbing off on the CEO here, mainly because of the tone. Badly handled.',\n",
        " u'time': 1412625161,\n",
        " u'type': u'comment'}\n",
        "7\n",
        "{"
       ]
      },
      {
       "output_type": "stream",
       "stream": "stdout",
       "text": [
        "u'by': u'vegabook',\n",
        " u'id': 8417763,\n",
        " u'kids': [8417803, 8417800],\n",
        " u'parent': 8417718,\n",
        " u'text': u'Most importantly, none of these statements should be made in public. The company stands to gain much more with a dignified silence and a personal explanation to the hapless individual, than by wringing the dirty laundry out in public. That an individual employee is immature &#x2F; causes a stink, happens every second of every day. That a company CEO does the same is unacceptably poor management, and poor PR.',\n",
        " u'time': 1412624053,\n",
        " u'type': u'comment'}\n",
        "8\n",
        "{"
       ]
      },
      {
       "output_type": "stream",
       "stream": "stdout",
       "text": [
        "u'by': u'vegabook',\n",
        " u'id': 8260695,\n",
        " u'parent': 8258607,\n",
        " u'text': u'30-50 years is surely &quot;forever&quot; even in snail mail terms. 1000 years? Wow now we&#x27;re talking about an era-defining technology for civilization itself! I&#x27;m going to go with your lower bound: if email lasts largely unchanged for 30 years, then it will have been the most important application of the internet era.',\n",
        " u'time': 1409699341,\n",
        " u'type': u'comment'}\n",
        "9\n",
        "{"
       ]
      },
      {
       "output_type": "stream",
       "stream": "stdout",
       "text": [
        "u'by': u'vegabook',\n",
        " u'id': 8186882,\n",
        " u'parent': 8186821,\n",
        " u'text': u'Any favourite books&#x2F;resources on the above?',\n",
        " u'time': 1408211086,\n",
        " u'type': u'comment'}\n",
        "10\n",
        "{"
       ]
      },
      {
       "output_type": "stream",
       "stream": "stdout",
       "text": [
        "u'by': u'vegabook',\n",
        " u'id': 8184002,\n",
        " u'kids': [8186028, 8184907],\n",
        " u'parent': 8182991,\n",
        " u'text': u'ah but descent is such a luxury! Zen comes only from knowing when it is time to <i>ascend</i> the gradient, there to find new descending vistas that made the old valley look like a mountain!<p>would that all problems were so conveniently convex.',\n",
        " u'time': 1408134558,\n",
        " u'type': u'comment'}\n",
        "11\n",
        "{"
       ]
      },
      {
       "output_type": "stream",
       "stream": "stdout",
       "text": [
        "u'by': u'vegabook',\n",
        " u'id': 8041226,\n",
        " u'kids': [8042457],\n",
        " u'parent': 8041020,\n",
        " u'text': u'yep I&#x27;ll acknowledge that, yet iCloud is still sluggish and unreliable. That won&#x27;t cut it with big business for whom IBM&#x27;s availability guarantees and service level agreements are much more rigorous. I don&#x27;t think anybody has ever taken apple seriously at enterprise level robustness, is my point, and pointing to itunes and imessage is not going to persuade anybody who&#x27;s running a multinational bank (or other mission critical application) that they can bet their terminals on IOS, without a partnership with a player which has proved for over 50 years that it is capable of delivering said reliability. Let&#x27;s be honest. Imessage and iTunes are <i>not</i> mission critical to anybody in any way and thus do not do much to persuade any responsible corporate IT director, which is the target audience of this agreement.',\n",
        " u'time': 1405502535,\n",
        " u'type': u'comment'}\n",
        "12\n",
        "{"
       ]
      },
      {
       "output_type": "stream",
       "stream": "stdout",
       "text": [
        "u'by': u'vegabook',\n",
        " u'id': 8040803,\n",
        " u'kids': [8041020, 8040826, 8040999],\n",
        " u'parent': 8040786,\n",
        " u'text': u'IBM has always pitched availability and throughput for multinational-class computing. This is something Apple has singularly failed at, just look at iCloud which is still sluggish and lacking in robustness. It seems to me that Apple user endpoint (terminal?) hardware with IBM service guarantees and availability in the back end works really well. Also while I agree that this is just another IBM partner, it&#x27;s quite interesting to see how even the mainstream press is giving this partnership announcement a lot of front page visibility, suggesting it will be noticed by the corporate decision makers too.',\n",
        " u'time': 1405491579,\n",
        " u'type': u'comment'}\n",
        "13\n",
        "{"
       ]
      },
      {
       "output_type": "stream",
       "stream": "stdout",
       "text": [
        "u'by': u'vegabook',\n",
        " u'id': 8025149,\n",
        " u'parent': 8025106,\n",
        " u'text': u'Clearly the point is that Amazon is also a global business, and therefore, through economies of scale, is able to dominate businesses that are small or purely local. Moreover arguably it has monopoly power, exacerbating the issue futher. It is clear that you have not thought this through.',\n",
        " u'time': 1405185866,\n",
        " u'type': u'comment'}\n",
        "14\n",
        "{"
       ]
      },
      {
       "output_type": "stream",
       "stream": "stdout",
       "text": [
        "u'deleted': True, u'id': 8025140}\n",
        "15\n",
        "{"
       ]
      },
      {
       "output_type": "stream",
       "stream": "stdout",
       "text": [
        "u'by': u'vegabook',\n",
        " u'id': 8025035,\n",
        " u'kids': [8025067, 8025106, 8025155, 8025585, 8025102, 8025044],\n",
        " u'parent': 8024800,\n",
        " u'text': u'Can we try to keep (the deeply discretited) Hayek and the Chicago school, not to mention over-complicated philosophical jargon out of the argument? I would content that you should liberate yourself from the received wisdom of your philosophy course, and think for yourself.<p>The issue is simple: is protection of local industry justified in the face of globalization. Obliquely (not orthogonally), are local businesses adding social value, or is lowest cost the absolute and only barometer of utility. Only once we have answered these questions can we decide if Amazon is correct or not, and it is not going to help to cite a bunch of dead people, who, in my opinion, are very clearly responsible for the ills of our current society.<p>Far better, citing The Economist Style Guide, &quot;think what you want to say, then say it as simply as possible&quot;.',\n",
        " u'time': 1405183853,\n",
        " u'type': u'comment'}\n",
        "16\n",
        "{"
       ]
      },
      {
       "output_type": "stream",
       "stream": "stdout",
       "text": [
        "u'by': u'vegabook',\n",
        " u'id': 8477416,\n",
        " u'kids': [8477548, 8477472],\n",
        " u'parent': 8477385,\n",
        " u'text': u'This is going to be H U G E.<p>Stats about one&#x27;s own selflessness etc would be really cool. Or even aggregated stuff. X% is selfish, Deciles of goodness etc.',\n",
        " u'time': 1413699963,\n",
        " u'type': u'comment'}\n",
        "1\n",
        "{"
       ]
      },
      {
       "output_type": "stream",
       "stream": "stdout",
       "text": [
        "u'by': u'vegabook',\n",
        " u'id': 8468278,\n",
        " u'parent': 8467680,\n",
        " u'text': u'Okay nobody seriously looks at Apple as a panel manufacturer, unless you (and Apple) are referring to the fact that the company has a stake in Sharp. The plant and expertise required to build panels is clean room stuff that AAPL just does not do. It does industrial design and software. Not &quot;manufacturing of screens&quot; so the point is clear. Android&#x27;s skin is distant enough from Java and Linux that it can credibly be called a creation of Google. Just as Audi can say it built the car without having to credit the inventor of the internal combustion engine, and instructing a supplier to build a part to its specifications is hardly &quot;manufacturing&quot; it. It is &quot;specifying&quot; it. As every Apple product owner knows: &quot;Designed in California, MADE in China&quot;. In this case, made in Japan&#x2F;korea. As such, &quot;we manufacture&quot; is skirting close to the edge of a lie if &quot;we&quot; is spoken at an Apple branded press conference with no mention whatsoever of partners.',\n",
        " u'time': 1413499137,\n",
        " u'type': u'comment'}\n",
        "2\n",
        "{"
       ]
      },
      {
       "output_type": "stream",
       "stream": "stdout",
       "text": [
        "u'by': u'vegabook',\n",
        " u'id': 8468190,\n",
        " u'kids': [8470154, 8468427, 8468741],\n",
        " u'parent': 8467333,\n",
        " u'text': u'auto-correlated downvote trend on a perfectly reasonable point: AAPL is not very innovative as Dell is launching the same monitor. Sure the driver logic might have been the subject of some consulting but if anybody thinks it will not appear within weeks on competitor brands they&#x27;re kidding themselves. Everything about this display is <i>not</i> proprietary AAPL tech.',\n",
        " u'time': 1413498290,\n",
        " u'type': u'comment'}\n",
        "3\n",
        "{"
       ]
      },
      {
       "output_type": "stream",
       "stream": "stdout",
       "text": [
        "u'deleted': True,\n",
        " u'id': 8467842,\n",
        " u'parent': 8466437,\n",
        " u'time': 1413494647,\n",
        " u'type': u'comment'}\n",
        "4\n",
        "{"
       ]
      },
      {
       "output_type": "stream",
       "stream": "stdout",
       "text": [
        "u'by': u'vegabook',\n",
        " u'id': 8458842,\n",
        " u'parent': 8458339,\n",
        " u'text': u'Ready Steady (govt) Grant!<p>&quot;Partners in industry and goverment&quot;. Translation: 10 years to product (but hey, prototype in 5) so please give us lots of dough. It&#x27;s the technology of the future and always has been.',\n",
        " u'time': 1413386166,\n",
        " u'type': u'comment'}\n",
        "5\n",
        "{"
       ]
      },
      {
       "output_type": "stream",
       "stream": "stdout",
       "text": [
        "u'by': u'vegabook',\n",
        " u'id': 8417877,\n",
        " u'parent': 8417803,\n",
        " u'text': u'yes I can see the need to manage the narrative. But this is bad management of the narrative, because a clearly emotional CEO is letting his anger show, instead of, as you clearly point out, being dignified and making a concise statement of the facts. The statement is not concise (in itself showing a tendency towards a rant), nor does it display the necessary humility towards an employee, who, no matter his faults, no longer has a job (unlike the CEO).',\n",
        " u'time': 1412625390,\n",
        " u'type': u'comment'}\n",
        "6\n",
        "{"
       ]
      },
      {
       "output_type": "stream",
       "stream": "stdout",
       "text": [
        "u'by': u'vegabook',\n",
        " u'id': 8417858,\n",
        " u'parent': 8417757,\n",
        " u'text': u'This is an ugly affair, like firings always are. Perhaps an &quot;official&quot; response was necessary to &quot;manage the narrative&quot; as someone above commented, but I can&#x27;t help but agree that the mud is rubbing off on the CEO here, mainly because of the tone. Badly handled.',\n",
        " u'time': 1412625161,\n",
        " u'type': u'comment'}\n",
        "7\n",
        "{"
       ]
      },
      {
       "output_type": "stream",
       "stream": "stdout",
       "text": [
        "u'by': u'vegabook',\n",
        " u'id': 8417763,\n",
        " u'kids': [8417803, 8417800],\n",
        " u'parent': 8417718,\n",
        " u'text': u'Most importantly, none of these statements should be made in public. The company stands to gain much more with a dignified silence and a personal explanation to the hapless individual, than by wringing the dirty laundry out in public. That an individual employee is immature &#x2F; causes a stink, happens every second of every day. That a company CEO does the same is unacceptably poor management, and poor PR.',\n",
        " u'time': 1412624053,\n",
        " u'type': u'comment'}\n",
        "8\n",
        "{"
       ]
      },
      {
       "output_type": "stream",
       "stream": "stdout",
       "text": [
        "u'by': u'vegabook',\n",
        " u'id': 8260695,\n",
        " u'parent': 8258607,\n",
        " u'text': u'30-50 years is surely &quot;forever&quot; even in snail mail terms. 1000 years? Wow now we&#x27;re talking about an era-defining technology for civilization itself! I&#x27;m going to go with your lower bound: if email lasts largely unchanged for 30 years, then it will have been the most important application of the internet era.',\n",
        " u'time': 1409699341,\n",
        " u'type': u'comment'}\n",
        "9\n",
        "{"
       ]
      },
      {
       "output_type": "stream",
       "stream": "stdout",
       "text": [
        "u'by': u'vegabook',\n",
        " u'id': 8186882,\n",
        " u'parent': 8186821,\n",
        " u'text': u'Any favourite books&#x2F;resources on the above?',\n",
        " u'time': 1408211086,\n",
        " u'type': u'comment'}\n",
        "10\n",
        "{"
       ]
      },
      {
       "output_type": "stream",
       "stream": "stdout",
       "text": [
        "u'by': u'vegabook',\n",
        " u'id': 8184002,\n",
        " u'kids': [8186028, 8184907],\n",
        " u'parent': 8182991,\n",
        " u'text': u'ah but descent is such a luxury! Zen comes only from knowing when it is time to <i>ascend</i> the gradient, there to find new descending vistas that made the old valley look like a mountain!<p>would that all problems were so conveniently convex.',\n",
        " u'time': 1408134558,\n",
        " u'type': u'comment'}\n",
        "11\n",
        "{"
       ]
      },
      {
       "output_type": "stream",
       "stream": "stdout",
       "text": [
        "u'by': u'vegabook',\n",
        " u'id': 8041226,\n",
        " u'kids': [8042457],\n",
        " u'parent': 8041020,\n",
        " u'text': u'yep I&#x27;ll acknowledge that, yet iCloud is still sluggish and unreliable. That won&#x27;t cut it with big business for whom IBM&#x27;s availability guarantees and service level agreements are much more rigorous. I don&#x27;t think anybody has ever taken apple seriously at enterprise level robustness, is my point, and pointing to itunes and imessage is not going to persuade anybody who&#x27;s running a multinational bank (or other mission critical application) that they can bet their terminals on IOS, without a partnership with a player which has proved for over 50 years that it is capable of delivering said reliability. Let&#x27;s be honest. Imessage and iTunes are <i>not</i> mission critical to anybody in any way and thus do not do much to persuade any responsible corporate IT director, which is the target audience of this agreement.',\n",
        " u'time': 1405502535,\n",
        " u'type': u'comment'}\n",
        "12\n",
        "{"
       ]
      },
      {
       "output_type": "stream",
       "stream": "stdout",
       "text": [
        "u'by': u'vegabook',\n",
        " u'id': 8040803,\n",
        " u'kids': [8041020, 8040826, 8040999],\n",
        " u'parent': 8040786,\n",
        " u'text': u'IBM has always pitched availability and throughput for multinational-class computing. This is something Apple has singularly failed at, just look at iCloud which is still sluggish and lacking in robustness. It seems to me that Apple user endpoint (terminal?) hardware with IBM service guarantees and availability in the back end works really well. Also while I agree that this is just another IBM partner, it&#x27;s quite interesting to see how even the mainstream press is giving this partnership announcement a lot of front page visibility, suggesting it will be noticed by the corporate decision makers too.',\n",
        " u'time': 1405491579,\n",
        " u'type': u'comment'}\n",
        "13\n",
        "{"
       ]
      },
      {
       "output_type": "stream",
       "stream": "stdout",
       "text": [
        "u'by': u'vegabook',\n",
        " u'id': 8025149,\n",
        " u'parent': 8025106,\n",
        " u'text': u'Clearly the point is that Amazon is also a global business, and therefore, through economies of scale, is able to dominate businesses that are small or purely local. Moreover arguably it has monopoly power, exacerbating the issue futher. It is clear that you have not thought this through.',\n",
        " u'time': 1405185866,\n",
        " u'type': u'comment'}\n",
        "14\n",
        "{"
       ]
      },
      {
       "output_type": "stream",
       "stream": "stdout",
       "text": [
        "u'deleted': True, u'id': 8025140}\n",
        "15\n",
        "{"
       ]
      },
      {
       "output_type": "stream",
       "stream": "stdout",
       "text": [
        "u'by': u'vegabook',\n",
        " u'id': 8025035,\n",
        " u'kids': [8025067, 8025106, 8025155, 8025585, 8025102, 8025044],\n",
        " u'parent': 8024800,\n",
        " u'text': u'Can we try to keep (the deeply discretited) Hayek and the Chicago school, not to mention over-complicated philosophical jargon out of the argument? I would content that you should liberate yourself from the received wisdom of your philosophy course, and think for yourself.<p>The issue is simple: is protection of local industry justified in the face of globalization. Obliquely (not orthogonally), are local businesses adding social value, or is lowest cost the absolute and only barometer of utility. Only once we have answered these questions can we decide if Amazon is correct or not, and it is not going to help to cite a bunch of dead people, who, in my opinion, are very clearly responsible for the ills of our current society.<p>Far better, citing The Economist Style Guide, &quot;think what you want to say, then say it as simply as possible&quot;.',\n",
        " u'time': 1405183853,\n",
        " u'type': u'comment'}\n",
        "16\n",
        "{"
       ]
      },
      {
       "output_type": "stream",
       "stream": "stdout",
       "text": [
        "u'by': u'vegabook',\n",
        " u'id': 8477416,\n",
        " u'kids': [8477548, 8477472],\n",
        " u'parent': 8477385,\n",
        " u'text': u'This is going to be H U G E.<p>Stats about one&#x27;s own selflessness etc would be really cool. Or even aggregated stuff. X% is selfish, Deciles of goodness etc.',\n",
        " u'time': 1413699963,\n",
        " u'type': u'comment'}\n",
        "1\n",
        "{"
       ]
      },
      {
       "output_type": "stream",
       "stream": "stdout",
       "text": [
        "u'by': u'vegabook',\n",
        " u'id': 8468278,\n",
        " u'parent': 8467680,\n",
        " u'text': u'Okay nobody seriously looks at Apple as a panel manufacturer, unless you (and Apple) are referring to the fact that the company has a stake in Sharp. The plant and expertise required to build panels is clean room stuff that AAPL just does not do. It does industrial design and software. Not &quot;manufacturing of screens&quot; so the point is clear. Android&#x27;s skin is distant enough from Java and Linux that it can credibly be called a creation of Google. Just as Audi can say it built the car without having to credit the inventor of the internal combustion engine, and instructing a supplier to build a part to its specifications is hardly &quot;manufacturing&quot; it. It is &quot;specifying&quot; it. As every Apple product owner knows: &quot;Designed in California, MADE in China&quot;. In this case, made in Japan&#x2F;korea. As such, &quot;we manufacture&quot; is skirting close to the edge of a lie if &quot;we&quot; is spoken at an Apple branded press conference with no mention whatsoever of partners.',\n",
        " u'time': 1413499137,\n",
        " u'type': u'comment'}\n",
        "2\n",
        "{"
       ]
      },
      {
       "output_type": "stream",
       "stream": "stdout",
       "text": [
        "u'by': u'vegabook',\n",
        " u'id': 8468190,\n",
        " u'kids': [8470154, 8468427, 8468741],\n",
        " u'parent': 8467333,\n",
        " u'text': u'auto-correlated downvote trend on a perfectly reasonable point: AAPL is not very innovative as Dell is launching the same monitor. Sure the driver logic might have been the subject of some consulting but if anybody thinks it will not appear within weeks on competitor brands they&#x27;re kidding themselves. Everything about this display is <i>not</i> proprietary AAPL tech.',\n",
        " u'time': 1413498290,\n",
        " u'type': u'comment'}\n",
        "3\n",
        "{"
       ]
      },
      {
       "output_type": "stream",
       "stream": "stdout",
       "text": [
        "u'deleted': True,\n",
        " u'id': 8467842,\n",
        " u'parent': 8466437,\n",
        " u'time': 1413494647,\n",
        " u'type': u'comment'}\n",
        "4\n",
        "{"
       ]
      },
      {
       "output_type": "stream",
       "stream": "stdout",
       "text": [
        "u'by': u'vegabook',\n",
        " u'id': 8458842,\n",
        " u'parent': 8458339,\n",
        " u'text': u'Ready Steady (govt) Grant!<p>&quot;Partners in industry and goverment&quot;. Translation: 10 years to product (but hey, prototype in 5) so please give us lots of dough. It&#x27;s the technology of the future and always has been.',\n",
        " u'time': 1413386166,\n",
        " u'type': u'comment'}\n",
        "5\n",
        "{"
       ]
      },
      {
       "output_type": "stream",
       "stream": "stdout",
       "text": [
        "u'by': u'vegabook',\n",
        " u'id': 8417877,\n",
        " u'parent': 8417803,\n",
        " u'text': u'yes I can see the need to manage the narrative. But this is bad management of the narrative, because a clearly emotional CEO is letting his anger show, instead of, as you clearly point out, being dignified and making a concise statement of the facts. The statement is not concise (in itself showing a tendency towards a rant), nor does it display the necessary humility towards an employee, who, no matter his faults, no longer has a job (unlike the CEO).',\n",
        " u'time': 1412625390,\n",
        " u'type': u'comment'}\n",
        "6\n",
        "{"
       ]
      },
      {
       "output_type": "stream",
       "stream": "stdout",
       "text": [
        "u'by': u'vegabook',\n",
        " u'id': 8417858,\n",
        " u'parent': 8417757,\n",
        " u'text': u'This is an ugly affair, like firings always are. Perhaps an &quot;official&quot; response was necessary to &quot;manage the narrative&quot; as someone above commented, but I can&#x27;t help but agree that the mud is rubbing off on the CEO here, mainly because of the tone. Badly handled.',\n",
        " u'time': 1412625161,\n",
        " u'type': u'comment'}\n",
        "7\n",
        "{"
       ]
      },
      {
       "output_type": "stream",
       "stream": "stdout",
       "text": [
        "u'by': u'vegabook',\n",
        " u'id': 8417763,\n",
        " u'kids': [8417803, 8417800],\n",
        " u'parent': 8417718,\n",
        " u'text': u'Most importantly, none of these statements should be made in public. The company stands to gain much more with a dignified silence and a personal explanation to the hapless individual, than by wringing the dirty laundry out in public. That an individual employee is immature &#x2F; causes a stink, happens every second of every day. That a company CEO does the same is unacceptably poor management, and poor PR.',\n",
        " u'time': 1412624053,\n",
        " u'type': u'comment'}\n",
        "8\n",
        "{"
       ]
      },
      {
       "output_type": "stream",
       "stream": "stdout",
       "text": [
        "u'by': u'vegabook',\n",
        " u'id': 8260695,\n",
        " u'parent': 8258607,\n",
        " u'text': u'30-50 years is surely &quot;forever&quot; even in snail mail terms. 1000 years? Wow now we&#x27;re talking about an era-defining technology for civilization itself! I&#x27;m going to go with your lower bound: if email lasts largely unchanged for 30 years, then it will have been the most important application of the internet era.',\n",
        " u'time': 1409699341,\n",
        " u'type': u'comment'}\n",
        "9\n",
        "{"
       ]
      },
      {
       "output_type": "stream",
       "stream": "stdout",
       "text": [
        "u'by': u'vegabook',\n",
        " u'id': 8186882,\n",
        " u'parent': 8186821,\n",
        " u'text': u'Any favourite books&#x2F;resources on the above?',\n",
        " u'time': 1408211086,\n",
        " u'type': u'comment'}\n",
        "10\n",
        "{"
       ]
      },
      {
       "output_type": "stream",
       "stream": "stdout",
       "text": [
        "u'by': u'vegabook',\n",
        " u'id': 8184002,\n",
        " u'kids': [8186028, 8184907],\n",
        " u'parent': 8182991,\n",
        " u'text': u'ah but descent is such a luxury! Zen comes only from knowing when it is time to <i>ascend</i> the gradient, there to find new descending vistas that made the old valley look like a mountain!<p>would that all problems were so conveniently convex.',\n",
        " u'time': 1408134558,\n",
        " u'type': u'comment'}\n",
        "11\n",
        "{"
       ]
      },
      {
       "output_type": "stream",
       "stream": "stdout",
       "text": [
        "u'by': u'vegabook',\n",
        " u'id': 8041226,\n",
        " u'kids': [8042457],\n",
        " u'parent': 8041020,\n",
        " u'text': u'yep I&#x27;ll acknowledge that, yet iCloud is still sluggish and unreliable. That won&#x27;t cut it with big business for whom IBM&#x27;s availability guarantees and service level agreements are much more rigorous. I don&#x27;t think anybody has ever taken apple seriously at enterprise level robustness, is my point, and pointing to itunes and imessage is not going to persuade anybody who&#x27;s running a multinational bank (or other mission critical application) that they can bet their terminals on IOS, without a partnership with a player which has proved for over 50 years that it is capable of delivering said reliability. Let&#x27;s be honest. Imessage and iTunes are <i>not</i> mission critical to anybody in any way and thus do not do much to persuade any responsible corporate IT director, which is the target audience of this agreement.',\n",
        " u'time': 1405502535,\n",
        " u'type': u'comment'}\n",
        "12\n",
        "{"
       ]
      },
      {
       "output_type": "stream",
       "stream": "stdout",
       "text": [
        "u'by': u'vegabook',\n",
        " u'id': 8040803,\n",
        " u'kids': [8041020, 8040826, 8040999],\n",
        " u'parent': 8040786,\n",
        " u'text': u'IBM has always pitched availability and throughput for multinational-class computing. This is something Apple has singularly failed at, just look at iCloud which is still sluggish and lacking in robustness. It seems to me that Apple user endpoint (terminal?) hardware with IBM service guarantees and availability in the back end works really well. Also while I agree that this is just another IBM partner, it&#x27;s quite interesting to see how even the mainstream press is giving this partnership announcement a lot of front page visibility, suggesting it will be noticed by the corporate decision makers too.',\n",
        " u'time': 1405491579,\n",
        " u'type': u'comment'}\n",
        "13\n",
        "{"
       ]
      },
      {
       "output_type": "stream",
       "stream": "stdout",
       "text": [
        "u'by': u'vegabook',\n",
        " u'id': 8025149,\n",
        " u'parent': 8025106,\n",
        " u'text': u'Clearly the point is that Amazon is also a global business, and therefore, through economies of scale, is able to dominate businesses that are small or purely local. Moreover arguably it has monopoly power, exacerbating the issue futher. It is clear that you have not thought this through.',\n",
        " u'time': 1405185866,\n",
        " u'type': u'comment'}\n",
        "14\n",
        "{"
       ]
      },
      {
       "output_type": "stream",
       "stream": "stdout",
       "text": [
        "u'deleted': True, u'id': 8025140}\n",
        "15\n",
        "{"
       ]
      },
      {
       "output_type": "stream",
       "stream": "stdout",
       "text": [
        "u'by': u'vegabook',\n",
        " u'id': 8025035,\n",
        " u'kids': [8025067, 8025106, 8025155, 8025585, 8025102, 8025044],\n",
        " u'parent': 8024800,\n",
        " u'text': u'Can we try to keep (the deeply discretited) Hayek and the Chicago school, not to mention over-complicated philosophical jargon out of the argument? I would content that you should liberate yourself from the received wisdom of your philosophy course, and think for yourself.<p>The issue is simple: is protection of local industry justified in the face of globalization. Obliquely (not orthogonally), are local businesses adding social value, or is lowest cost the absolute and only barometer of utility. Only once we have answered these questions can we decide if Amazon is correct or not, and it is not going to help to cite a bunch of dead people, who, in my opinion, are very clearly responsible for the ills of our current society.<p>Far better, citing The Economist Style Guide, &quot;think what you want to say, then say it as simply as possible&quot;.',\n",
        " u'time': 1405183853,\n",
        " u'type': u'comment'}\n",
        "16\n",
        "{"
       ]
      },
      {
       "output_type": "stream",
       "stream": "stdout",
       "text": [
        "u'by': u'vegabook',\n",
        " u'id': 8477416,\n",
        " u'kids': [8477548, 8477472],\n",
        " u'parent': 8477385,\n",
        " u'text': u'This is going to be H U G E.<p>Stats about one&#x27;s own selflessness etc would be really cool. Or even aggregated stuff. X% is selfish, Deciles of goodness etc.',\n",
        " u'time': 1413699963,\n",
        " u'type': u'comment'}\n",
        "1\n",
        "{"
       ]
      },
      {
       "output_type": "stream",
       "stream": "stdout",
       "text": [
        "u'by': u'vegabook',\n",
        " u'id': 8468278,\n",
        " u'parent': 8467680,\n",
        " u'text': u'Okay nobody seriously looks at Apple as a panel manufacturer, unless you (and Apple) are referring to the fact that the company has a stake in Sharp. The plant and expertise required to build panels is clean room stuff that AAPL just does not do. It does industrial design and software. Not &quot;manufacturing of screens&quot; so the point is clear. Android&#x27;s skin is distant enough from Java and Linux that it can credibly be called a creation of Google. Just as Audi can say it built the car without having to credit the inventor of the internal combustion engine, and instructing a supplier to build a part to its specifications is hardly &quot;manufacturing&quot; it. It is &quot;specifying&quot; it. As every Apple product owner knows: &quot;Designed in California, MADE in China&quot;. In this case, made in Japan&#x2F;korea. As such, &quot;we manufacture&quot; is skirting close to the edge of a lie if &quot;we&quot; is spoken at an Apple branded press conference with no mention whatsoever of partners.',\n",
        " u'time': 1413499137,\n",
        " u'type': u'comment'}\n",
        "2\n",
        "{"
       ]
      },
      {
       "output_type": "stream",
       "stream": "stdout",
       "text": [
        "u'by': u'vegabook',\n",
        " u'id': 8468190,\n",
        " u'kids': [8470154, 8468427, 8468741],\n",
        " u'parent': 8467333,\n",
        " u'text': u'auto-correlated downvote trend on a perfectly reasonable point: AAPL is not very innovative as Dell is launching the same monitor. Sure the driver logic might have been the subject of some consulting but if anybody thinks it will not appear within weeks on competitor brands they&#x27;re kidding themselves. Everything about this display is <i>not</i> proprietary AAPL tech.',\n",
        " u'time': 1413498290,\n",
        " u'type': u'comment'}\n",
        "3\n",
        "{"
       ]
      },
      {
       "output_type": "stream",
       "stream": "stdout",
       "text": [
        "u'deleted': True,\n",
        " u'id': 8467842,\n",
        " u'parent': 8466437,\n",
        " u'time': 1413494647,\n",
        " u'type': u'comment'}\n",
        "4\n",
        "{"
       ]
      },
      {
       "output_type": "stream",
       "stream": "stdout",
       "text": [
        "u'by': u'vegabook',\n",
        " u'id': 8458842,\n",
        " u'parent': 8458339,\n",
        " u'text': u'Ready Steady (govt) Grant!<p>&quot;Partners in industry and goverment&quot;. Translation: 10 years to product (but hey, prototype in 5) so please give us lots of dough. It&#x27;s the technology of the future and always has been.',\n",
        " u'time': 1413386166,\n",
        " u'type': u'comment'}\n",
        "5\n",
        "{"
       ]
      },
      {
       "output_type": "stream",
       "stream": "stdout",
       "text": [
        "u'by': u'vegabook',\n",
        " u'id': 8417877,\n",
        " u'parent': 8417803,\n",
        " u'text': u'yes I can see the need to manage the narrative. But this is bad management of the narrative, because a clearly emotional CEO is letting his anger show, instead of, as you clearly point out, being dignified and making a concise statement of the facts. The statement is not concise (in itself showing a tendency towards a rant), nor does it display the necessary humility towards an employee, who, no matter his faults, no longer has a job (unlike the CEO).',\n",
        " u'time': 1412625390,\n",
        " u'type': u'comment'}\n",
        "6\n",
        "{"
       ]
      },
      {
       "output_type": "stream",
       "stream": "stdout",
       "text": [
        "u'by': u'vegabook',\n",
        " u'id': 8417858,\n",
        " u'parent': 8417757,\n",
        " u'text': u'This is an ugly affair, like firings always are. Perhaps an &quot;official&quot; response was necessary to &quot;manage the narrative&quot; as someone above commented, but I can&#x27;t help but agree that the mud is rubbing off on the CEO here, mainly because of the tone. Badly handled.',\n",
        " u'time': 1412625161,\n",
        " u'type': u'comment'}\n",
        "7\n",
        "{"
       ]
      },
      {
       "output_type": "stream",
       "stream": "stdout",
       "text": [
        "u'by': u'vegabook',\n",
        " u'id': 8417763,\n",
        " u'kids': [8417803, 8417800],\n",
        " u'parent': 8417718,\n",
        " u'text': u'Most importantly, none of these statements should be made in public. The company stands to gain much more with a dignified silence and a personal explanation to the hapless individual, than by wringing the dirty laundry out in public. That an individual employee is immature &#x2F; causes a stink, happens every second of every day. That a company CEO does the same is unacceptably poor management, and poor PR.',\n",
        " u'time': 1412624053,\n",
        " u'type': u'comment'}\n",
        "8\n",
        "{"
       ]
      },
      {
       "output_type": "stream",
       "stream": "stdout",
       "text": [
        "u'by': u'vegabook',\n",
        " u'id': 8260695,\n",
        " u'parent': 8258607,\n",
        " u'text': u'30-50 years is surely &quot;forever&quot; even in snail mail terms. 1000 years? Wow now we&#x27;re talking about an era-defining technology for civilization itself! I&#x27;m going to go with your lower bound: if email lasts largely unchanged for 30 years, then it will have been the most important application of the internet era.',\n",
        " u'time': 1409699341,\n",
        " u'type': u'comment'}\n",
        "9\n",
        "{"
       ]
      },
      {
       "output_type": "stream",
       "stream": "stdout",
       "text": [
        "u'by': u'vegabook',\n",
        " u'id': 8186882,\n",
        " u'parent': 8186821,\n",
        " u'text': u'Any favourite books&#x2F;resources on the above?',\n",
        " u'time': 1408211086,\n",
        " u'type': u'comment'}\n",
        "10\n",
        "{"
       ]
      },
      {
       "output_type": "stream",
       "stream": "stdout",
       "text": [
        "u'by': u'vegabook',\n",
        " u'id': 8184002,\n",
        " u'kids': [8186028, 8184907],\n",
        " u'parent': 8182991,\n",
        " u'text': u'ah but descent is such a luxury! Zen comes only from knowing when it is time to <i>ascend</i> the gradient, there to find new descending vistas that made the old valley look like a mountain!<p>would that all problems were so conveniently convex.',\n",
        " u'time': 1408134558,\n",
        " u'type': u'comment'}\n",
        "11\n",
        "{"
       ]
      },
      {
       "output_type": "stream",
       "stream": "stdout",
       "text": [
        "u'by': u'vegabook',\n",
        " u'id': 8041226,\n",
        " u'kids': [8042457],\n",
        " u'parent': 8041020,\n",
        " u'text': u'yep I&#x27;ll acknowledge that, yet iCloud is still sluggish and unreliable. That won&#x27;t cut it with big business for whom IBM&#x27;s availability guarantees and service level agreements are much more rigorous. I don&#x27;t think anybody has ever taken apple seriously at enterprise level robustness, is my point, and pointing to itunes and imessage is not going to persuade anybody who&#x27;s running a multinational bank (or other mission critical application) that they can bet their terminals on IOS, without a partnership with a player which has proved for over 50 years that it is capable of delivering said reliability. Let&#x27;s be honest. Imessage and iTunes are <i>not</i> mission critical to anybody in any way and thus do not do much to persuade any responsible corporate IT director, which is the target audience of this agreement.',\n",
        " u'time': 1405502535,\n",
        " u'type': u'comment'}\n",
        "12\n",
        "{"
       ]
      },
      {
       "output_type": "stream",
       "stream": "stdout",
       "text": [
        "u'by': u'vegabook',\n",
        " u'id': 8040803,\n",
        " u'kids': [8041020, 8040826, 8040999],\n",
        " u'parent': 8040786,\n",
        " u'text': u'IBM has always pitched availability and throughput for multinational-class computing. This is something Apple has singularly failed at, just look at iCloud which is still sluggish and lacking in robustness. It seems to me that Apple user endpoint (terminal?) hardware with IBM service guarantees and availability in the back end works really well. Also while I agree that this is just another IBM partner, it&#x27;s quite interesting to see how even the mainstream press is giving this partnership announcement a lot of front page visibility, suggesting it will be noticed by the corporate decision makers too.',\n",
        " u'time': 1405491579,\n",
        " u'type': u'comment'}\n",
        "13\n",
        "{"
       ]
      },
      {
       "output_type": "stream",
       "stream": "stdout",
       "text": [
        "u'by': u'vegabook',\n",
        " u'id': 8025149,\n",
        " u'parent': 8025106,\n",
        " u'text': u'Clearly the point is that Amazon is also a global business, and therefore, through economies of scale, is able to dominate businesses that are small or purely local. Moreover arguably it has monopoly power, exacerbating the issue futher. It is clear that you have not thought this through.',\n",
        " u'time': 1405185866,\n",
        " u'type': u'comment'}\n",
        "14\n",
        "{"
       ]
      },
      {
       "output_type": "stream",
       "stream": "stdout",
       "text": [
        "u'deleted': True, u'id': 8025140}\n",
        "15\n",
        "{"
       ]
      },
      {
       "output_type": "stream",
       "stream": "stdout",
       "text": [
        "u'by': u'vegabook',\n",
        " u'id': 8025035,\n",
        " u'kids': [8025067, 8025106, 8025155, 8025585, 8025102, 8025044],\n",
        " u'parent': 8024800,\n",
        " u'text': u'Can we try to keep (the deeply discretited) Hayek and the Chicago school, not to mention over-complicated philosophical jargon out of the argument? I would content that you should liberate yourself from the received wisdom of your philosophy course, and think for yourself.<p>The issue is simple: is protection of local industry justified in the face of globalization. Obliquely (not orthogonally), are local businesses adding social value, or is lowest cost the absolute and only barometer of utility. Only once we have answered these questions can we decide if Amazon is correct or not, and it is not going to help to cite a bunch of dead people, who, in my opinion, are very clearly responsible for the ills of our current society.<p>Far better, citing The Economist Style Guide, &quot;think what you want to say, then say it as simply as possible&quot;.',\n",
        " u'time': 1405183853,\n",
        " u'type': u'comment'}\n",
        "16\n",
        "{"
       ]
      },
      {
       "output_type": "stream",
       "stream": "stdout",
       "text": [
        "u'by': u'vegabook',\n",
        " u'id': 8477416,\n",
        " u'kids': [8477548, 8477472],\n",
        " u'parent': 8477385,\n",
        " u'text': u'This is going to be H U G E.<p>Stats about one&#x27;s own selflessness etc would be really cool. Or even aggregated stuff. X% is selfish, Deciles of goodness etc.',\n",
        " u'time': 1413699963,\n",
        " u'type': u'comment'}\n",
        "1\n",
        "{"
       ]
      },
      {
       "output_type": "stream",
       "stream": "stdout",
       "text": [
        "u'by': u'vegabook',\n",
        " u'id': 8468278,\n",
        " u'parent': 8467680,\n",
        " u'text': u'Okay nobody seriously looks at Apple as a panel manufacturer, unless you (and Apple) are referring to the fact that the company has a stake in Sharp. The plant and expertise required to build panels is clean room stuff that AAPL just does not do. It does industrial design and software. Not &quot;manufacturing of screens&quot; so the point is clear. Android&#x27;s skin is distant enough from Java and Linux that it can credibly be called a creation of Google. Just as Audi can say it built the car without having to credit the inventor of the internal combustion engine, and instructing a supplier to build a part to its specifications is hardly &quot;manufacturing&quot; it. It is &quot;specifying&quot; it. As every Apple product owner knows: &quot;Designed in California, MADE in China&quot;. In this case, made in Japan&#x2F;korea. As such, &quot;we manufacture&quot; is skirting close to the edge of a lie if &quot;we&quot; is spoken at an Apple branded press conference with no mention whatsoever of partners.',\n",
        " u'time': 1413499137,\n",
        " u'type': u'comment'}\n",
        "2\n",
        "{"
       ]
      },
      {
       "output_type": "stream",
       "stream": "stdout",
       "text": [
        "u'by': u'vegabook',\n",
        " u'id': 8468190,\n",
        " u'kids': [8470154, 8468427, 8468741],\n",
        " u'parent': 8467333,\n",
        " u'text': u'auto-correlated downvote trend on a perfectly reasonable point: AAPL is not very innovative as Dell is launching the same monitor. Sure the driver logic might have been the subject of some consulting but if anybody thinks it will not appear within weeks on competitor brands they&#x27;re kidding themselves. Everything about this display is <i>not</i> proprietary AAPL tech.',\n",
        " u'time': 1413498290,\n",
        " u'type': u'comment'}\n",
        "3\n",
        "{"
       ]
      },
      {
       "output_type": "stream",
       "stream": "stdout",
       "text": [
        "u'deleted': True,\n",
        " u'id': 8467842,\n",
        " u'parent': 8466437,\n",
        " u'time': 1413494647,\n",
        " u'type': u'comment'}\n",
        "4\n",
        "{"
       ]
      },
      {
       "output_type": "stream",
       "stream": "stdout",
       "text": [
        "u'by': u'vegabook',\n",
        " u'id': 8458842,\n",
        " u'parent': 8458339,\n",
        " u'text': u'Ready Steady (govt) Grant!<p>&quot;Partners in industry and goverment&quot;. Translation: 10 years to product (but hey, prototype in 5) so please give us lots of dough. It&#x27;s the technology of the future and always has been.',\n",
        " u'time': 1413386166,\n",
        " u'type': u'comment'}\n",
        "5\n",
        "{"
       ]
      },
      {
       "output_type": "stream",
       "stream": "stdout",
       "text": [
        "u'by': u'vegabook',\n",
        " u'id': 8417877,\n",
        " u'parent': 8417803,\n",
        " u'text': u'yes I can see the need to manage the narrative. But this is bad management of the narrative, because a clearly emotional CEO is letting his anger show, instead of, as you clearly point out, being dignified and making a concise statement of the facts. The statement is not concise (in itself showing a tendency towards a rant), nor does it display the necessary humility towards an employee, who, no matter his faults, no longer has a job (unlike the CEO).',\n",
        " u'time': 1412625390,\n",
        " u'type': u'comment'}\n",
        "6\n",
        "{"
       ]
      },
      {
       "output_type": "stream",
       "stream": "stdout",
       "text": [
        "u'by': u'vegabook',\n",
        " u'id': 8417858,\n",
        " u'parent': 8417757,\n",
        " u'text': u'This is an ugly affair, like firings always are. Perhaps an &quot;official&quot; response was necessary to &quot;manage the narrative&quot; as someone above commented, but I can&#x27;t help but agree that the mud is rubbing off on the CEO here, mainly because of the tone. Badly handled.',\n",
        " u'time': 1412625161,\n",
        " u'type': u'comment'}\n",
        "7\n",
        "{"
       ]
      },
      {
       "output_type": "stream",
       "stream": "stdout",
       "text": [
        "u'by': u'vegabook',\n",
        " u'id': 8417763,\n",
        " u'kids': [8417803, 8417800],\n",
        " u'parent': 8417718,\n",
        " u'text': u'Most importantly, none of these statements should be made in public. The company stands to gain much more with a dignified silence and a personal explanation to the hapless individual, than by wringing the dirty laundry out in public. That an individual employee is immature &#x2F; causes a stink, happens every second of every day. That a company CEO does the same is unacceptably poor management, and poor PR.',\n",
        " u'time': 1412624053,\n",
        " u'type': u'comment'}\n",
        "8\n",
        "{"
       ]
      },
      {
       "output_type": "stream",
       "stream": "stdout",
       "text": [
        "u'by': u'vegabook',\n",
        " u'id': 8260695,\n",
        " u'parent': 8258607,\n",
        " u'text': u'30-50 years is surely &quot;forever&quot; even in snail mail terms. 1000 years? Wow now we&#x27;re talking about an era-defining technology for civilization itself! I&#x27;m going to go with your lower bound: if email lasts largely unchanged for 30 years, then it will have been the most important application of the internet era.',\n",
        " u'time': 1409699341,\n",
        " u'type': u'comment'}\n",
        "9\n",
        "{"
       ]
      },
      {
       "output_type": "stream",
       "stream": "stdout",
       "text": [
        "u'by': u'vegabook',\n",
        " u'id': 8186882,\n",
        " u'parent': 8186821,\n",
        " u'text': u'Any favourite books&#x2F;resources on the above?',\n",
        " u'time': 1408211086,\n",
        " u'type': u'comment'}\n",
        "10\n",
        "{"
       ]
      },
      {
       "output_type": "stream",
       "stream": "stdout",
       "text": [
        "u'by': u'vegabook',\n",
        " u'id': 8184002,\n",
        " u'kids': [8186028, 8184907],\n",
        " u'parent': 8182991,\n",
        " u'text': u'ah but descent is such a luxury! Zen comes only from knowing when it is time to <i>ascend</i> the gradient, there to find new descending vistas that made the old valley look like a mountain!<p>would that all problems were so conveniently convex.',\n",
        " u'time': 1408134558,\n",
        " u'type': u'comment'}\n",
        "11\n",
        "{"
       ]
      },
      {
       "output_type": "stream",
       "stream": "stdout",
       "text": [
        "u'by': u'vegabook',\n",
        " u'id': 8041226,\n",
        " u'kids': [8042457],\n",
        " u'parent': 8041020,\n",
        " u'text': u'yep I&#x27;ll acknowledge that, yet iCloud is still sluggish and unreliable. That won&#x27;t cut it with big business for whom IBM&#x27;s availability guarantees and service level agreements are much more rigorous. I don&#x27;t think anybody has ever taken apple seriously at enterprise level robustness, is my point, and pointing to itunes and imessage is not going to persuade anybody who&#x27;s running a multinational bank (or other mission critical application) that they can bet their terminals on IOS, without a partnership with a player which has proved for over 50 years that it is capable of delivering said reliability. Let&#x27;s be honest. Imessage and iTunes are <i>not</i> mission critical to anybody in any way and thus do not do much to persuade any responsible corporate IT director, which is the target audience of this agreement.',\n",
        " u'time': 1405502535,\n",
        " u'type': u'comment'}\n",
        "12\n",
        "{"
       ]
      },
      {
       "output_type": "stream",
       "stream": "stdout",
       "text": [
        "u'by': u'vegabook',\n",
        " u'id': 8040803,\n",
        " u'kids': [8041020, 8040826, 8040999],\n",
        " u'parent': 8040786,\n",
        " u'text': u'IBM has always pitched availability and throughput for multinational-class computing. This is something Apple has singularly failed at, just look at iCloud which is still sluggish and lacking in robustness. It seems to me that Apple user endpoint (terminal?) hardware with IBM service guarantees and availability in the back end works really well. Also while I agree that this is just another IBM partner, it&#x27;s quite interesting to see how even the mainstream press is giving this partnership announcement a lot of front page visibility, suggesting it will be noticed by the corporate decision makers too.',\n",
        " u'time': 1405491579,\n",
        " u'type': u'comment'}\n",
        "13\n",
        "{"
       ]
      },
      {
       "output_type": "stream",
       "stream": "stdout",
       "text": [
        "u'by': u'vegabook',\n",
        " u'id': 8025149,\n",
        " u'parent': 8025106,\n",
        " u'text': u'Clearly the point is that Amazon is also a global business, and therefore, through economies of scale, is able to dominate businesses that are small or purely local. Moreover arguably it has monopoly power, exacerbating the issue futher. It is clear that you have not thought this through.',\n",
        " u'time': 1405185866,\n",
        " u'type': u'comment'}\n",
        "14\n",
        "{"
       ]
      },
      {
       "output_type": "stream",
       "stream": "stdout",
       "text": [
        "u'deleted': True, u'id': 8025140}\n",
        "15\n",
        "{"
       ]
      },
      {
       "output_type": "stream",
       "stream": "stdout",
       "text": [
        "u'by': u'vegabook',\n",
        " u'id': 8025035,\n",
        " u'kids': [8025067, 8025106, 8025155, 8025585, 8025102, 8025044],\n",
        " u'parent': 8024800,\n",
        " u'text': u'Can we try to keep (the deeply discretited) Hayek and the Chicago school, not to mention over-complicated philosophical jargon out of the argument? I would content that you should liberate yourself from the received wisdom of your philosophy course, and think for yourself.<p>The issue is simple: is protection of local industry justified in the face of globalization. Obliquely (not orthogonally), are local businesses adding social value, or is lowest cost the absolute and only barometer of utility. Only once we have answered these questions can we decide if Amazon is correct or not, and it is not going to help to cite a bunch of dead people, who, in my opinion, are very clearly responsible for the ills of our current society.<p>Far better, citing The Economist Style Guide, &quot;think what you want to say, then say it as simply as possible&quot;.',\n",
        " u'time': 1405183853,\n",
        " u'type': u'comment'}\n",
        "16\n"
       ]
      }
     ],
     "prompt_number": 80
    },
    {
     "cell_type": "code",
     "collapsed": false,
     "input": [
      "item['text']"
     ],
     "language": "python",
     "metadata": {},
     "outputs": [
      {
       "metadata": {},
       "output_type": "pyout",
       "prompt_number": 5,
       "text": [
        "u'Nothing too specific. I read this article last week and found it appalling: <a href=\"http://www.forbes.com/sites/jeffbercovici/2014/08/07/what-its-like-raising-money-as-a-woman-in-tech/\" rel=\"nofollow\">http:&#x2F;&#x2F;www.forbes.com&#x2F;sites&#x2F;jeffbercovici&#x2F;2014&#x2F;08&#x2F;07&#x2F;what-it...</a>'"
       ]
      }
     ],
     "prompt_number": 5
    },
    {
     "cell_type": "code",
     "collapsed": false,
     "input": [
      "user['submitted']"
     ],
     "language": "python",
     "metadata": {},
     "outputs": [
      {
       "metadata": {},
       "output_type": "pyout",
       "prompt_number": 21,
       "text": [
        "[8477416,\n",
        " 8468278,\n",
        " 8468190,\n",
        " 8467842,\n",
        " 8458842,\n",
        " 8417877,\n",
        " 8417858,\n",
        " 8417763,\n",
        " 8260695,\n",
        " 8186882,\n",
        " 8184002,\n",
        " 8041226,\n",
        " 8040803,\n",
        " 8025149,\n",
        " 8025140,\n",
        " 8025035]"
       ]
      }
     ],
     "prompt_number": 21
    },
    {
     "cell_type": "code",
     "collapsed": false,
     "input": [],
     "language": "python",
     "metadata": {},
     "outputs": [],
     "prompt_number": 75
    },
    {
     "cell_type": "code",
     "collapsed": false,
     "input": [
      "test = [str(vegabook[0]['text'])]\n",
      "test"
     ],
     "language": "python",
     "metadata": {},
     "outputs": [
      {
       "metadata": {},
       "output_type": "pyout",
       "prompt_number": 76,
       "text": [
        "['This is going to be H U G E.<p>Stats about one&#x27;s own selflessness etc would be really cool. Or even aggregated stuff. X% is selfish, Deciles of goodness etc.']"
       ]
      }
     ],
     "prompt_number": 76
    },
    {
     "cell_type": "code",
     "collapsed": false,
     "input": [
      "test_vect = vect.transform(test)\n",
      "test"
     ],
     "language": "python",
     "metadata": {},
     "outputs": [
      {
       "metadata": {},
       "output_type": "pyout",
       "prompt_number": 77,
       "text": [
        "['This is going to be H U G E.<p>Stats about one&#x27;s own selflessness etc would be really cool. Or even aggregated stuff. X% is selfish, Deciles of goodness etc.']"
       ]
      }
     ],
     "prompt_number": 77
    },
    {
     "cell_type": "code",
     "collapsed": false,
     "input": [
      "\n",
      "test_badwords_count = []\n",
      "\n",
      "for el in test:\n",
      "    tokens = el.split(' ')\n",
      "    test_badwords_count.append(len([i for i in tokens if i.lower() in badwords]))\n",
      "    \n",
      "test_n_words = [len(c.split()) for c in test]\n",
      "test_allcaps = [np.sum([w.isupper() for w in comment.split()]) for comment in test]\n",
      "test_allcaps_ratio = np.array(test_allcaps) / np.array(test_n_words, dtype=np.float)\n",
      "test_bad_ratio = np.array(test_badwords_count) / np.array(test_n_words, dtype=np.float)\n",
      "test_exclamation = [c.count(\"!\") for c in test]\n",
      "test_addressing = [c.count(\"@\") for c in test]\n",
      "test_spaces = [c.count(\" \") for c in test]\n",
      "\n",
      "test_reshaped_badwords = np.array(test_badwords_count).reshape((len(test_badwords_count),1))\n",
      "test_reshaped_n_words = np.array(test_n_words).reshape((len(test_badwords_count),1))\n",
      "test_reshaped_allcaps = np.array(test_allcaps).reshape((len(test_badwords_count),1))\n",
      "test_reshaped_allcaps_ratio = np.array(test_allcaps_ratio).reshape((len(test_badwords_count),1))\n",
      "test_reshaped_bad_ratio = np.array(test_bad_ratio).reshape((len(test_badwords_count),1))\n",
      "test_reshaped_exclamation = np.array(test_exclamation).reshape((len(test_badwords_count),1))\n",
      "test_reshaped_addressing = np.array(test_addressing).reshape((len(test_badwords_count),1))\n",
      "test_reshaped_spaces = np.array(test_spaces).reshape((len(test_badwords_count),1))\n",
      "\n",
      "X_test_transform = np.hstack((test_vect.todense(), test_reshaped_badwords))\n",
      "X_test_transform = np.hstack((X_test_transform, test_reshaped_n_words))\n",
      "X_test_transform = np.hstack((X_test_transform, test_reshaped_allcaps))\n",
      "X_test_transform = np.hstack((X_test_transform, test_reshaped_allcaps_ratio))\n",
      "X_test_transform = np.hstack((X_test_transform, test_reshaped_bad_ratio))\n",
      "X_test_transform = np.hstack((X_test_transform, test_reshaped_exclamation))\n",
      "X_test_transform = np.hstack((X_test_transform, test_reshaped_addressing))\n",
      "X_test_transform = np.hstack((X_test_transform, test_reshaped_spaces))\n",
      "\n"
     ],
     "language": "python",
     "metadata": {},
     "outputs": [],
     "prompt_number": 78
    },
    {
     "cell_type": "code",
     "collapsed": false,
     "input": [
      "clf.predict_proba(X_test_transform)[0]"
     ],
     "language": "python",
     "metadata": {},
     "outputs": [
      {
       "metadata": {},
       "output_type": "pyout",
       "prompt_number": 79,
       "text": [
        "array([ 0.9694236,  0.0305764])"
       ]
      }
     ],
     "prompt_number": 79
    },
    {
     "cell_type": "code",
     "collapsed": false,
     "input": [],
     "language": "python",
     "metadata": {},
     "outputs": []
    }
   ],
   "metadata": {}
  }
 ]
}